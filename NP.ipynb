{
 "cells": [
  {
   "cell_type": "code",
   "execution_count": 1,
   "metadata": {},
   "outputs": [
    {
     "name": "stderr",
     "output_type": "stream",
     "text": [
      "Using TensorFlow backend.\n"
     ]
    }
   ],
   "source": [
    "from keras import backend as K\n",
    "import tensorflow as tf\n",
    "from math import ceil\n",
    "import numpy as np\n",
    "import math\n",
    "from ssd_encoder_decoder.matching_utils import match_bipartite_greedy32\n",
    "from bounding_box_utils.bounding_box_utils import iou_float, convert_coordinates\n",
    "import timeit\n",
    "import numpy as np"
   ]
  },
  {
   "cell_type": "code",
   "execution_count": 2,
   "metadata": {},
   "outputs": [],
   "source": [
    "def np_intersection_area_(boxes1, boxes2, coords='corners', mode='outer_product', border_pixels='half'):\n",
    "    '''\n",
    "    The same as 'intersection_area()' but for internal use, i.e. without all the safety checks.\n",
    "    '''\n",
    "\n",
    "    m = boxes1.shape[0] # The number of boxes in `boxes1`\n",
    "    n = boxes2.shape[0] # The number of boxes in `boxes2`\n",
    "\n",
    "    # Set the correct coordinate indices for the respective formats.\n",
    "    xmin = 0\n",
    "    ymin = 1\n",
    "    xmax = 2\n",
    "    ymax = 3\n",
    "    \n",
    "    d = 0\n",
    "    # Compute the intersection areas.    \n",
    "    \n",
    "    min_xy = np.maximum(np.tile(np.expand_dims(boxes1[:,[xmin,ymin]], axis=1), reps=(1, n, 1)),\n",
    "                        np.tile(np.expand_dims(boxes2[:,[xmin,ymin]], axis=0), reps=(m, 1, 1)))\n",
    "\n",
    "    # For all possible box combinations, get the smaller xmax and ymax values.\n",
    "    # This is a tensor of shape (m,n,2).\n",
    "    max_xy = np.minimum(np.tile(np.expand_dims(boxes1[:,[xmax,ymax]], axis=1), reps=(1, n, 1)),\n",
    "                        np.tile(np.expand_dims(boxes2[:,[xmax,ymax]], axis=0), reps=(m, 1, 1)))\n",
    "    \n",
    "    # Compute the side lengths of the intersection rectangles.\n",
    "    side_lengths = np.maximum(0, max_xy - min_xy + d)\n",
    "    return side_lengths[:,:,0] * side_lengths[:,:,1]"
   ]
  },
  {
   "cell_type": "code",
   "execution_count": 3,
   "metadata": {},
   "outputs": [],
   "source": [
    "def iou_float(boxes1, boxes2, coords='centroids', mode='outer_product', border_pixels='half'):\n",
    "\n",
    "    intersection_areas = np_intersection_area_(boxes1, boxes2, coords=coords, mode=mode)\n",
    "    \n",
    "    m = boxes1.shape[0] # The number of boxes in `boxes1`\n",
    "    n = boxes2.shape[0] # The number of boxes in `boxes2`\n",
    "\n",
    "    # Compute the union areas.\n",
    "\n",
    "    # Set the correct coordinate indices for the respective formats.\n",
    "    xmin = 0\n",
    "    ymin = 1\n",
    "    xmax = 2\n",
    "    ymax = 3\n",
    "\n",
    "    if border_pixels == 'half':\n",
    "        d = 0\n",
    "    elif border_pixels == 'include':\n",
    "        d = 1 # If border pixels are supposed to belong to the bounding boxes, we have to add one pixel to any difference `xmax - xmin` or `ymax - ymin`.\n",
    "    elif border_pixels == 'exclude':\n",
    "        d = -1 # If border pixels are not supposed to belong to the bounding boxes, we have to subtract one pixel from any difference `xmax - xmin` or `ymax - ymin`.\n",
    "\n",
    "    if mode == 'outer_product':\n",
    "\n",
    "        boxes1_areas = np.tile(np.expand_dims((boxes1[:,xmax] - boxes1[:,xmin] + d) * (boxes1[:,ymax] - boxes1[:,ymin] + d), axis=1), reps=(1,n))\n",
    "        boxes2_areas = np.tile(np.expand_dims((boxes2[:,xmax] - boxes2[:,xmin] + d) * (boxes2[:,ymax] - boxes2[:,ymin] + d), axis=0), reps=(m,1))\n",
    "\n",
    "    elif mode == 'element-wise':\n",
    "\n",
    "        boxes1_areas = (boxes1[:,xmax] - boxes1[:,xmin] + d) * (boxes1[:,ymax] - boxes1[:,ymin] + d)\n",
    "        boxes2_areas = (boxes2[:,xmax] - boxes2[:,xmin] + d) * (boxes2[:,ymax] - boxes2[:,ymin] + d)\n",
    "\n",
    "    union_areas = boxes1_areas + boxes2_areas - intersection_areas\n",
    "    op = intersection_areas / union_areas\n",
    "    return op.astype(np.float32)\n"
   ]
  },
  {
   "cell_type": "code",
   "execution_count": 4,
   "metadata": {},
   "outputs": [],
   "source": [
    "y = np.load('y_pred.npy')\n",
    "x = np.load('y_true.npy')\n",
    "\n",
    "f = iou_float(x,y,coords='centroids', mode='outer_product', border_pixels='half')"
   ]
  },
  {
   "cell_type": "code",
   "execution_count": 11,
   "metadata": {},
   "outputs": [],
   "source": [
    "def match_bipartite_greedy32(weight_matrix):\n",
    "\n",
    "    weight_matrix = np.copy(weight_matrix) # We'll modify this array.\n",
    "    num_ground_truth_boxes = weight_matrix.shape[0]\n",
    "    all_gt_indices = list(range(num_ground_truth_boxes)) # Only relevant for fancy-indexing below.\n",
    "    # This 1D array will contain for each ground truth box the index of\n",
    "    # the matched anchor box.\n",
    "    matches = np.zeros(num_ground_truth_boxes, dtype=np.int)\n",
    "    print(matches)\n",
    "    # In each iteration of the loop below, exactly one ground truth box\n",
    "    # will be matched to one anchor box.\n",
    "#     for _ in range(num_ground_truth_boxes):\n",
    "\n",
    "        # Find the maximal anchor-ground truth pair in two steps: First, reduce\n",
    "        # over the anchor boxes and then reduce over the ground truth boxes.\n",
    "    anchor_indices = np.argmax(weight_matrix, axis=1) # Reduce along the anchor box axis.\n",
    "    print(\"weight_matrix: \", weight_matrix)\n",
    "    print(\"all_gt_indices: \", all_gt_indices)\n",
    "    print(\"anchor_indices: \", anchor_indices)\n",
    "    print(\"weight_matrix: \", weight_matrix.shape)\n",
    "\n",
    "    overlaps = weight_matrix[all_gt_indices, anchor_indices]\n",
    "    print(\"overlaps: \", overlaps.shape)\n",
    "\n",
    "    ground_truth_index = np.argmax(overlaps) # Reduce along the ground truth box axis.\n",
    "    anchor_index = anchor_indices[ground_truth_index]\n",
    "    matches[ground_truth_index] = anchor_index # Set the match.\n",
    "\n",
    "    # Set the row of the matched ground truth box and the column of the matched\n",
    "    # anchor box to all zeros. This ensures that those boxes will not be matched again,\n",
    "    # because they will never be the best matches for any other boxes.\n",
    "    weight_matrix[ground_truth_index] = 0\n",
    "    weight_matrix[:,anchor_index] = 0\n",
    "\n",
    "    return matches.astype(np.int32)\n"
   ]
  },
  {
   "cell_type": "code",
   "execution_count": 12,
   "metadata": {},
   "outputs": [
    {
     "name": "stdout",
     "output_type": "stream",
     "text": [
      "[0 0 0 0 0 0 0 0 0 0 0 0 0 0 0 0 0 0 0 0 0 0 0 0 0 0 0 0 0 0 0 0 0 0 0 0 0\n",
      " 0 0 0 0 0 0 0 0 0 0 0 0 0]\n",
      "weight_matrix:  [[-0. -0. -0. ... -0. -0. -0.]\n",
      " [-0. -0. -0. ... -0. -0. -0.]\n",
      " [-0. -0. -0. ... -0. -0. -0.]\n",
      " ...\n",
      " [-0. -0. -0. ... -0. -0. -0.]\n",
      " [ 0. -0.  0. ... -0. -0.  0.]\n",
      " [-0. -0. -0. ... -0. -0. -0.]]\n",
      "all_gt_indices:  [0, 1, 2, 3, 4, 5, 6, 7, 8, 9, 10, 11, 12, 13, 14, 15, 16, 17, 18, 19, 20, 21, 22, 23, 24, 25, 26, 27, 28, 29, 30, 31, 32, 33, 34, 35, 36, 37, 38, 39, 40, 41, 42, 43, 44, 45, 46, 47, 48, 49]\n",
      "anchor_indices:  [ 0  0  0 16  0  0  0  0  0  0  0 35  0  0  0  0  0  0  0 33  0  0  0  0\n",
      "  0  0  0  0  0  0 16  0  0  0  0  0  0  0  0  0  0  0  0  0  0  0 16 26\n",
      " 26 35]\n",
      "weight_matrix:  (50, 50)\n",
      "overlaps:  (50,)\n"
     ]
    },
    {
     "data": {
      "text/plain": [
       "array([ 0,  0,  0,  0,  0,  0,  0,  0,  0,  0,  0,  0,  0,  0,  0,  0,  0,\n",
       "        0,  0,  0,  0,  0,  0,  0,  0,  0,  0,  0,  0,  0, 16,  0,  0,  0,\n",
       "        0,  0,  0,  0,  0,  0,  0,  0,  0,  0,  0,  0,  0,  0,  0,  0],\n",
       "      dtype=int32)"
      ]
     },
     "execution_count": 12,
     "metadata": {},
     "output_type": "execute_result"
    }
   ],
   "source": [
    "match_bipartite_greedy32(f)"
   ]
  },
  {
   "cell_type": "code",
   "execution_count": 7,
   "metadata": {},
   "outputs": [
    {
     "name": "stdout",
     "output_type": "stream",
     "text": [
      "[0 0 0 0 0 0 0 0 0 0 0 0 0 0 0 0 0 0 0 0 0 0 0 0 0 0 0 0 0 0 0 0 0 0 0 0 0\n",
      " 0 0 0 0 0 0 0 0 0 0 0 0 0]\n",
      "weight_matrix:  [[-0. -0. -0. ... -0. -0. -0.]\n",
      " [-0. -0. -0. ... -0. -0. -0.]\n",
      " [-0. -0. -0. ... -0. -0. -0.]\n",
      " ...\n",
      " [-0. -0. -0. ... -0. -0. -0.]\n",
      " [ 0. -0.  0. ... -0. -0.  0.]\n",
      " [-0. -0. -0. ... -0. -0. -0.]]\n",
      "all_gt_indices:  [0, 1, 2, 3, 4, 5, 6, 7, 8, 9, 10, 11, 12, 13, 14, 15, 16, 17, 18, 19, 20, 21, 22, 23, 24, 25, 26, 27, 28, 29, 30, 31, 32, 33, 34, 35, 36, 37, 38, 39, 40, 41, 42, 43, 44, 45, 46, 47, 48, 49]\n",
      "anchor_indices:  [ 0  0  0 16  0  0  0  0  0  0  0 35  0  0  0  0  0  0  0 33  0  0  0  0\n",
      "  0  0  0  0  0  0 16  0  0  0  0  0  0  0  0  0  0  0  0  0  0  0 16 26\n",
      " 26 35]\n",
      "overlaps:  [-0.         -0.         -0.          0.01098298 -0.         -0.\n",
      " -0.         -0.         -0.         -0.         -0.          0.13621248\n",
      " -0.          0.         -0.          0.         -0.          0.\n",
      " -0.          0.03363229 -0.         -0.         -0.         -0.\n",
      " -0.         -0.         -0.         -0.          0.         -0.\n",
      "  0.3601127   0.         -0.         -0.         -0.          0.\n",
      " -0.         -0.         -0.         -0.         -0.         -0.\n",
      " -0.         -0.         -0.          0.          0.18402968  0.04230457\n",
      "  0.12059128  0.23319319]\n"
     ]
    }
   ],
   "source": [
    "x = match_bipartite_greedy32(f)"
   ]
  },
  {
   "cell_type": "code",
   "execution_count": 8,
   "metadata": {},
   "outputs": [
    {
     "data": {
      "text/plain": [
       "0"
      ]
     },
     "execution_count": 8,
     "metadata": {},
     "output_type": "execute_result"
    }
   ],
   "source": [
    "x[1]"
   ]
  },
  {
   "cell_type": "code",
   "execution_count": null,
   "metadata": {},
   "outputs": [],
   "source": []
  }
 ],
 "metadata": {
  "kernelspec": {
   "display_name": "Python 3",
   "language": "python",
   "name": "python3"
  },
  "language_info": {
   "codemirror_mode": {
    "name": "ipython",
    "version": 3
   },
   "file_extension": ".py",
   "mimetype": "text/x-python",
   "name": "python",
   "nbconvert_exporter": "python",
   "pygments_lexer": "ipython3",
   "version": "3.5.2"
  }
 },
 "nbformat": 4,
 "nbformat_minor": 2
}
