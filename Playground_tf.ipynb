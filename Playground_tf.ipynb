{
 "cells": [
  {
   "cell_type": "code",
   "execution_count": 1,
   "metadata": {},
   "outputs": [
    {
     "name": "stderr",
     "output_type": "stream",
     "text": [
      "Using TensorFlow backend.\n"
     ]
    }
   ],
   "source": [
    "import numpy as np\n",
    "import math\n",
    "from bounding_box_utils.bounding_box_utils import iou, convert_coordinates\n",
    "from ssd_encoder_decoder.matching_utils import match_bipartite_greedy, match_multi\n",
    "import tensorflow as tf\n",
    "from keras import backend as K"
   ]
  },
  {
   "cell_type": "code",
   "execution_count": 2,
   "metadata": {},
   "outputs": [],
   "source": [
    "sess = tf.Session()\n",
    "\n",
    "K.set_session(sess)"
   ]
  },
  {
   "cell_type": "code",
   "execution_count": 3,
   "metadata": {},
   "outputs": [],
   "source": [
    "gt = np.load(\"outputs/predder.npy\")"
   ]
  },
  {
   "cell_type": "code",
   "execution_count": 4,
   "metadata": {},
   "outputs": [],
   "source": [
    "gt1 = gt[1]['predictions_1']\n",
    "gt2 = gt[1]['predictions_2']\n",
    "gt1_proj = gt[1]['predictions_1_proj_tot']\n",
    "gt2_proj = gt[1]['predictions_2_proj_tot']"
   ]
  },
  {
   "cell_type": "code",
   "execution_count": 5,
   "metadata": {},
   "outputs": [],
   "source": [
    "pred_1 = np.load(\"outputs/predictions_1_14.npy\")\n",
    "pred_1_proj = np.load(\"outputs/predictions_1_proj_14.npy\")\n",
    "pred_2 = np.load(\"outputs/predictions_2_14.npy\")\n",
    "pred_2_proj = np.load(\"outputs/predictions_2_proj_14.npy\")"
   ]
  },
  {
   "cell_type": "markdown",
   "metadata": {},
   "source": [
    "labels:  (5, 4)\n",
    "y_encoded:  (17292, 4)\n",
    "similarities:  (5, 17292)\n",
    "bipartite_matches:  (5,)\n",
    "similarities after bipartite:  (5, 17292)\n",
    "matches:  (53,)  -  (53,)\n",
    "similarities after matches:  (5, 17292)"
   ]
  },
  {
   "cell_type": "code",
   "execution_count": 56,
   "metadata": {},
   "outputs": [],
   "source": [
    "pred_1 = pred_1_proj[:,:,:18]\n",
    "gt_1 = gt1_proj[:,:,:18]\n",
    "gt_2 = gt2_proj[:,:,18:]"
   ]
  },
  {
   "cell_type": "code",
   "execution_count": 57,
   "metadata": {},
   "outputs": [],
   "source": [
    "filterer = np.where(pred_1[:,:,0]>0.5)\n",
    "filterer2 = np.where(gt_1[:,:,-1]!=99)"
   ]
  },
  {
   "cell_type": "code",
   "execution_count": 58,
   "metadata": {},
   "outputs": [],
   "source": [
    "# src = src[filterer]\n",
    "pred_1 = pred_1[0,:,:]\n",
    "gt_1 = gt_1[filterer2]\n",
    "gt_2 = gt_2[filterer2]"
   ]
  },
  {
   "cell_type": "code",
   "execution_count": 59,
   "metadata": {},
   "outputs": [
    {
     "name": "stdout",
     "output_type": "stream",
     "text": [
      "(17292, 18)\n",
      "(4, 18)\n",
      "(4, 18)\n"
     ]
    }
   ],
   "source": [
    "# src = src[0,:,:]\n",
    "print(pred_1.shape)\n",
    "print(gt_1.shape)\n",
    "print(gt_2.shape)"
   ]
  },
  {
   "cell_type": "code",
   "execution_count": null,
   "metadata": {},
   "outputs": [],
   "source": [
    "pred_2 = pred_1_proj[:,:,18:]"
   ]
  },
  {
   "cell_type": "code",
   "execution_count": null,
   "metadata": {},
   "outputs": [],
   "source": [
    "iou_out = tf.py_func(iou, [tf.convert_to_tensor(gt_1[:,-16:-12]), tf.convert_to_tensor(pred_1[:,-16:-12])], tf.float64)"
   ]
  },
  {
   "cell_type": "code",
   "execution_count": null,
   "metadata": {},
   "outputs": [],
   "source": [
    "bipartite_matches = tf.py_func(match_bipartite_greedy, [iou_out], tf.int64)\n",
    "print(K.eval(bipartite_matches).shape)"
   ]
  },
  {
   "cell_type": "code",
   "execution_count": null,
   "metadata": {},
   "outputs": [],
   "source": [
    "def finder(tensor, matches):\n",
    "    return tensor[:,matches,:]\n",
    "    "
   ]
  },
  {
   "cell_type": "code",
   "execution_count": null,
   "metadata": {},
   "outputs": [],
   "source": [
    "t = tf.py_func(finder, [tf.convert_to_tensor(pred_2),bipartite_matches], tf.float32)"
   ]
  },
  {
   "cell_type": "code",
   "execution_count": null,
   "metadata": {},
   "outputs": [],
   "source": [
    "all_elems_equal = tf.reduce_all(tf.equal(tf.shape(t)[1], tf.shape(t)[1]))"
   ]
  },
  {
   "cell_type": "code",
   "execution_count": null,
   "metadata": {},
   "outputs": [],
   "source": [
    "K.eval(all_elems_equal)"
   ]
  },
  {
   "cell_type": "code",
   "execution_count": 71,
   "metadata": {},
   "outputs": [],
   "source": [
    "y_true_1 = gt1_proj[:,:,:18]\n",
    "y_pred_1 = pred_1_proj[:,:,18:]\n",
    "y_true_2 = gt1_proj[:,:,18:]\n",
    "y_pred_2 = pred_1_proj[:,:,18:]"
   ]
  },
  {
   "cell_type": "code",
   "execution_count": 72,
   "metadata": {},
   "outputs": [],
   "source": [
    "batch_size = tf.shape(y_pred_1)[0]"
   ]
  },
  {
   "cell_type": "code",
   "execution_count": 86,
   "metadata": {},
   "outputs": [],
   "source": [
    "batch_size = 1\n",
    "def finder(tensor, matches):\n",
    "    return tensor[:,matches,:]\n",
    "\n",
    "\n",
    "def matcher(y_true_1,y_pred_1,y_pred_2, bsz):\n",
    "    out = []\n",
    "    if bsz > 0:\n",
    "        for i in range(bsz):\n",
    "            filterer = np.where(y_true_1[i,:,-1]!=99)\n",
    "            y_true_1 = y_true_1[i,filterer,:]\n",
    "            iou_out = tf.py_func(iou, [tf.convert_to_tensor(y_true_1[i,:,-16:-12]), tf.convert_to_tensor(y_pred_1[i,:,-16:-12])], tf.float64)\n",
    "            bipartite_matches = tf.py_func(match_bipartite_greedy, [iou_out], tf.int64)\n",
    "            out = tf.py_func(finder, [tf.convert_to_tensor(y_pred_2),bipartite_matches], tf.float32)\n",
    "            #append or add here\n",
    "    else:\n",
    "        for i in range(bsz):\n",
    "            filterer = np.where(y_true_1[i,:,-1]!=99)\n",
    "            y_true_1 = y_true_1[i,filterer,:]\n",
    "            iou_out = tf.py_func(iou, [tf.convert_to_tensor(y_true_1[i,:,-16:-12]), tf.convert_to_tensor(y_pred_1[i,:,-16:-12])], tf.float64)\n",
    "            bipartite_matches = tf.py_func(match_bipartite_greedy, [iou_out], tf.int64)\n",
    "            out = tf.py_func(finder, [tf.convert_to_tensor(y_pred_2),bipartite_matches], tf.float32)\n",
    "            np.concatenate()\n",
    "\n",
    "    return out\n"
   ]
  },
  {
   "cell_type": "code",
   "execution_count": 87,
   "metadata": {},
   "outputs": [],
   "source": [
    "res = matcher(y_true_1,y_pred_1,y_pred_2, batch_size)"
   ]
  },
  {
   "cell_type": "code",
   "execution_count": 88,
   "metadata": {},
   "outputs": [
    {
     "data": {
      "text/plain": [
       "array([[[9.0946209e-01, 9.0537898e-02, 2.0679751e-04, 5.1759202e-05,\n",
       "         0.0000000e+00, 2.6740139e-05, 6.6666668e-03, 1.3333334e-02,\n",
       "         5.0000001e-02, 1.0000000e-01, 1.0000000e-01, 1.0000000e-01,\n",
       "         2.0000000e-01, 2.0000000e-01, 1.0000000e+00, 1.0000000e+00,\n",
       "         1.0000000e+00, 1.0000000e+00],\n",
       "        [9.0946209e-01, 9.0537898e-02, 2.0679751e-04, 5.1759202e-05,\n",
       "         0.0000000e+00, 2.6740139e-05, 6.6666668e-03, 1.3333334e-02,\n",
       "         5.0000001e-02, 1.0000000e-01, 1.0000000e-01, 1.0000000e-01,\n",
       "         2.0000000e-01, 2.0000000e-01, 1.0000000e+00, 1.0000000e+00,\n",
       "         1.0000000e+00, 1.0000000e+00],\n",
       "        [9.0946209e-01, 9.0537898e-02, 2.0679751e-04, 5.1759202e-05,\n",
       "         0.0000000e+00, 2.6740139e-05, 6.6666668e-03, 1.3333334e-02,\n",
       "         5.0000001e-02, 1.0000000e-01, 1.0000000e-01, 1.0000000e-01,\n",
       "         2.0000000e-01, 2.0000000e-01, 1.0000000e+00, 1.0000000e+00,\n",
       "         1.0000000e+00, 1.0000000e+00],\n",
       "        [9.0946209e-01, 9.0537898e-02, 2.0679751e-04, 5.1759202e-05,\n",
       "         0.0000000e+00, 2.6740139e-05, 6.6666668e-03, 1.3333334e-02,\n",
       "         5.0000001e-02, 1.0000000e-01, 1.0000000e-01, 1.0000000e-01,\n",
       "         2.0000000e-01, 2.0000000e-01, 1.0000000e+00, 1.0000000e+00,\n",
       "         1.0000000e+00, 1.0000000e+00]]], dtype=float32)"
      ]
     },
     "execution_count": 88,
     "metadata": {},
     "output_type": "execute_result"
    }
   ],
   "source": [
    "K.eval(res)"
   ]
  },
  {
   "cell_type": "code",
   "execution_count": 48,
   "metadata": {},
   "outputs": [
    {
     "data": {
      "text/plain": [
       "(1, 17292, 18)"
      ]
     },
     "execution_count": 48,
     "metadata": {},
     "output_type": "execute_result"
    }
   ],
   "source": [
    "y_true_1.shape"
   ]
  },
  {
   "cell_type": "code",
   "execution_count": 73,
   "metadata": {},
   "outputs": [],
   "source": [
    "filterer = np.where(y_true_1[0,:,-1]!=99)"
   ]
  },
  {
   "cell_type": "code",
   "execution_count": 74,
   "metadata": {},
   "outputs": [
    {
     "data": {
      "text/plain": [
       "(array([ 4845, 16112, 16129, 17272]),)"
      ]
     },
     "execution_count": 74,
     "metadata": {},
     "output_type": "execute_result"
    }
   ],
   "source": [
    "filterer"
   ]
  },
  {
   "cell_type": "code",
   "execution_count": 75,
   "metadata": {},
   "outputs": [],
   "source": [
    "y_true_1 = y_true_1[0,filterer,:]\n",
    "y_true_2 = y_true_2[0,filterer,:]\n",
    "\n"
   ]
  },
  {
   "cell_type": "code",
   "execution_count": 76,
   "metadata": {},
   "outputs": [
    {
     "data": {
      "text/plain": [
       "(1, 4, 18)"
      ]
     },
     "execution_count": 76,
     "metadata": {},
     "output_type": "execute_result"
    }
   ],
   "source": [
    "y_true_1.shape"
   ]
  },
  {
   "cell_type": "code",
   "execution_count": 77,
   "metadata": {},
   "outputs": [
    {
     "name": "stdout",
     "output_type": "stream",
     "text": [
      "[[ 0.  0.  0. ...  0.  0.  0.]\n",
      " [ 0.  0.  0. ...  0.  0.  0.]\n",
      " [-0. -0. -0. ... -0. -0. -0.]\n",
      " [-0. -0. -0. ... -0. -0. -0.]]\n",
      "(4, 17292)\n"
     ]
    }
   ],
   "source": [
    "iou_out = tf.py_func(iou, [tf.convert_to_tensor(y_true_1[0,:,-16:-12]), tf.convert_to_tensor(y_pred_1[0,:,-16:-12])], tf.float64)\n",
    "print(K.eval(iou_out))\n",
    "print(K.eval(iou_out).shape)"
   ]
  },
  {
   "cell_type": "code",
   "execution_count": null,
   "metadata": {},
   "outputs": [],
   "source": [
    "K.eval(out)"
   ]
  },
  {
   "cell_type": "code",
   "execution_count": 78,
   "metadata": {},
   "outputs": [],
   "source": [
    "bipartite_matches = tf.py_func(match_bipartite_greedy, [iou_out], tf.int64)\n"
   ]
  },
  {
   "cell_type": "code",
   "execution_count": 80,
   "metadata": {},
   "outputs": [
    {
     "data": {
      "text/plain": [
       "array([0, 0, 0, 0])"
      ]
     },
     "execution_count": 80,
     "metadata": {},
     "output_type": "execute_result"
    }
   ],
   "source": [
    "K.eval(bipartite_matches)"
   ]
  },
  {
   "cell_type": "code",
   "execution_count": null,
   "metadata": {},
   "outputs": [],
   "source": [
    "K"
   ]
  }
 ],
 "metadata": {
  "kernelspec": {
   "display_name": "Python 3",
   "language": "python",
   "name": "python3"
  },
  "language_info": {
   "codemirror_mode": {
    "name": "ipython",
    "version": 3
   },
   "file_extension": ".py",
   "mimetype": "text/x-python",
   "name": "python",
   "nbconvert_exporter": "python",
   "pygments_lexer": "ipython3",
   "version": "3.6.7"
  }
 },
 "nbformat": 4,
 "nbformat_minor": 2
}
