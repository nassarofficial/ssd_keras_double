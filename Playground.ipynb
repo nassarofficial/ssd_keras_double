{
 "cells": [
  {
   "cell_type": "code",
   "execution_count": 1,
   "metadata": {},
   "outputs": [
    {
     "name": "stderr",
     "output_type": "stream",
     "text": [
      "Using TensorFlow backend.\n"
     ]
    }
   ],
   "source": [
    "import numpy as np\n",
    "import math\n",
    "from bounding_box_utils.bounding_box_utils import iou, convert_coordinates\n",
    "from ssd_encoder_decoder.matching_utils import match_bipartite_greedy, match_multi\n",
    "import tensorflow as tf\n",
    "from keras import backend as K"
   ]
  },
  {
   "cell_type": "code",
   "execution_count": 2,
   "metadata": {},
   "outputs": [],
   "source": [
    "sess = tf.Session()\n",
    "\n",
    "K.set_session(sess)"
   ]
  },
  {
   "cell_type": "code",
   "execution_count": 3,
   "metadata": {},
   "outputs": [],
   "source": [
    "gt = np.load(\"outputs/predder.npy\")"
   ]
  },
  {
   "cell_type": "code",
   "execution_count": 4,
   "metadata": {},
   "outputs": [],
   "source": [
    "gt1 = gt[1]['predictions_1']\n",
    "gt2 = gt[1]['predictions_2']\n",
    "gt1_proj = gt[1]['predictions_1_proj_tot']\n",
    "gt2_proj = gt[1]['predictions_2_proj_tot']"
   ]
  },
  {
   "cell_type": "code",
   "execution_count": 5,
   "metadata": {},
   "outputs": [],
   "source": [
    "pred_1 = np.load(\"outputs/predictions_1_14.npy\")\n",
    "pred_1_proj = np.load(\"outputs/predictions_1_proj_14.npy\")\n",
    "pred_2 = np.load(\"outputs/predictions_2_14.npy\")\n",
    "pred_2_proj = np.load(\"outputs/predictions_2_proj_14.npy\")"
   ]
  },
  {
   "cell_type": "markdown",
   "metadata": {},
   "source": [
    "labels:  (5, 4)\n",
    "y_encoded:  (17292, 4)\n",
    "similarities:  (5, 17292)\n",
    "bipartite_matches:  (5,)\n",
    "similarities after bipartite:  (5, 17292)\n",
    "matches:  (53,)  -  (53,)\n",
    "similarities after matches:  (5, 17292)"
   ]
  },
  {
   "cell_type": "code",
   "execution_count": 6,
   "metadata": {},
   "outputs": [],
   "source": [
    "pred_1 = pred_1_proj[:,:,:18]\n",
    "gt_1 = gt1_proj[:,:,:18]\n",
    "gt_2 = gt2_proj[:,:,18:]"
   ]
  },
  {
   "cell_type": "code",
   "execution_count": 7,
   "metadata": {},
   "outputs": [],
   "source": [
    "filterer = np.where(pred_1[:,:,0]>0.5)\n",
    "filterer2 = np.where(gt_1[:,:,-1]!=99)"
   ]
  },
  {
   "cell_type": "code",
   "execution_count": 8,
   "metadata": {},
   "outputs": [],
   "source": [
    "# src = src[filterer]\n",
    "pred_1 = pred_1[0,:,:]\n",
    "gt_1 = gt_1[filterer2]\n",
    "gt_2 = gt_2[filterer2]"
   ]
  },
  {
   "cell_type": "code",
   "execution_count": null,
   "metadata": {},
   "outputs": [],
   "source": [
    "# src = src[0,:,:]\n",
    "print(pred_1.shape)\n",
    "print(gt_1.shape)\n",
    "print(gt_2.shape)"
   ]
  },
  {
   "cell_type": "code",
   "execution_count": 12,
   "metadata": {},
   "outputs": [
    {
     "name": "stdout",
     "output_type": "stream",
     "text": [
      "[[-0.30082893  4.89766502 -1.08724415  5.96637726]\n",
      " [-0.65487456 -1.58843422 -0.38451138 -3.41357803]\n",
      " [ 0.44662175  5.93211746 -0.05962536  4.5283823 ]\n",
      " ...\n",
      " [-1.32639217 -2.59411097  2.39274764 -3.09404421]\n",
      " [ 0.83299494 -4.48197794  0.25159374 -4.20355654]\n",
      " [-0.90838557 -1.34831011  2.62783766 -2.23948526]]\n",
      "[[-3.61399714e-01  1.96608994e+01  6.86399714e-01  2.01727826e+01]\n",
      " [ 7.35737726e-01  2.43634538e+00 -1.24043926e-02  2.40510646e+00]\n",
      " [ 1.38207493e-01 -2.90330353e+00  8.80125840e-01 -4.03197570e+00]\n",
      " [-9.21666667e-01 -3.49140603e+00  2.41166667e+00 -5.29647276e+00]]\n"
     ]
    }
   ],
   "source": [
    "iou_out = iou(pred_1[:,-16:-12],gt_1[:,-16:-12], coords='centroids', mode='outer_product', border_pixels='half')"
   ]
  },
  {
   "cell_type": "code",
   "execution_count": 13,
   "metadata": {},
   "outputs": [
    {
     "data": {
      "text/plain": [
       "(17292,)"
      ]
     },
     "execution_count": 13,
     "metadata": {},
     "output_type": "execute_result"
    }
   ],
   "source": [
    "bipartite_matches = match_bipartite_greedy(weight_matrix=iou_out)\n",
    "bipartite_matches.shape"
   ]
  },
  {
   "cell_type": "code",
   "execution_count": 14,
   "metadata": {},
   "outputs": [
    {
     "data": {
      "text/plain": [
       "array([0, 0, 0, ..., 0, 0, 0])"
      ]
     },
     "execution_count": 14,
     "metadata": {},
     "output_type": "execute_result"
    }
   ],
   "source": [
    "bipartite_matches"
   ]
  },
  {
   "cell_type": "code",
   "execution_count": 15,
   "metadata": {},
   "outputs": [],
   "source": [
    "pred_2 = pred_1_proj[:,:,18:]"
   ]
  },
  {
   "cell_type": "code",
   "execution_count": 16,
   "metadata": {},
   "outputs": [],
   "source": [
    "pred_2 = pred_2[:,bipartite_matches,:]"
   ]
  },
  {
   "cell_type": "code",
   "execution_count": 17,
   "metadata": {},
   "outputs": [],
   "source": [
    "pred_2 = pred_2[0,:,:]"
   ]
  },
  {
   "cell_type": "code",
   "execution_count": 18,
   "metadata": {},
   "outputs": [
    {
     "data": {
      "text/plain": [
       "array([[9.0946209e-01, 9.0537898e-02, 2.0679751e-04, ..., 1.0000000e+00,\n",
       "        1.0000000e+00, 1.0000000e+00],\n",
       "       [9.0946209e-01, 9.0537898e-02, 2.0679751e-04, ..., 1.0000000e+00,\n",
       "        1.0000000e+00, 1.0000000e+00],\n",
       "       [9.0946209e-01, 9.0537898e-02, 2.0679751e-04, ..., 1.0000000e+00,\n",
       "        1.0000000e+00, 1.0000000e+00],\n",
       "       ...,\n",
       "       [9.0946209e-01, 9.0537898e-02, 2.0679751e-04, ..., 1.0000000e+00,\n",
       "        1.0000000e+00, 1.0000000e+00],\n",
       "       [9.0946209e-01, 9.0537898e-02, 2.0679751e-04, ..., 1.0000000e+00,\n",
       "        1.0000000e+00, 1.0000000e+00],\n",
       "       [9.0946209e-01, 9.0537898e-02, 2.0679751e-04, ..., 1.0000000e+00,\n",
       "        1.0000000e+00, 1.0000000e+00]], dtype=float32)"
      ]
     },
     "execution_count": 18,
     "metadata": {},
     "output_type": "execute_result"
    }
   ],
   "source": [
    "pred_2"
   ]
  },
  {
   "cell_type": "code",
   "execution_count": null,
   "metadata": {},
   "outputs": [],
   "source": [
    "def log_loss(y_true, y_pred):\n",
    "    y_pred = tf.maximum(y_pred, 1e-15)\n",
    "    # Compute the log loss\n",
    "    log_loss = -tf.reduce_sum(y_true * tf.log(y_pred), axis=-1)\n",
    "    return log_loss\n"
   ]
  },
  {
   "cell_type": "code",
   "execution_count": null,
   "metadata": {},
   "outputs": [],
   "source": [
    "gt_2[:,:14].shape"
   ]
  },
  {
   "cell_type": "code",
   "execution_count": null,
   "metadata": {},
   "outputs": [],
   "source": [
    "pred_2[:,:14].shape"
   ]
  },
  {
   "cell_type": "code",
   "execution_count": null,
   "metadata": {},
   "outputs": [],
   "source": [
    "log = log_loss(gt_2[:,:14], pred_2[:,:14])"
   ]
  },
  {
   "cell_type": "code",
   "execution_count": null,
   "metadata": {},
   "outputs": [],
   "source": [
    "K.eval(log)"
   ]
  },
  {
   "cell_type": "code",
   "execution_count": null,
   "metadata": {},
   "outputs": [],
   "source": [
    "def smooth_L1_loss(y_true, y_pred):\n",
    "    '''\n",
    "    Compute smooth L1 loss, see references.\n",
    "\n",
    "    Arguments:\n",
    "        y_true (nD tensor): A TensorFlow tensor of any shape containing the ground truth data.\n",
    "            In this context, the expected tensor has shape `(batch_size, #boxes, 4)` and\n",
    "            contains the ground truth bounding box coordinates, where the last dimension\n",
    "            contains `(xmin, xmax, ymin, ymax)`.\n",
    "        y_pred (nD tensor): A TensorFlow tensor of identical structure to `y_true` containing\n",
    "            the predicted data, in this context the predicted bounding box coordinates.\n",
    "\n",
    "    Returns:\n",
    "        The smooth L1 loss, a nD-1 Tensorflow tensor. In this context a 2D tensor\n",
    "        of shape (batch, n_boxes_total).\n",
    "\n",
    "    References:\n",
    "        https://arxiv.org/abs/1504.08083\n",
    "    '''\n",
    "    absolute_loss = tf.abs(y_true - y_pred)\n",
    "    square_loss = 0.5 * (y_true - y_pred)**2\n",
    "    l1_loss = tf.where(tf.less(absolute_loss, 1.0), square_loss, absolute_loss - 0.5)\n",
    "    return tf.reduce_sum(l1_loss, axis=-1)\n",
    "\n"
   ]
  },
  {
   "cell_type": "code",
   "execution_count": null,
   "metadata": {},
   "outputs": [],
   "source": [
    "smooth = smooth_L1_loss(gt_2[:,:14], pred_2[:,:14])"
   ]
  },
  {
   "cell_type": "code",
   "execution_count": null,
   "metadata": {},
   "outputs": [],
   "source": [
    "K.eval(smooth)"
   ]
  },
  {
   "cell_type": "code",
   "execution_count": null,
   "metadata": {},
   "outputs": [],
   "source": [
    "def convert_coordinates_tf(tensor):\n",
    "    d = 0\n",
    "    ind = 0\n",
    "    tensor1 = tensor\n",
    "    tensor1[..., ind] = (tensor[..., ind] + tensor[..., ind+2]) / 2.0 # Set cx\n",
    "    tensor1[..., ind+1] = (tensor[..., ind+1] + tensor[..., ind+3]) / 2.0 # Set cy\n",
    "    tensor1[..., ind+2] = tensor[..., ind+2] - tensor[..., ind] + d # Set w\n",
    "    tensor1[..., ind+3] = tensor[..., ind+3] - tensor[..., ind+1] + d # Set h\n",
    "    return tensor1\n"
   ]
  },
  {
   "cell_type": "code",
   "execution_count": null,
   "metadata": {},
   "outputs": [],
   "source": [
    "def iou_tf(boxes1, boxes2, coords='centroids', mode='outer_product', border_pixels='half'):\n",
    "#     boxes1 = convert_coordinates_tf(boxes1, start_index=0, conversion='centroids2corners')\n",
    "    boxes1 = tf.py_func(convert_coordinates_tf, [boxes1], tf.float64)\n",
    "\n",
    "#     boxes2 = convert_coordinates_tf(boxes2, start_index=0, conversion='centroids2corners')\n",
    "    print(K.eval(boxes1))\n",
    "#     # Compute the IoU.\n",
    "#     # Compute the interesection areas.\n",
    "#     intersection_areas = intersection_area_(boxes1, boxes2, coords=coords, mode=mode)\n",
    "\n",
    "#     m = boxes1.shape[0] # The number of boxes in `boxes1`\n",
    "#     n = boxes2.shape[0] # The number of boxes in `boxes2`\n",
    "\n",
    "#     # Compute the union areas.\n",
    "\n",
    "#     # Set the correct coordinate indices for the respective formats.\n",
    "#     if coords == 'corners':\n",
    "#         xmin = 0\n",
    "#         ymin = 1\n",
    "#         xmax = 2\n",
    "#         ymax = 3\n",
    "#     elif coords == 'minmax':\n",
    "#         xmin = 0\n",
    "#         xmax = 1\n",
    "#         ymin = 2\n",
    "#         ymax = 3\n",
    "\n",
    "#     if border_pixels == 'half':\n",
    "#         d = 0\n",
    "#     elif border_pixels == 'include':\n",
    "#         d = 1 # If border pixels are supposed to belong to the bounding boxes, we have to add one pixel to any difference `xmax - xmin` or `ymax - ymin`.\n",
    "#     elif border_pixels == 'exclude':\n",
    "#         d = -1 # If border pixels are not supposed to belong to the bounding boxes, we have to subtract one pixel from any difference `xmax - xmin` or `ymax - ymin`.\n",
    "\n",
    "#     if mode == 'outer_product':\n",
    "\n",
    "#         boxes1_areas = np.tile(np.expand_dims((boxes1[:,xmax] - boxes1[:,xmin] + d) * (boxes1[:,ymax] - boxes1[:,ymin] + d), axis=1), reps=(1,n))\n",
    "#         boxes2_areas = np.tile(np.expand_dims((boxes2[:,xmax] - boxes2[:,xmin] + d) * (boxes2[:,ymax] - boxes2[:,ymin] + d), axis=0), reps=(m,1))\n",
    "\n",
    "#     elif mode == 'element-wise':\n",
    "\n",
    "#         boxes1_areas = (boxes1[:,xmax] - boxes1[:,xmin] + d) * (boxes1[:,ymax] - boxes1[:,ymin] + d)\n",
    "#         boxes2_areas = (boxes2[:,xmax] - boxes2[:,xmin] + d) * (boxes2[:,ymax] - boxes2[:,ymin] + d)\n",
    "\n",
    "#     union_areas = boxes1_areas + boxes2_areas - intersection_areas\n",
    "\n",
    "#     return intersection_areas / union_areas\n"
   ]
  },
  {
   "cell_type": "code",
   "execution_count": null,
   "metadata": {},
   "outputs": [],
   "source": [
    "iou_out = iou_tf(tf.convert_to_tensor(gt_1[:,-16:-12]), tf.convert_to_tensor(pred_1[:,-16:-12]), coords='centroids', mode='outer_product', border_pixels='half')\n"
   ]
  },
  {
   "cell_type": "code",
   "execution_count": null,
   "metadata": {},
   "outputs": [],
   "source": []
  }
 ],
 "metadata": {
  "kernelspec": {
   "display_name": "Python 3",
   "language": "python",
   "name": "python3"
  },
  "language_info": {
   "codemirror_mode": {
    "name": "ipython",
    "version": 3
   },
   "file_extension": ".py",
   "mimetype": "text/x-python",
   "name": "python",
   "nbconvert_exporter": "python",
   "pygments_lexer": "ipython3",
   "version": "3.5.2"
  }
 },
 "nbformat": 4,
 "nbformat_minor": 2
}
