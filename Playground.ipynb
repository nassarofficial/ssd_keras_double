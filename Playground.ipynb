{
 "cells": [
  {
   "cell_type": "code",
   "execution_count": 83,
   "metadata": {},
   "outputs": [],
   "source": [
    "import numpy as np\n",
    "import math\n",
    "from bounding_box_utils.bounding_box_utils import iou, convert_coordinates\n",
    "from ssd_encoder_decoder.matching_utils import match_bipartite_greedy, match_multi\n"
   ]
  },
  {
   "cell_type": "code",
   "execution_count": 74,
   "metadata": {},
   "outputs": [],
   "source": [
    "gt = np.load(\"outputs/predder.npy\")"
   ]
  },
  {
   "cell_type": "code",
   "execution_count": 75,
   "metadata": {},
   "outputs": [],
   "source": [
    "gt1 = gt[1]['predictions_1']\n",
    "gt2 = gt[1]['predictions_2']\n",
    "gt1_proj = gt[1]['predictions_1_proj_tot']\n",
    "gt2_proj = gt[1]['predictions_2_proj_tot']"
   ]
  },
  {
   "cell_type": "code",
   "execution_count": 78,
   "metadata": {},
   "outputs": [],
   "source": [
    "pred_1 = np.load(\"outputs/predictions_1_14.npy\")\n",
    "pred_1_proj = np.load(\"outputs/predictions_1_proj_14.npy\")\n",
    "pred_2 = np.load(\"outputs/predictions_2_14.npy\")\n",
    "pred_2_proj = np.load(\"outputs/predictions_2_proj_14.npy\")"
   ]
  },
  {
   "cell_type": "code",
   "execution_count": 107,
   "metadata": {},
   "outputs": [],
   "source": [
    "def findbox(src, dest):\n",
    "    for i in range(len(src[0])):\n",
    "        similarities = iou(src[i,-16:-12], dest[i,-16:-12], coords='centroids', mode='outer_product', border_pixels='half')\n",
    "        return similarities"
   ]
  },
  {
   "cell_type": "code",
   "execution_count": 219,
   "metadata": {},
   "outputs": [],
   "source": [
    "src = pred_1_proj[:,:,:18]\n",
    "dst = gt1_proj[:,:,:18]"
   ]
  },
  {
   "cell_type": "code",
   "execution_count": 220,
   "metadata": {},
   "outputs": [],
   "source": [
    "filterer = np.where(src[:,:,0]>0.8)\n",
    "filterer2 = np.where(dst[:,:,-1]!=99)"
   ]
  },
  {
   "cell_type": "code",
   "execution_count": 221,
   "metadata": {},
   "outputs": [],
   "source": [
    "src = src[filterer]\n",
    "dst = dst[filterer2]"
   ]
  },
  {
   "cell_type": "code",
   "execution_count": 224,
   "metadata": {},
   "outputs": [
    {
     "data": {
      "text/plain": [
       "(5, 18)"
      ]
     },
     "execution_count": 224,
     "metadata": {},
     "output_type": "execute_result"
    }
   ],
   "source": []
  },
  {
   "cell_type": "code",
   "execution_count": 225,
   "metadata": {},
   "outputs": [],
   "source": [
    "iou_out = iou(src[:,-16:-12], dst[:,-16:-12], coords='centroids', mode='outer_product', border_pixels='half')\n"
   ]
  },
  {
   "cell_type": "code",
   "execution_count": 226,
   "metadata": {},
   "outputs": [],
   "source": [
    "bipartite_matches = match_bipartite_greedy(weight_matrix=iou_out)"
   ]
  },
  {
   "cell_type": "code",
   "execution_count": 228,
   "metadata": {},
   "outputs": [
    {
     "data": {
      "text/plain": [
       "(7122,)"
      ]
     },
     "execution_count": 228,
     "metadata": {},
     "output_type": "execute_result"
    }
   ],
   "source": [
    "bipartite_matches"
   ]
  },
  {
   "cell_type": "code",
   "execution_count": 92,
   "metadata": {},
   "outputs": [],
   "source": []
  },
  {
   "cell_type": "code",
   "execution_count": 99,
   "metadata": {},
   "outputs": [
    {
     "data": {
      "text/plain": [
       "array([[ 1.00000000e+00,  0.00000000e+00,  1.25000000e+00,\n",
       "        -8.52272727e+00,  0.00000000e+00,  0.00000000e+00,\n",
       "         2.57727413e-02,  5.00000000e-01,  4.40000000e-01,\n",
       "         8.80000000e-01,  1.00000000e-01,  1.00000000e-01,\n",
       "         2.00000000e-01,  2.00000000e-01,  9.80000000e+01,\n",
       "         1.89000000e+02,  8.90000000e+01,  9.90000000e+01],\n",
       "       [ 1.00000000e+00,  0.00000000e+00,  1.25000000e+00,\n",
       "        -7.80234730e+00,  0.00000000e+00,  0.00000000e+00,\n",
       "         2.57727413e-02,  5.00000000e-01,  4.80624594e-01,\n",
       "         9.61249187e-01,  1.00000000e-01,  1.00000000e-01,\n",
       "         2.00000000e-01,  2.00000000e-01,  9.80000000e+01,\n",
       "         1.89000000e+02,  8.90000000e+01,  9.90000000e+01],\n",
       "       [ 1.00000000e+00,  0.00000000e+00,  1.25000000e+00,\n",
       "        -1.20529565e+01,  0.00000000e+00,  0.00000000e+00,\n",
       "         2.57727413e-02,  5.00000000e-01,  6.22253967e-01,\n",
       "         6.22253967e-01,  1.00000000e-01,  1.00000000e-01,\n",
       "         2.00000000e-01,  2.00000000e-01,  9.80000000e+01,\n",
       "         1.89000000e+02,  8.90000000e+01,  9.90000000e+01],\n",
       "       [ 1.00000000e+00,  0.00000000e+00,  1.25000000e+00,\n",
       "        -6.02647825e+00,  0.00000000e+00,  0.00000000e+00,\n",
       "         2.57727413e-02,  5.00000000e-01,  3.11126984e-01,\n",
       "         1.24450793e+00,  1.00000000e-01,  1.00000000e-01,\n",
       "         2.00000000e-01,  2.00000000e-01,  9.80000000e+01,\n",
       "         1.89000000e+02,  8.90000000e+01,  9.90000000e+01]])"
      ]
     },
     "execution_count": 99,
     "metadata": {},
     "output_type": "execute_result"
    }
   ],
   "source": []
  },
  {
   "cell_type": "code",
   "execution_count": 101,
   "metadata": {},
   "outputs": [
    {
     "data": {
      "text/plain": [
       "array([[ 1.12500000e+02,  4.87500000e+02,  1.27840909e+03,\n",
       "        -1.27840909e+03,  0.00000000e+00,  0.00000000e+00,\n",
       "         7.73182238e+00,  1.50000000e+02,  1.32000000e+02,\n",
       "         2.64000000e+02,  3.00000000e+01,  3.00000000e+01,\n",
       "         6.00000000e+01,  6.00000000e+01,  2.94000000e+04,\n",
       "         5.67000000e+04,  2.67000000e+04,  2.97000000e+04],\n",
       "       [ 1.12500000e+02,  4.87500000e+02,  1.17035209e+03,\n",
       "        -1.17035209e+03,  0.00000000e+00,  0.00000000e+00,\n",
       "         7.73182238e+00,  1.50000000e+02,  1.44187378e+02,\n",
       "         2.88374756e+02,  3.00000000e+01,  3.00000000e+01,\n",
       "         6.00000000e+01,  6.00000000e+01,  2.94000000e+04,\n",
       "         5.67000000e+04,  2.67000000e+04,  2.97000000e+04],\n",
       "       [ 1.12500000e+02,  4.87500000e+02,  1.80794347e+03,\n",
       "        -1.80794347e+03,  0.00000000e+00,  0.00000000e+00,\n",
       "         7.73182238e+00,  1.50000000e+02,  1.86676190e+02,\n",
       "         1.86676190e+02,  3.00000000e+01,  3.00000000e+01,\n",
       "         6.00000000e+01,  6.00000000e+01,  2.94000000e+04,\n",
       "         5.67000000e+04,  2.67000000e+04,  2.97000000e+04],\n",
       "       [ 1.12500000e+02,  4.87500000e+02,  9.03971737e+02,\n",
       "        -9.03971737e+02,  0.00000000e+00,  0.00000000e+00,\n",
       "         7.73182238e+00,  1.50000000e+02,  9.33380951e+01,\n",
       "         3.73352380e+02,  3.00000000e+01,  3.00000000e+01,\n",
       "         6.00000000e+01,  6.00000000e+01,  2.94000000e+04,\n",
       "         5.67000000e+04,  2.67000000e+04,  2.97000000e+04]])"
      ]
     },
     "execution_count": 101,
     "metadata": {},
     "output_type": "execute_result"
    }
   ],
   "source": [
    "convert_coordinates(dst[0,-16:-12]*300, start_index=0, conversion='centroids2minmax')"
   ]
  },
  {
   "cell_type": "code",
   "execution_count": null,
   "metadata": {},
   "outputs": [],
   "source": []
  }
 ],
 "metadata": {
  "kernelspec": {
   "display_name": "Python 3",
   "language": "python",
   "name": "python3"
  },
  "language_info": {
   "codemirror_mode": {
    "name": "ipython",
    "version": 3
   },
   "file_extension": ".py",
   "mimetype": "text/x-python",
   "name": "python",
   "nbconvert_exporter": "python",
   "pygments_lexer": "ipython3",
   "version": "3.5.2"
  }
 },
 "nbformat": 4,
 "nbformat_minor": 2
}
