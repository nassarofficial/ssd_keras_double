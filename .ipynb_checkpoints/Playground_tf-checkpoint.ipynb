{
 "cells": [
  {
   "cell_type": "code",
   "execution_count": 12,
   "metadata": {},
   "outputs": [],
   "source": [
    "import numpy as np\n",
    "import math\n",
    "from bounding_box_utils.bounding_box_utils import iou, convert_coordinates\n",
    "from ssd_encoder_decoder.matching_utils import match_bipartite_greedy, match_multi\n",
    "import tensorflow as tf\n",
    "from keras import backend as K\n",
    "import random"
   ]
  },
  {
   "cell_type": "code",
   "execution_count": 13,
   "metadata": {},
   "outputs": [
    {
     "ename": "ValueError",
     "evalue": "tf.enable_eager_execution must be called at program startup.",
     "output_type": "error",
     "traceback": [
      "\u001b[0;31m---------------------------------------------------------------------------\u001b[0m",
      "\u001b[0;31mValueError\u001b[0m                                Traceback (most recent call last)",
      "\u001b[0;32m<ipython-input-13-ef766b1442c8>\u001b[0m in \u001b[0;36m<module>\u001b[0;34m\u001b[0m\n\u001b[1;32m      1\u001b[0m \u001b[0msess\u001b[0m \u001b[0;34m=\u001b[0m \u001b[0mtf\u001b[0m\u001b[0;34m.\u001b[0m\u001b[0mSession\u001b[0m\u001b[0;34m(\u001b[0m\u001b[0;34m)\u001b[0m\u001b[0;34m\u001b[0m\u001b[0;34m\u001b[0m\u001b[0m\n\u001b[0;32m----> 2\u001b[0;31m \u001b[0mtf\u001b[0m\u001b[0;34m.\u001b[0m\u001b[0menable_eager_execution\u001b[0m\u001b[0;34m(\u001b[0m\u001b[0;34m)\u001b[0m\u001b[0;34m\u001b[0m\u001b[0;34m\u001b[0m\u001b[0m\n\u001b[0m\u001b[1;32m      3\u001b[0m \u001b[0;34m\u001b[0m\u001b[0m\n\u001b[1;32m      4\u001b[0m \u001b[0mK\u001b[0m\u001b[0;34m.\u001b[0m\u001b[0mset_session\u001b[0m\u001b[0;34m(\u001b[0m\u001b[0msess\u001b[0m\u001b[0;34m)\u001b[0m\u001b[0;34m\u001b[0m\u001b[0;34m\u001b[0m\u001b[0m\n\u001b[1;32m      5\u001b[0m \u001b[0mK\u001b[0m\u001b[0;34m.\u001b[0m\u001b[0mclear_session\u001b[0m\u001b[0;34m(\u001b[0m\u001b[0;34m)\u001b[0m\u001b[0;34m\u001b[0m\u001b[0;34m\u001b[0m\u001b[0m\n",
      "\u001b[0;32m/scratch/tf3/lib/python3.6/site-packages/tensorflow/python/framework/ops.py\u001b[0m in \u001b[0;36menable_eager_execution\u001b[0;34m(config, device_policy, execution_mode)\u001b[0m\n\u001b[1;32m   5421\u001b[0m         \u001b[0mdevice_policy\u001b[0m\u001b[0;34m=\u001b[0m\u001b[0mdevice_policy\u001b[0m\u001b[0;34m,\u001b[0m\u001b[0;34m\u001b[0m\u001b[0;34m\u001b[0m\u001b[0m\n\u001b[1;32m   5422\u001b[0m         \u001b[0mexecution_mode\u001b[0m\u001b[0;34m=\u001b[0m\u001b[0mexecution_mode\u001b[0m\u001b[0;34m,\u001b[0m\u001b[0;34m\u001b[0m\u001b[0;34m\u001b[0m\u001b[0m\n\u001b[0;32m-> 5423\u001b[0;31m         server_def=None)\n\u001b[0m\u001b[1;32m   5424\u001b[0m \u001b[0;34m\u001b[0m\u001b[0m\n\u001b[1;32m   5425\u001b[0m \u001b[0;34m\u001b[0m\u001b[0m\n",
      "\u001b[0;32m/scratch/tf3/lib/python3.6/site-packages/tensorflow/python/framework/ops.py\u001b[0m in \u001b[0;36menable_eager_execution_internal\u001b[0;34m(config, device_policy, execution_mode, server_def)\u001b[0m\n\u001b[1;32m   5465\u001b[0m     \u001b[0;32mif\u001b[0m \u001b[0mgraph_mode_has_been_used\u001b[0m\u001b[0;34m:\u001b[0m\u001b[0;34m\u001b[0m\u001b[0;34m\u001b[0m\u001b[0m\n\u001b[1;32m   5466\u001b[0m       raise ValueError(\n\u001b[0;32m-> 5467\u001b[0;31m           \"tf.enable_eager_execution must be called at program startup.\")\n\u001b[0m\u001b[1;32m   5468\u001b[0m   \u001b[0mcontext\u001b[0m\u001b[0;34m.\u001b[0m\u001b[0mdefault_execution_mode\u001b[0m \u001b[0;34m=\u001b[0m \u001b[0mcontext\u001b[0m\u001b[0;34m.\u001b[0m\u001b[0mEAGER_MODE\u001b[0m\u001b[0;34m\u001b[0m\u001b[0;34m\u001b[0m\u001b[0m\n\u001b[1;32m   5469\u001b[0m   \u001b[0;31m# pylint: disable=protected-access\u001b[0m\u001b[0;34m\u001b[0m\u001b[0;34m\u001b[0m\u001b[0;34m\u001b[0m\u001b[0m\n",
      "\u001b[0;31mValueError\u001b[0m: tf.enable_eager_execution must be called at program startup."
     ]
    }
   ],
   "source": [
    "sess = tf.Session()\n",
    "tf.enable_eager_execution()\n",
    "\n",
    "K.set_session(sess)\n",
    "K.clear_session()"
   ]
  },
  {
   "cell_type": "code",
   "execution_count": null,
   "metadata": {},
   "outputs": [],
   "source": [
    "gt = np.load(\"outputs/predder.npy\")"
   ]
  },
  {
   "cell_type": "code",
   "execution_count": 14,
   "metadata": {},
   "outputs": [],
   "source": [
    "gt1 = gt[1]['predictions_1']\n",
    "gt2 = gt[1]['predictions_2']\n",
    "gt1_proj = gt[1]['predictions_1_proj_tot']\n",
    "gt2_proj = gt[1]['predictions_2_proj_tot']"
   ]
  },
  {
   "cell_type": "code",
   "execution_count": 15,
   "metadata": {},
   "outputs": [],
   "source": [
    "pred_1 = np.load(\"outputs/predictions_1_14.npy\")\n",
    "pred_1_proj = np.load(\"outputs/predictions_1_proj_14.npy\")\n",
    "pred_2 = np.load(\"outputs/predictions_2_14.npy\")\n",
    "pred_2_proj = np.load(\"outputs/predictions_2_proj_14.npy\")"
   ]
  },
  {
   "cell_type": "markdown",
   "metadata": {},
   "source": [
    "labels:  (5, 4)\n",
    "y_encoded:  (17292, 4)\n",
    "similarities:  (5, 17292)\n",
    "bipartite_matches:  (5,)\n",
    "similarities after bipartite:  (5, 17292)\n",
    "matches:  (53,)  -  (53,)\n",
    "similarities after matches:  (5, 17292)"
   ]
  },
  {
   "cell_type": "code",
   "execution_count": 16,
   "metadata": {},
   "outputs": [],
   "source": [
    "y_true_1 = gt1_proj[:,:,:18]\n",
    "y_pred_1 = pred_1_proj[:,:,18:]\n",
    "y_true_2 = gt1_proj[:,:,18:]\n",
    "y_pred_2 = pred_1_proj[:,:,18:]"
   ]
  },
  {
   "cell_type": "code",
   "execution_count": 17,
   "metadata": {},
   "outputs": [],
   "source": [
    "batch_size = tf.shape(y_pred_1)[0]"
   ]
  },
  {
   "cell_type": "code",
   "execution_count": 18,
   "metadata": {},
   "outputs": [],
   "source": [
    "y_true_1d = np.concatenate([y_true_1,y_true_1])\n",
    "y_pred_1d = np.concatenate([y_pred_1,y_pred_1])\n",
    "y_true_2d = np.concatenate([y_true_2,y_true_2])\n",
    "y_pred_2d = np.concatenate([y_pred_2,y_pred_2])"
   ]
  },
  {
   "cell_type": "code",
   "execution_count": 9,
   "metadata": {},
   "outputs": [],
   "source": [
    "batch_size = 1\n",
    "\n",
    "def gt_rem(pred, gt):\n",
    "    val = tf.subtract(tf.shape(pred)[1], tf.shape(gt)[1],name=\"gt_rem_subtract\")\n",
    "    gt = tf.slice(gt, [0, 0, 0], [1, tf.shape(pred)[1], 18],name=\"rem_slice\")\n",
    "    return gt\n",
    "\n",
    "def gt_add(pred, gt):\n",
    "    #add to gt\n",
    "    val = tf.subtract(tf.shape(pred)[1], tf.shape(gt)[1],name=\"gt_add_subtract\")\n",
    "    ext = tf.slice(gt, [0, 0, 0], [1, val, 18], name=\"add_slice\")\n",
    "    gt = K.concatenate([ext,gt], axis=1)\n",
    "    return gt\n",
    "\n",
    "def equalalready(pred): return pred\n",
    "\n",
    "def make_equal(pred, gt):\n",
    "    equal_tensor = tf.cond(tf.shape(pred)[1] < tf.shape(gt)[1], lambda: gt_rem(pred, gt), lambda: gt_add(pred, gt), name=\"make_equal_cond\")\n",
    "    return equal_tensor\n",
    "\n",
    "def matcher(y_true_1,y_true_2,y_pred_1,y_pred_2, bsz):\n",
    "    pred = 0\n",
    "    gt = 0\n",
    "    for i in range(bsz):\n",
    "        filterer = np.where(y_true_1[i,:,-1]!=99)\n",
    "        y_true_new = tf.where(tf.not_equal(t[:,:,-1],99))\n",
    "        y_true_new = y_true_1[i,filterer,:]\n",
    "\n",
    "        iou_out = tf.py_func(iou, [y_true_new[0,:,-16:-12],tf.convert_to_tensor(y_true_1[i,:,-16:-12])], tf.float64, name=\"iou_out\")\n",
    "        bipartite_matches = tf.py_func(match_bipartite_greedy, [iou_out], tf.int64, name=\"bipartite_matches\")\n",
    "        out = tf.gather(y_pred_2[i,:,:], [bipartite_matches], axis=0, name=\"out\")\n",
    "        \n",
    "        filterer_2 = np.where(y_true_2[i,:,-1]!=99)\n",
    "        y_true_2_new = y_true_2[i,filterer_2,:]\n",
    "        box_comparer = tf.reduce_all(tf.equal(tf.shape(out)[1], y_true_2_new.shape[1]), name=\"box_comparer\")\n",
    "        y_true_2_new = tf.convert_to_tensor(y_true_2_new)\n",
    "        y_true_2_equal = tf.cond(box_comparer, lambda: equalalready(y_true_2_new), lambda: make_equal(out, y_true_2_new), name=\"y_true_cond\")\n",
    "        if i != 0:\n",
    "            pred = K.concatenate([pred,out], axis=-1)\n",
    "            gt = K.concatenate([gt,y_true_2_equal], axis=0)\n",
    "        else:\n",
    "            pred = out\n",
    "            gt = y_true_2_equal\n",
    "    return pred, gt"
   ]
  },
  {
   "cell_type": "code",
   "execution_count": 10,
   "metadata": {},
   "outputs": [],
   "source": [
    "y_pred, y_true = matcher(y_true_1d,y_true_2d,y_pred_1d,y_pred_2d,1)\n",
    "\n"
   ]
  },
  {
   "cell_type": "code",
   "execution_count": 11,
   "metadata": {},
   "outputs": [
    {
     "data": {
      "text/plain": [
       "(<tf.Tensor 'out_1:0' shape=<unknown> dtype=float32>,\n",
       " <tf.Tensor 'y_true_cond_1/Merge:0' shape=(1, ?, 18) dtype=float64>)"
      ]
     },
     "execution_count": 11,
     "metadata": {},
     "output_type": "execute_result"
    }
   ],
   "source": [
    "matcher(y_true_1d,y_true_2d,y_pred_1d,y_pred_2d,1)"
   ]
  },
  {
   "cell_type": "code",
   "execution_count": 28,
   "metadata": {},
   "outputs": [],
   "source": [
    "t = tf.convert_to_tensor(y_true_1d)"
   ]
  },
  {
   "cell_type": "code",
   "execution_count": 20,
   "metadata": {},
   "outputs": [
    {
     "data": {
      "text/plain": [
       "<tf.Tensor 'strided_slice_4:0' shape=(2, 17292, 2) dtype=float64>"
      ]
     },
     "execution_count": 20,
     "metadata": {},
     "output_type": "execute_result"
    }
   ],
   "source": [
    "t[:,:,:-16]"
   ]
  },
  {
   "cell_type": "code",
   "execution_count": 37,
   "metadata": {},
   "outputs": [],
   "source": [
    "x = tf.where(tf.not_equal(t[:,:,-1],99))"
   ]
  },
  {
   "cell_type": "code",
   "execution_count": 38,
   "metadata": {},
   "outputs": [
    {
     "data": {
      "text/plain": [
       "array([[    0,  4845],\n",
       "       [    0, 16112],\n",
       "       [    0, 16129],\n",
       "       [    0, 17272],\n",
       "       [    1,  4845],\n",
       "       [    1, 16112],\n",
       "       [    1, 16129],\n",
       "       [    1, 17272]])"
      ]
     },
     "execution_count": 38,
     "metadata": {},
     "output_type": "execute_result"
    }
   ],
   "source": [
    "K.eval(x)"
   ]
  },
  {
   "cell_type": "code",
   "execution_count": 39,
   "metadata": {},
   "outputs": [
    {
     "data": {
      "text/plain": [
       "True"
      ]
     },
     "execution_count": 39,
     "metadata": {},
     "output_type": "execute_result"
    }
   ],
   "source": [
    "t[:,:,-1]!=99"
   ]
  },
  {
   "cell_type": "code",
   "execution_count": 34,
   "metadata": {},
   "outputs": [
    {
     "data": {
      "text/plain": [
       "array([[[1.00000000e+00, 0.00000000e+00, 6.66666667e-03, ...,\n",
       "         1.89000000e+02, 8.90000000e+01, 9.90000000e+01],\n",
       "        [1.00000000e+00, 0.00000000e+00, 6.66666667e-03, ...,\n",
       "         1.89000000e+02, 8.90000000e+01, 9.90000000e+01],\n",
       "        [1.00000000e+00, 0.00000000e+00, 6.66666667e-03, ...,\n",
       "         1.89000000e+02, 8.90000000e+01, 9.90000000e+01],\n",
       "        ...,\n",
       "        [1.00000000e+00, 0.00000000e+00, 2.75000000e+00, ...,\n",
       "         1.89000000e+02, 8.90000000e+01, 9.90000000e+01],\n",
       "        [1.00000000e+00, 0.00000000e+00, 2.75000000e+00, ...,\n",
       "         1.89000000e+02, 8.90000000e+01, 9.90000000e+01],\n",
       "        [1.00000000e+00, 0.00000000e+00, 2.75000000e+00, ...,\n",
       "         1.89000000e+02, 8.90000000e+01, 9.90000000e+01]],\n",
       "\n",
       "       [[1.00000000e+00, 0.00000000e+00, 6.66666667e-03, ...,\n",
       "         1.89000000e+02, 8.90000000e+01, 9.90000000e+01],\n",
       "        [1.00000000e+00, 0.00000000e+00, 6.66666667e-03, ...,\n",
       "         1.89000000e+02, 8.90000000e+01, 9.90000000e+01],\n",
       "        [1.00000000e+00, 0.00000000e+00, 6.66666667e-03, ...,\n",
       "         1.89000000e+02, 8.90000000e+01, 9.90000000e+01],\n",
       "        ...,\n",
       "        [1.00000000e+00, 0.00000000e+00, 2.75000000e+00, ...,\n",
       "         1.89000000e+02, 8.90000000e+01, 9.90000000e+01],\n",
       "        [1.00000000e+00, 0.00000000e+00, 2.75000000e+00, ...,\n",
       "         1.89000000e+02, 8.90000000e+01, 9.90000000e+01],\n",
       "        [1.00000000e+00, 0.00000000e+00, 2.75000000e+00, ...,\n",
       "         1.89000000e+02, 8.90000000e+01, 9.90000000e+01]]])"
      ]
     },
     "execution_count": 34,
     "metadata": {},
     "output_type": "execute_result"
    }
   ],
   "source": [
    "K.eval(t)"
   ]
  },
  {
   "cell_type": "code",
   "execution_count": null,
   "metadata": {},
   "outputs": [],
   "source": []
  }
 ],
 "metadata": {
  "kernelspec": {
   "display_name": "Python 3",
   "language": "python",
   "name": "python3"
  },
  "language_info": {
   "codemirror_mode": {
    "name": "ipython",
    "version": 3
   },
   "file_extension": ".py",
   "mimetype": "text/x-python",
   "name": "python",
   "nbconvert_exporter": "python",
   "pygments_lexer": "ipython3",
   "version": "3.6.7"
  }
 },
 "nbformat": 4,
 "nbformat_minor": 2
}
