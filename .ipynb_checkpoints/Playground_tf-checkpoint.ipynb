{
 "cells": [
  {
   "cell_type": "code",
   "execution_count": 40,
   "metadata": {},
   "outputs": [],
   "source": [
    "import numpy as np\n",
    "import math\n",
    "from bounding_box_utils.bounding_box_utils import iou, convert_coordinates\n",
    "from ssd_encoder_decoder.matching_utils import match_bipartite_greedy, match_multi\n",
    "import tensorflow as tf\n",
    "from keras import backend as K\n",
    "import random"
   ]
  },
  {
   "cell_type": "code",
   "execution_count": 42,
   "metadata": {},
   "outputs": [],
   "source": [
    "sess = tf.Session()\n",
    "K.set_session(sess)\n",
    "K.clear_session()"
   ]
  },
  {
   "cell_type": "code",
   "execution_count": 43,
   "metadata": {},
   "outputs": [],
   "source": [
    "gt = np.load(\"outputs/predder.npy\")"
   ]
  },
  {
   "cell_type": "code",
   "execution_count": 44,
   "metadata": {},
   "outputs": [],
   "source": [
    "gt1 = gt[1]['predictions_1']\n",
    "gt2 = gt[1]['predictions_2']\n",
    "gt1_proj = gt[1]['predictions_1_proj_tot']\n",
    "gt2_proj = gt[1]['predictions_2_proj_tot']"
   ]
  },
  {
   "cell_type": "code",
   "execution_count": 45,
   "metadata": {},
   "outputs": [],
   "source": [
    "pred_1 = np.load(\"outputs/predictions_1_14.npy\")\n",
    "pred_1_proj = np.load(\"outputs/predictions_1_proj_14.npy\")\n",
    "pred_2 = np.load(\"outputs/predictions_2_14.npy\")\n",
    "pred_2_proj = np.load(\"outputs/predictions_2_proj_14.npy\")"
   ]
  },
  {
   "cell_type": "markdown",
   "metadata": {},
   "source": [
    "labels:  (5, 4)\n",
    "y_encoded:  (17292, 4)\n",
    "similarities:  (5, 17292)\n",
    "bipartite_matches:  (5,)\n",
    "similarities after bipartite:  (5, 17292)\n",
    "matches:  (53,)  -  (53,)\n",
    "similarities after matches:  (5, 17292)"
   ]
  },
  {
   "cell_type": "code",
   "execution_count": 46,
   "metadata": {},
   "outputs": [],
   "source": [
    "y_true_1 = gt1_proj[:,:,:18]\n",
    "y_pred_1 = pred_1_proj[:,:,18:]\n",
    "y_true_2 = gt1_proj[:,:,18:]\n",
    "y_pred_2 = pred_1_proj[:,:,18:]"
   ]
  },
  {
   "cell_type": "code",
   "execution_count": 47,
   "metadata": {},
   "outputs": [],
   "source": [
    "batch_size = tf.shape(y_pred_1)[0]"
   ]
  },
  {
   "cell_type": "code",
   "execution_count": 101,
   "metadata": {},
   "outputs": [],
   "source": [
    "y_true_1d = tf.convert_to_tensor(np.concatenate([y_true_1,y_true_1]))\n",
    "y_pred_1d = tf.convert_to_tensor(np.concatenate([y_pred_1,y_pred_1]))\n",
    "y_true_2d = tf.convert_to_tensor(np.concatenate([y_true_2,y_true_2]))\n",
    "y_pred_2d = tf.convert_to_tensor(np.concatenate([y_pred_2,y_pred_2]))"
   ]
  },
  {
   "cell_type": "code",
   "execution_count": 114,
   "metadata": {},
   "outputs": [],
   "source": [
    "batch_size = 1\n",
    "\n",
    "def gt_rem(pred, gt):\n",
    "    val = tf.subtract(tf.shape(pred)[1], tf.shape(gt)[1],name=\"gt_rem_subtract\")\n",
    "    gt = tf.slice(gt, [0, 0, 0], [1, tf.shape(pred)[1], 18],name=\"rem_slice\")\n",
    "    return gt\n",
    "\n",
    "def gt_add(pred, gt):\n",
    "    #add to gt\n",
    "    val = tf.subtract(tf.shape(pred)[1], tf.shape(gt)[1],name=\"gt_add_subtract\")\n",
    "    ext = tf.slice(gt, [0, 0, 0], [1, val, 18], name=\"add_slice\")\n",
    "    gt = K.concatenate([ext,gt], axis=1)\n",
    "    return gt\n",
    "\n",
    "def equalalready(pred): return pred\n",
    "\n",
    "def make_equal(pred, gt):\n",
    "    equal_tensor = tf.cond(tf.shape(pred)[1] < tf.shape(gt)[1], lambda: gt_rem(pred, gt), lambda: gt_add(pred, gt), name=\"make_equal_cond\")\n",
    "    return equal_tensor\n",
    "\n",
    "def matcher(y_true_1,y_true_2,y_pred_1,y_pred_2, bsz):\n",
    "    pred = 0\n",
    "    gt = 0\n",
    "    for i in range(bsz):\n",
    "        filterer = tf.where(tf.not_equal(y_true_1[i,:,-1],99))\n",
    "        y_true_new = tf.gather_nd(y_true_1[i,:,:],filterer)\n",
    "        y_true_new = tf.expand_dims(y_true_new, 0)\n",
    "        iou_out = tf.py_func(iou, [y_true_new[i,:,-16:-12],tf.convert_to_tensor(y_true_1[i,:,-16:-12])], tf.float64, name=\"iou_out\")\n",
    "        bipartite_matches = tf.py_func(match_bipartite_greedy, [iou_out], tf.int64, name=\"bipartite_matches\")\n",
    "        out = tf.gather(y_pred_2[i,:,:], [bipartite_matches], axis=0, name=\"out\")\n",
    "        \n",
    "        filterer_2 = tf.where(tf.not_equal(y_true_2[i,:,-1],99))\n",
    "        y_true_2_new = tf.gather_nd(y_true_2[i,:,:],filterer_2)\n",
    "        y_true_2_new = tf.expand_dims(y_true_2_new, 0)\n",
    "        print(\"y_true_2_new: \", K.eval(y_true_2_new).shape)\n",
    "\n",
    "        box_comparer = tf.reduce_all(tf.equal(tf.shape(out)[1], tf.shape(y_true_2_new)[1]), name=\"box_comparer\")\n",
    "        y_true_2_new = tf.convert_to_tensor(y_true_2_new)\n",
    "        y_true_2_equal = tf.cond(box_comparer, lambda: equalalready(y_true_2_new), lambda: make_equal(out, y_true_2_new), name=\"y_true_cond\")\n",
    "        if i != 0:\n",
    "            pred = K.concatenate([pred,out], axis=-1)\n",
    "            gt = K.concatenate([gt,y_true_2_equal], axis=0)\n",
    "        else:\n",
    "            pred = out\n",
    "            gt = y_true_2_equal\n",
    "    return pred, gt"
   ]
  },
  {
   "cell_type": "code",
   "execution_count": 115,
   "metadata": {},
   "outputs": [
    {
     "name": "stdout",
     "output_type": "stream",
     "text": [
      "out:  (1, 4, 18)\n",
      "[[[9.0946209e-01 9.0537898e-02 2.0679751e-04 5.1759202e-05 0.0000000e+00\n",
      "   2.6740139e-05 6.6666668e-03 1.3333334e-02 5.0000001e-02 1.0000000e-01\n",
      "   1.0000000e-01 1.0000000e-01 2.0000000e-01 2.0000000e-01 1.0000000e+00\n",
      "   1.0000000e+00 1.0000000e+00 1.0000000e+00]\n",
      "  [9.0946209e-01 9.0537898e-02 2.0679751e-04 5.1759202e-05 0.0000000e+00\n",
      "   2.6740139e-05 6.6666668e-03 1.3333334e-02 5.0000001e-02 1.0000000e-01\n",
      "   1.0000000e-01 1.0000000e-01 2.0000000e-01 2.0000000e-01 1.0000000e+00\n",
      "   1.0000000e+00 1.0000000e+00 1.0000000e+00]\n",
      "  [9.0946209e-01 9.0537898e-02 2.0679751e-04 5.1759202e-05 0.0000000e+00\n",
      "   2.6740139e-05 6.6666668e-03 1.3333334e-02 5.0000001e-02 1.0000000e-01\n",
      "   1.0000000e-01 1.0000000e-01 2.0000000e-01 2.0000000e-01 1.0000000e+00\n",
      "   1.0000000e+00 1.0000000e+00 1.0000000e+00]\n",
      "  [9.0946209e-01 9.0537898e-02 2.0679751e-04 5.1759202e-05 0.0000000e+00\n",
      "   2.6740139e-05 6.6666668e-03 1.3333334e-02 5.0000001e-02 1.0000000e-01\n",
      "   1.0000000e-01 1.0000000e-01 2.0000000e-01 2.0000000e-01 1.0000000e+00\n",
      "   1.0000000e+00 1.0000000e+00 1.0000000e+00]]]\n",
      "y_true_2_new:  (1, 2, 18)\n"
     ]
    }
   ],
   "source": [
    "y_pred, y_true = matcher(y_true_1d,y_true_2d,y_pred_1d,y_pred_2d,1)\n",
    "\n"
   ]
  },
  {
   "cell_type": "code",
   "execution_count": 116,
   "metadata": {},
   "outputs": [
    {
     "name": "stdout",
     "output_type": "stream",
     "text": [
      "out:  (1, 4, 18)\n",
      "[[[9.0946209e-01 9.0537898e-02 2.0679751e-04 5.1759202e-05 0.0000000e+00\n",
      "   2.6740139e-05 6.6666668e-03 1.3333334e-02 5.0000001e-02 1.0000000e-01\n",
      "   1.0000000e-01 1.0000000e-01 2.0000000e-01 2.0000000e-01 1.0000000e+00\n",
      "   1.0000000e+00 1.0000000e+00 1.0000000e+00]\n",
      "  [9.0946209e-01 9.0537898e-02 2.0679751e-04 5.1759202e-05 0.0000000e+00\n",
      "   2.6740139e-05 6.6666668e-03 1.3333334e-02 5.0000001e-02 1.0000000e-01\n",
      "   1.0000000e-01 1.0000000e-01 2.0000000e-01 2.0000000e-01 1.0000000e+00\n",
      "   1.0000000e+00 1.0000000e+00 1.0000000e+00]\n",
      "  [9.0946209e-01 9.0537898e-02 2.0679751e-04 5.1759202e-05 0.0000000e+00\n",
      "   2.6740139e-05 6.6666668e-03 1.3333334e-02 5.0000001e-02 1.0000000e-01\n",
      "   1.0000000e-01 1.0000000e-01 2.0000000e-01 2.0000000e-01 1.0000000e+00\n",
      "   1.0000000e+00 1.0000000e+00 1.0000000e+00]\n",
      "  [9.0946209e-01 9.0537898e-02 2.0679751e-04 5.1759202e-05 0.0000000e+00\n",
      "   2.6740139e-05 6.6666668e-03 1.3333334e-02 5.0000001e-02 1.0000000e-01\n",
      "   1.0000000e-01 1.0000000e-01 2.0000000e-01 2.0000000e-01 1.0000000e+00\n",
      "   1.0000000e+00 1.0000000e+00 1.0000000e+00]]]\n",
      "y_true_2_new:  (1, 2, 18)\n"
     ]
    },
    {
     "data": {
      "text/plain": [
       "(<tf.Tensor 'out_10:0' shape=<unknown> dtype=float32>,\n",
       " <tf.Tensor 'y_true_cond_4/Merge:0' shape=(1, ?, 18) dtype=float64>)"
      ]
     },
     "execution_count": 116,
     "metadata": {},
     "output_type": "execute_result"
    }
   ],
   "source": [
    "matcher(y_true_1d,y_true_2d,y_pred_1d,y_pred_2d,1)"
   ]
  },
  {
   "cell_type": "code",
   "execution_count": 77,
   "metadata": {},
   "outputs": [],
   "source": [
    "t = tf.convert_to_tensor(y_true_1d)"
   ]
  },
  {
   "cell_type": "code",
   "execution_count": 78,
   "metadata": {},
   "outputs": [],
   "source": [
    "x = tf.where(tf.not_equal(t[0,:,-1],99))"
   ]
  },
  {
   "cell_type": "code",
   "execution_count": 88,
   "metadata": {},
   "outputs": [],
   "source": [
    "f = tf.gather_nd(t[0,:,:],x)\n",
    "\n"
   ]
  },
  {
   "cell_type": "code",
   "execution_count": 89,
   "metadata": {},
   "outputs": [],
   "source": [
    "f = tf.expand_dims(f, 0)"
   ]
  },
  {
   "cell_type": "code",
   "execution_count": 90,
   "metadata": {},
   "outputs": [
    {
     "data": {
      "text/plain": [
       "(1, 4, 18)"
      ]
     },
     "execution_count": 90,
     "metadata": {},
     "output_type": "execute_result"
    }
   ],
   "source": [
    "K.eval(f).shape\n"
   ]
  },
  {
   "cell_type": "code",
   "execution_count": 34,
   "metadata": {},
   "outputs": [
    {
     "data": {
      "text/plain": [
       "array([[[1.00000000e+00, 0.00000000e+00, 6.66666667e-03, ...,\n",
       "         1.89000000e+02, 8.90000000e+01, 9.90000000e+01],\n",
       "        [1.00000000e+00, 0.00000000e+00, 6.66666667e-03, ...,\n",
       "         1.89000000e+02, 8.90000000e+01, 9.90000000e+01],\n",
       "        [1.00000000e+00, 0.00000000e+00, 6.66666667e-03, ...,\n",
       "         1.89000000e+02, 8.90000000e+01, 9.90000000e+01],\n",
       "        ...,\n",
       "        [1.00000000e+00, 0.00000000e+00, 2.75000000e+00, ...,\n",
       "         1.89000000e+02, 8.90000000e+01, 9.90000000e+01],\n",
       "        [1.00000000e+00, 0.00000000e+00, 2.75000000e+00, ...,\n",
       "         1.89000000e+02, 8.90000000e+01, 9.90000000e+01],\n",
       "        [1.00000000e+00, 0.00000000e+00, 2.75000000e+00, ...,\n",
       "         1.89000000e+02, 8.90000000e+01, 9.90000000e+01]],\n",
       "\n",
       "       [[1.00000000e+00, 0.00000000e+00, 6.66666667e-03, ...,\n",
       "         1.89000000e+02, 8.90000000e+01, 9.90000000e+01],\n",
       "        [1.00000000e+00, 0.00000000e+00, 6.66666667e-03, ...,\n",
       "         1.89000000e+02, 8.90000000e+01, 9.90000000e+01],\n",
       "        [1.00000000e+00, 0.00000000e+00, 6.66666667e-03, ...,\n",
       "         1.89000000e+02, 8.90000000e+01, 9.90000000e+01],\n",
       "        ...,\n",
       "        [1.00000000e+00, 0.00000000e+00, 2.75000000e+00, ...,\n",
       "         1.89000000e+02, 8.90000000e+01, 9.90000000e+01],\n",
       "        [1.00000000e+00, 0.00000000e+00, 2.75000000e+00, ...,\n",
       "         1.89000000e+02, 8.90000000e+01, 9.90000000e+01],\n",
       "        [1.00000000e+00, 0.00000000e+00, 2.75000000e+00, ...,\n",
       "         1.89000000e+02, 8.90000000e+01, 9.90000000e+01]]])"
      ]
     },
     "execution_count": 34,
     "metadata": {},
     "output_type": "execute_result"
    }
   ],
   "source": []
  },
  {
   "cell_type": "code",
   "execution_count": null,
   "metadata": {},
   "outputs": [],
   "source": []
  }
 ],
 "metadata": {
  "kernelspec": {
   "display_name": "Python 3",
   "language": "python",
   "name": "python3"
  },
  "language_info": {
   "codemirror_mode": {
    "name": "ipython",
    "version": 3
   },
   "file_extension": ".py",
   "mimetype": "text/x-python",
   "name": "python",
   "nbconvert_exporter": "python",
   "pygments_lexer": "ipython3",
   "version": "3.6.7"
  }
 },
 "nbformat": 4,
 "nbformat_minor": 2
}
