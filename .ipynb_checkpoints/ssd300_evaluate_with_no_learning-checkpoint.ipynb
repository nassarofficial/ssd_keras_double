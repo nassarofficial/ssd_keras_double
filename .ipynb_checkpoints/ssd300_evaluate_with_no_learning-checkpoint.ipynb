{
 "cells": [
  {
   "cell_type": "markdown",
   "metadata": {},
   "source": [
    "# SSD Evaluation Tutorial\n",
    "\n",
    "This is a brief tutorial that explains how compute the average precisions for any trained SSD model using the `Evaluator` class. The `Evaluator` computes the average precisions according to the Pascal VOC pre-2010 or post-2010 detection evaluation algorithms. You can find details about these computation methods [here](http://host.robots.ox.ac.uk/pascal/VOC/voc2012/htmldoc/devkit_doc.html#sec:ap).\n",
    "\n",
    "As an example we'll evaluate an SSD300 on the Pascal VOC 2007 `test` dataset, but note that the `Evaluator` works for any SSD model and any dataset that is compatible with the `DataGenerator`. If you would like to run the evaluation on a different model and/or dataset, the procedure is analogous to what is shown below, you just have to build the appropriate model and load the relevant dataset.\n",
    "\n",
    "Note: I that in case you would like to evaluate a model on MS COCO, I would recommend to follow the [MS COCO evaluation notebook](https://github.com/pierluigiferrari/ssd_keras/blob/master/ssd300_evaluation_COCO.ipynb) instead, because it can produce the results format required by the MS COCO evaluation server and uses the official MS COCO evaluation code, which computes the mAP slightly differently from the Pascal VOC method.\n",
    "\n",
    "Note: In case you want to evaluate any of the provided trained models, make sure that you build the respective model with the correct set of scaling factors to reproduce the official results. The models that were trained on MS COCO and fine-tuned on Pascal VOC require the MS COCO scaling factors, not the Pascal VOC scaling factors."
   ]
  },
  {
   "cell_type": "code",
   "execution_count": 1,
   "metadata": {},
   "outputs": [
    {
     "name": "stderr",
     "output_type": "stream",
     "text": [
      "Using TensorFlow backend.\n"
     ]
    }
   ],
   "source": [
    "from keras import backend as K\n",
    "from keras.models import load_model\n",
    "from keras.optimizers import Adam\n",
    "from scipy.misc import imread\n",
    "import numpy as np\n",
    "from matplotlib import pyplot as plt\n",
    "\n",
    "from models.keras_ssd300 import ssd_300\n",
    "from keras_loss_function.keras_ssd_loss_mod import SSDLoss\n",
    "from keras_loss_function.keras_ssd_loss_proj import SSDLoss_proj\n",
    "from keras_layers.keras_layer_AnchorBoxes import AnchorBoxes\n",
    "from keras_layers.keras_layer_DecodeDetections import DecodeDetections\n",
    "from keras_layers.keras_layer_DecodeDetectionsFast import DecodeDetectionsFast\n",
    "from keras_layers.keras_layer_L2Normalization import L2Normalization\n",
    "from data_generator.object_detection_2d_data_generator import DataGenerator\n",
    "from eval_utils.average_precision_evaluator_modified import Evaluator\n",
    "\n",
    "%matplotlib inline"
   ]
  },
  {
   "cell_type": "code",
   "execution_count": 2,
   "metadata": {},
   "outputs": [],
   "source": [
    "# Set a few configuration parameters.\n",
    "img_height = 300\n",
    "img_width = 600\n",
    "n_classes = 1\n",
    "model_mode = 'inference'"
   ]
  },
  {
   "cell_type": "markdown",
   "metadata": {},
   "source": [
    "## 1. Load a trained SSD\n",
    "\n",
    "Either load a trained model or build a model and load trained weights into it. Since the HDF5 files I'm providing contain only the weights for the various SSD versions, not the complete models, you'll have to go with the latter option when using this implementation for the first time. You can then of course save the model and next time load the full model directly, without having to build it.\n",
    "\n",
    "You can find the download links to all the trained model weights in the README."
   ]
  },
  {
   "cell_type": "markdown",
   "metadata": {},
   "source": [
    "### 1.1. Build the model and load trained weights into it"
   ]
  },
  {
   "cell_type": "code",
   "execution_count": 3,
   "metadata": {},
   "outputs": [
    {
     "name": "stderr",
     "output_type": "stream",
     "text": [
      "/home/nassar/gits/ssd_keras_double/models/keras_ssd300.py:612: UserWarning: Update your `Model` call to the Keras 2 API: `Model(outputs=[<tf.Tenso..., inputs=[<tf.Tenso...)`\n",
      "  model = Model(input=[x,geo_1,geo_2],output=[predictions, predictions_proj])\n"
     ]
    }
   ],
   "source": [
    "# 1: Build the Keras model\n",
    "\n",
    "K.clear_session() # Clear previous models from memory.\n",
    "\n",
    "model = ssd_300(image_size=(img_height, img_width, 3),\n",
    "                n_classes=n_classes,\n",
    "                mode=model_mode,\n",
    "                l2_regularization=0.0005,\n",
    "                scales=[0.1, 0.2, 0.37, 0.54, 0.71, 0.88, 1.05], # The scales for MS COCO [0.07, 0.15, 0.33, 0.51, 0.69, 0.87, 1.05]\n",
    "                aspect_ratios_per_layer=[[1.0, 2.0, 0.5],\n",
    "                                         [1.0, 2.0, 0.5, 3.0, 1.0/3.0],\n",
    "                                         [1.0, 2.0, 0.5, 3.0, 1.0/3.0],\n",
    "                                         [1.0, 2.0, 0.5, 3.0, 1.0/3.0],\n",
    "                                         [1.0, 2.0, 0.5],\n",
    "                                         [1.0, 2.0, 0.5]],\n",
    "                two_boxes_for_ar1=True,\n",
    "                steps=[8, 16, 32, 64, 100, 300],\n",
    "                offsets=[0.5, 0.5, 0.5, 0.5, 0.5, 0.5],\n",
    "                clip_boxes=False,\n",
    "                variances=[0.1, 0.1, 0.2, 0.2],\n",
    "                normalize_coords=True,\n",
    "                subtract_mean=[123, 117, 104],\n",
    "                swap_channels=[2, 1, 0],\n",
    "                confidence_thresh=0.01,\n",
    "                iou_threshold=0.5,\n",
    "                top_k=200,\n",
    "                nms_max_output_size=400)\n",
    "\n",
    "# 2: Load the trained weights into the model.\n",
    "\n",
    "# TODO: Set the path of the trained weights.\n",
    "weights_path = 'checkpoints/EXP3/double_ssd300_8.h5'\n",
    "\n",
    "model.load_weights(weights_path, by_name=True)\n",
    "\n",
    "# 3: Compile the model so that Keras won't complain the next time you load it.\n",
    "\n",
    "adam = Adam(lr=0.001, beta_1=0.9, beta_2=0.999, epsilon=1e-08, decay=0.0)\n",
    "\n",
    "ssd_loss = SSDLoss(neg_pos_ratio=3, alpha=1.0)\n",
    "\n",
    "model.compile(optimizer=adam, loss=ssd_loss.compute_loss)"
   ]
  },
  {
   "cell_type": "markdown",
   "metadata": {},
   "source": [
    "Or"
   ]
  },
  {
   "cell_type": "markdown",
   "metadata": {},
   "source": [
    "### 1.2. Load a trained model\n",
    "\n",
    "We set `model_mode` to 'inference' above, so the evaluator expects that you load a model that was built in 'inference' mode. If you're loading a model that was built in 'training' mode, change the `model_mode` parameter accordingly."
   ]
  },
  {
   "cell_type": "raw",
   "metadata": {
    "collapsed": true
   },
   "source": [
    "# TODO: Set the path to the `.h5` file of the model to be loaded.\n",
    "model_path = 'path/to/trained/model.h5'\n",
    "\n",
    "# We need to create an SSDLoss object in order to pass that to the model loader.\n",
    "ssd_loss = SSDLoss(neg_pos_ratio=3, alpha=1.0)\n",
    "\n",
    "K.clear_session() # Clear previous models from memory.\n",
    "\n",
    "model = load_model(model_path, custom_objects={'AnchorBoxes': AnchorBoxes,\n",
    "                                               'L2Normalization': L2Normalization,\n",
    "                                               'DecodeDetections': DecodeDetections,\n",
    "                                               'compute_loss': ssd_loss.compute_loss})"
   ]
  },
  {
   "cell_type": "markdown",
   "metadata": {},
   "source": [
    "## 2. Create a data generator for the evaluation dataset\n",
    "\n",
    "Instantiate a `DataGenerator` that will serve the evaluation dataset during the prediction phase."
   ]
  },
  {
   "cell_type": "code",
   "execution_count": null,
   "metadata": {},
   "outputs": [],
   "source": [
    "model.summary()"
   ]
  },
  {
   "cell_type": "code",
   "execution_count": 4,
   "metadata": {},
   "outputs": [
    {
     "name": "stdout",
     "output_type": "stream",
     "text": [
      "Processing image set 'test_few.txt': 100%|██████████| 4/4 [00:00<00:00, 23.95it/s]\n"
     ]
    }
   ],
   "source": [
    "dataset = DataGenerator()\n",
    "\n",
    "# TODO: Set the paths to the dataset here.\n",
    "VOC_2007_images_dir      = '../datasets/Images/'\n",
    "VOC_2007_annotations_dir      = '../datasets/VOC/Pasadena/Annotations_Multi/'\n",
    "VOC_2007_test_image_set_filename     = '../datasets/VOC/Pasadena/ImageSets/Main/reid/test_few.txt'\n",
    "\n",
    "# The XML parser needs to now what object class names to look for and in which order to map them to integers.\n",
    "classes = ['background',\n",
    "           'tree']\n",
    "\n",
    "dataset.parse_xml(images_dirs=[VOC_2007_images_dir],\n",
    "                  image_set_filenames=[VOC_2007_test_image_set_filename],\n",
    "                  annotations_dirs=[VOC_2007_annotations_dir],\n",
    "                  classes=classes,\n",
    "                  include_classes='all',\n",
    "                  exclude_truncated=False,\n",
    "                  exclude_difficult=False,\n",
    "                  ret=False)"
   ]
  },
  {
   "cell_type": "code",
   "execution_count": null,
   "metadata": {},
   "outputs": [],
   "source": [
    "dataset.labels"
   ]
  },
  {
   "cell_type": "markdown",
   "metadata": {},
   "source": [
    "## 3. Run the evaluation\n",
    "\n",
    "Now that we have instantiated a model and a data generator to serve the dataset, we can set up the evaluator and run the evaluation.\n",
    "\n",
    "The evaluator is quite flexible: It can compute the average precisions according to the Pascal VOC pre-2010 algorithm, which samples 11 equidistant points of the precision-recall curves, or according to the Pascal VOC post-2010 algorithm, which integrates numerically over the entire precision-recall curves instead of sampling a few individual points. You could also change the number of sampled recall points or the required IoU overlap for a prediction to be considered a true positive, among other things. Check out the `Evaluator`'s documentation for details on all the arguments.\n",
    "\n",
    "In its default settings, the evaluator's algorithm is identical to the official Pascal VOC pre-2010 Matlab detection evaluation algorithm, so you don't really need to tweak anything unless you want to.\n",
    "\n",
    "The evaluator roughly performs the following steps: It runs predictions over the entire given dataset, then it matches these predictions to the ground truth boxes, then it computes the precision-recall curves for each class, then it samples 11 equidistant points from these precision-recall curves to compute the average precision for each class, and finally it computes the mean average precision over all classes."
   ]
  },
  {
   "cell_type": "code",
   "execution_count": 5,
   "metadata": {
    "scrolled": false
   },
   "outputs": [],
   "source": [
    "evaluator = Evaluator(model=model,\n",
    "                      n_classes=n_classes,\n",
    "                      data_generator=dataset,\n",
    "                      model_mode=model_mode)"
   ]
  },
  {
   "cell_type": "code",
   "execution_count": null,
   "metadata": {},
   "outputs": [],
   "source": [
    "evaluator.model.summary()"
   ]
  },
  {
   "cell_type": "code",
   "execution_count": 6,
   "metadata": {},
   "outputs": [
    {
     "name": "stdout",
     "output_type": "stream",
     "text": [
      "Number of images in the evaluation dataset: 4\n",
      "\n",
      "Producing predictions batch-wise: 100%|██████████| 4/4 [00:02<00:00,  1.52it/s]\n",
      "predictions:  [('ZrJFziHS3ADOec3trJb8hA_z2', 0.99841917, 641.0, 252.0, 1004.0, 578.0), ('ZrJFziHS3ADOec3trJb8hA_z2', 0.99565244, 10.0, 153.0, 428.0, 560.0), ('ZrJFziHS3ADOec3trJb8hA_z2', 0.9643561, 1512.0, 189.0, 1904.0, 562.0), ('ZrJFziHS3ADOec3trJb8hA_z2', 0.92126083, 1046.0, 317.0, 1215.0, 534.0), ('ZrJFziHS3ADOec3trJb8hA_z2', 0.73263216, 1259.0, 331.0, 1407.0, 566.0), ('ZrJFziHS3ADOec3trJb8hA_z2', 0.6220916, 401.0, 295.0, 638.0, 554.0), ('ZrJFziHS3ADOec3trJb8hA_z2', 0.2993479, 1407.0, 122.0, 1741.0, 581.0), ('ZrJFziHS3ADOec3trJb8hA_z2', 0.18485275, 1137.0, 330.0, 1306.0, 537.0), ('ZrJFziHS3ADOec3trJb8hA_z2', 0.18108495, 865.0, 408.0, 948.0, 551.0), ('ZrJFziHS3ADOec3trJb8hA_z2', 0.113353744, 1202.0, 337.0, 1369.0, 541.0), ('ZrJFziHS3ADOec3trJb8hA_z2', 0.10618655, 1175.0, 390.0, 1255.0, 525.0), ('ZrJFziHS3ADOec3trJb8hA_z2', 0.10449325, 200.0, 312.0, 395.0, 550.0), ('ZrJFziHS3ADOec3trJb8hA_z2', 0.08422201, 1437.0, 111.0, 1584.0, 580.0), ('ZrJFziHS3ADOec3trJb8hA_z2', 0.08388687, 478.0, 307.0, 612.0, 533.0), ('ZrJFziHS3ADOec3trJb8hA_z2', 0.08299948, 1370.0, 715.0, 1446.0, 886.0), ('ZrJFziHS3ADOec3trJb8hA_z2', 0.07873382, 265.0, 301.0, 446.0, 540.0), ('ZrJFziHS3ADOec3trJb8hA_z2', 0.07844326, 1376.0, 151.0, 1606.0, 680.0), ('ZrJFziHS3ADOec3trJb8hA_z2', 0.07607513, 1463.0, 333.0, 1650.0, 558.0), ('ZrJFziHS3ADOec3trJb8hA_z2', 0.07544495, 1527.0, 260.0, 1697.0, 550.0), ('ZrJFziHS3ADOec3trJb8hA_z2', 0.07046902, 1748.0, 361.0, 1888.0, 540.0), ('ZrJFziHS3ADOec3trJb8hA_z2', 0.06881928, 597.0, 340.0, 668.0, 536.0), ('ZrJFziHS3ADOec3trJb8hA_z2', 0.067166284, 1374.0, -57.0, 1604.0, 503.0), ('ZrJFziHS3ADOec3trJb8hA_z2', 0.06606992, 1555.0, 418.0, 1647.0, 529.0), ('ZrJFziHS3ADOec3trJb8hA_z2', 0.06576569, 1092.0, 341.0, 1174.0, 522.0), ('ZrJFziHS3ADOec3trJb8hA_z2', 0.065441534, 333.0, 344.0, 689.0, 488.0), ('ZrJFziHS3ADOec3trJb8hA_z2', 0.06375614, 688.0, 395.0, 777.0, 535.0), ('ZrJFziHS3ADOec3trJb8hA_z2', 0.06310673, 520.0, 328.0, 594.0, 523.0), ('ZrJFziHS3ADOec3trJb8hA_z2', 0.063013084, 1773.0, 397.0, 1858.0, 542.0), ('ZrJFziHS3ADOec3trJb8hA_z2', 0.06290357, 1351.0, 335.0, 1532.0, 557.0), ('ZrJFziHS3ADOec3trJb8hA_z2', 0.06256616, 1201.0, 397.0, 1280.0, 525.0), ('ZrJFziHS3ADOec3trJb8hA_z2', 0.062377635, 1999.0, -58.0, 2072.0, 85.0), ('ZrJFziHS3ADOec3trJb8hA_z2', 0.062270585, 1122.0, 346.0, 1200.0, 521.0), ('ZrJFziHS3ADOec3trJb8hA_z2', 0.061545867, 1498.0, 328.0, 1740.0, 508.0), ('ZrJFziHS3ADOec3trJb8hA_z2', 0.06138598, 1803.0, 380.0, 1883.0, 525.0), ('ZrJFziHS3ADOec3trJb8hA_z2', 0.060983527, 2000.0, 570.0, 2070.0, 711.0), ('ZrJFziHS3ADOec3trJb8hA_z2', 0.060711466, 1072.0, 367.0, 1147.0, 521.0), ('ZrJFziHS3ADOec3trJb8hA_z2', 0.06064962, 792.0, 432.0, 874.0, 576.0), ('ZrJFziHS3ADOec3trJb8hA_z2', 0.060580928, 56.0, 412.0, 135.0, 545.0), ('ZrJFziHS3ADOec3trJb8hA_z2', 0.060507756, 2000.0, 624.0, 2070.0, 766.0), ('ZrJFziHS3ADOec3trJb8hA_z2', 0.060356047, 2000.0, 488.0, 2070.0, 628.0), ('ZrJFziHS3ADOec3trJb8hA_z2', 0.05998108, -140.0, -16.0, 255.0, 378.0), ('ZrJFziHS3ADOec3trJb8hA_z2', 0.059908133, 1308.0, 414.0, 1391.0, 566.0), ('ZrJFziHS3ADOec3trJb8hA_z2', 0.059841223, 1541.0, 155.0, 1604.0, 313.0), ('ZrJFziHS3ADOec3trJb8hA_z2', 0.059787214, 1256.0, 740.0, 1336.0, 879.0), ('ZrJFziHS3ADOec3trJb8hA_z2', 0.059745215, 1157.0, 358.0, 1228.0, 513.0), ('ZrJFziHS3ADOec3trJb8hA_z2', 0.05953231, 911.0, 383.0, 974.0, 528.0), ('ZrJFziHS3ADOec3trJb8hA_z2', 0.05939755, 1754.0, 378.0, 1833.0, 526.0), ('ZrJFziHS3ADOec3trJb8hA_z2', 0.05931498, 392.0, 392.0, 724.0, 523.0), ('ZrJFziHS3ADOec3trJb8hA_z2', 0.05924805, 1437.0, 175.0, 1840.0, 753.0), ('ZrJFziHS3ADOec3trJb8hA_z2', 0.059231948, 1918.0, 447.0, 1988.0, 527.0), ('ZrJFziHS3ADOec3trJb8hA_z2', 0.05918489, 1045.0, 433.0, 1117.0, 524.0), ('ZrJFziHS3ADOec3trJb8hA_z2', 0.05911149, 1582.0, 246.0, 1761.0, 546.0), ('ZrJFziHS3ADOec3trJb8hA_z2', 0.05897773, 1904.0, 64.0, 2194.0, 208.0), ('ZrJFziHS3ADOec3trJb8hA_z2', 0.05889416, 1237.0, 153.0, 2012.0, 542.0), ('ZrJFziHS3ADOec3trJb8hA_z2', 0.05877439, 777.0, 263.0, 1056.0, 555.0), ('ZrJFziHS3ADOec3trJb8hA_z2', 0.058774315, 1988.0, -43.0, 2107.0, 314.0), ('ZrJFziHS3ADOec3trJb8hA_z2', 0.058766335, 2000.0, 788.0, 2070.0, 930.0), ('ZrJFziHS3ADOec3trJb8hA_z2', 0.058722135, 1962.0, 661.0, 2106.0, 732.0), ('ZrJFziHS3ADOec3trJb8hA_z2', 0.05869943, 376.0, 58.0, 817.0, 529.0), ('ZrJFziHS3ADOec3trJb8hA_z2', 0.058658447, 98.0, 316.0, 283.0, 561.0), ('ZrJFziHS3ADOec3trJb8hA_z2', 0.05860377, 1637.0, 207.0, 1823.0, 540.0), ('ZrJFziHS3ADOec3trJb8hA_z2', 0.058603745, 1342.0, 406.0, 1412.0, 545.0), ('ZrJFziHS3ADOec3trJb8hA_z2', 0.05856072, 140.0, 428.0, 216.0, 575.0), ('ZrJFziHS3ADOec3trJb8hA_z2', 0.05849115, 1962.0, 606.0, 2105.0, 677.0), ('ZrJFziHS3ADOec3trJb8hA_z2', 0.058416013, 710.0, 353.0, 1058.0, 478.0), ('ZrJFziHS3ADOec3trJb8hA_z2', 0.058381557, 1639.0, 346.0, 1712.0, 522.0), ('ZrJFziHS3ADOec3trJb8hA_z2', 0.058343012, 1812.0, 268.0, 1878.0, 421.0), ('ZrJFziHS3ADOec3trJb8hA_z2', 0.05824418, 1504.0, 401.0, 1886.0, 788.0), ('ZrJFziHS3ADOec3trJb8hA_z2', 0.05823708, 557.0, 341.0, 625.0, 513.0), ('ZrJFziHS3ADOec3trJb8hA_z2', 0.05823399, 2000.0, 706.0, 2070.0, 848.0), ('ZrJFziHS3ADOec3trJb8hA_z2', 0.05823312, 1946.0, 441.0, 2022.0, 530.0), ('ZrJFziHS3ADOec3trJb8hA_z2', 0.058181245, 1537.0, 378.0, 1608.0, 530.0), ('ZrJFziHS3ADOec3trJb8hA_z2', 0.058173865, 337.0, 210.0, 403.0, 362.0), ('ZrJFziHS3ADOec3trJb8hA_z2', 0.05809743, 2000.0, 296.0, 2070.0, 439.0), ('ZrJFziHS3ADOec3trJb8hA_z2', 0.05806944, 1947.0, -77.0, 2151.0, 130.0), ('ZrJFziHS3ADOec3trJb8hA_z2', 0.05806629, -63.0, 357.0, 131.0, 563.0), ('ZrJFziHS3ADOec3trJb8hA_z2', 0.0580254, 1179.0, 127.0, 1602.0, 601.0), ('ZrJFziHS3ADOec3trJb8hA_z2', 0.05799722, 947.0, 60.0, 1476.0, 598.0), ('ZrJFziHS3ADOec3trJb8hA_z2', 0.05794968, -32.0, 560.0, 87.0, 914.0), ('ZrJFziHS3ADOec3trJb8hA_z2', 0.057942238, 1836.0, 406.0, 1905.0, 535.0), ('ZrJFziHS3ADOec3trJb8hA_z2', 0.057923447, -20.0, 923.0, 49.0, 1067.0), ('ZrJFziHS3ADOec3trJb8hA_z2', 0.05791608, 1962.0, 5.0, 2105.0, 77.0), ('ZrJFziHS3ADOec3trJb8hA_z2', 0.057913087, 1963.0, -23.0, 2107.0, 48.0), ('ZrJFziHS3ADOec3trJb8hA_z2', 0.05790911, 272.0, 239.0, 539.0, 519.0), ('ZrJFziHS3ADOec3trJb8hA_z2', 0.05789569, 597.0, -57.0, 1041.0, 399.0), ('ZrJFziHS3ADOec3trJb8hA_z2', 0.057873588, 1447.0, 443.0, 1520.0, 565.0), ('ZrJFziHS3ADOec3trJb8hA_z2', 0.05784976, 1905.0, 119.0, 2194.0, 263.0), ('ZrJFziHS3ADOec3trJb8hA_z2', 0.057835795, -116.0, 665.0, 171.0, 809.0), ('ZrJFziHS3ADOec3trJb8hA_z2', 0.057824362, 1700.0, 376.0, 1777.0, 530.0), ('ZrJFziHS3ADOec3trJb8hA_z2', 0.057821892, -19.0, 21.0, 49.0, 167.0), ('ZrJFziHS3ADOec3trJb8hA_z2', 0.05781358, 574.0, 179.0, 962.0, 831.0), ('ZrJFziHS3ADOec3trJb8hA_z2', 0.057808403, 1507.0, 105.0, 1578.0, 259.0), ('ZrJFziHS3ADOec3trJb8hA_z2', 0.057806585, -80.0, 333.0, 190.0, 867.0), ('ZrJFziHS3ADOec3trJb8hA_z2', 0.057792936, 674.0, 347.0, 812.0, 526.0), ('ZrJFziHS3ADOec3trJb8hA_z2', 0.05777583, 1695.0, 353.0, 1834.0, 536.0), ('ZrJFziHS3ADOec3trJb8hA_z2', 0.057729065, 1962.0, 524.0, 2105.0, 595.0), ('ZrJFziHS3ADOec3trJb8hA_z2', 0.05772003, 1690.0, 258.0, 1871.0, 542.0), ('ZrJFziHS3ADOec3trJb8hA_z2', 0.05771932, 882.0, 342.0, 949.0, 523.0), ('ZrJFziHS3ADOec3trJb8hA_z2', 0.057717226, 351.0, 162.0, 724.0, 851.0), ('ZrJFziHS3ADOec3trJb8hA_z2', 0.057709698, 1831.0, -27.0, 2214.0, 351.0), ('ZrJFziHS3ADOec3trJb8hA_z2', 0.057670422, 2004.0, 376.0, 2067.0, 521.0), ('ZrJFziHS3ADOec3trJb8hA_z2', 0.057656616, 670.0, 375.0, 737.0, 525.0), ('ZrJFziHS3ADOec3trJb8hA_z2', 0.057650063, -19.0, 77.0, 49.0, 221.0), ('ZrJFziHS3ADOec3trJb8hA_z2', 0.057611834, -16.0, 239.0, 49.0, 388.0), ('ZrJFziHS3ADOec3trJb8hA_z2', 0.057583027, 1962.0, 825.0, 2106.0, 896.0), ('ZrJFziHS3ADOec3trJb8hA_z2', 0.057579175, 1267.0, 230.0, 1531.0, 508.0), ('ZrJFziHS3ADOec3trJb8hA_z2', 0.057568688, -20.0, 132.0, 49.0, 275.0), ('ZrJFziHS3ADOec3trJb8hA_z2', 0.057554808, -20.0, 678.0, 49.0, 821.0), ('ZrJFziHS3ADOec3trJb8hA_z2', 0.057550978, 1822.0, 55.0, 2352.0, 605.0), ('ZrJFziHS3ADOec3trJb8hA_z2', 0.05752874, 1970.0, 439.0, 2037.0, 552.0), ('ZrJFziHS3ADOec3trJb8hA_z2', 0.057504367, 822.0, 407.0, 898.0, 554.0), ('ZrJFziHS3ADOec3trJb8hA_z2', 0.057463646, 910.0, 317.0, 975.0, 488.0), ('ZrJFziHS3ADOec3trJb8hA_z2', 0.057431016, -32.0, 724.0, 86.0, 1078.0), ('ZrJFziHS3ADOec3trJb8hA_z2', 0.057414517, -27.0, 220.0, 93.0, 576.0), ('ZrJFziHS3ADOec3trJb8hA_z2', 0.05737818, 1718.0, 231.0, 1809.0, 330.0), ('ZrJFziHS3ADOec3trJb8hA_z2', 0.057313163, 936.0, 457.0, 1009.0, 541.0), ('ZrJFziHS3ADOec3trJb8hA_z2', 0.057304893, 60.0, 344.0, 131.0, 509.0), ('ZrJFziHS3ADOec3trJb8hA_z2', 0.05726741, 498.0, 391.0, 571.0, 542.0), ('ZrJFziHS3ADOec3trJb8hA_z2', 0.057246577, -147.0, 404.0, 207.0, 524.0), ('ZrJFziHS3ADOec3trJb8hA_z2', 0.057215817, 1985.0, 432.0, 2074.0, 528.0), ('ZrJFziHS3ADOec3trJb8hA_z2', 0.05721511, 1566.0, 156.0, 1632.0, 306.0), ('ZrJFziHS3ADOec3trJb8hA_z2', 0.057214137, -22.0, 404.0, 48.0, 545.0), ('ZrJFziHS3ADOec3trJb8hA_z2', 0.057186686, -20.0, 869.0, 49.0, 1012.0), ('ZrJFziHS3ADOec3trJb8hA_z2', 0.057184566, -151.0, 623.0, 204.0, 742.0), ('ZrJFziHS3ADOec3trJb8hA_z2', 0.0571778, 1963.0, 497.0, 2103.0, 569.0), ('ZrJFziHS3ADOec3trJb8hA_z2', 0.057174664, 788.0, 387.0, 926.0, 566.0), ('ZrJFziHS3ADOec3trJb8hA_z2', 0.057171475, 2000.0, 51.0, 2070.0, 192.0), ('ZrJFziHS3ADOec3trJb8hA_z2', 0.05716911, -151.0, 842.0, 204.0, 960.0), ('ZrJFziHS3ADOec3trJb8hA_z2', 0.05716159, -20.0, 815.0, 49.0, 957.0), ('ZrJFziHS3ADOec3trJb8hA_z2', 0.057158064, 635.0, 372.0, 702.0, 524.0), ('ZrJFziHS3ADOec3trJb8hA_z2', 0.057147965, -35.0, 234.0, 61.0, 336.0), ('ZrJFziHS3ADOec3trJb8hA_z2', 0.057125587, 1962.0, 333.0, 2106.0, 404.0), ('ZrJFziHS3ADOec3trJb8hA_z2', 0.05709578, 574.0, 342.0, 663.0, 468.0), ('ZrJFziHS3ADOec3trJb8hA_z2', 0.057076942, -20.0, 569.0, 49.0, 712.0), ('ZrJFziHS3ADOec3trJb8hA_z2', 0.05707191, 1100.0, 431.0, 1175.0, 550.0), ('ZrJFziHS3ADOec3trJb8hA_z2', 0.057055596, 144.0, 377.0, 211.0, 536.0), ('ZrJFziHS3ADOec3trJb8hA_z2', 0.05704865, 1887.0, -215.0, 2157.0, 320.0), ('ZrJFziHS3ADOec3trJb8hA_z2', 0.056999452, 1871.0, -32.0, 2226.0, 86.0), ('ZrJFziHS3ADOec3trJb8hA_z2', 0.056993734, 1208.0, 352.0, 1566.0, 480.0), ('ZrJFziHS3ADOec3trJb8hA_z2', 0.05697711, 1905.0, 9.0, 2194.0, 154.0), ('ZrJFziHS3ADOec3trJb8hA_z2', 0.056975275, -35.0, 292.0, 61.0, 390.0), ('ZrJFziHS3ADOec3trJb8hA_z2', 0.056970485, 1482.0, 951.0, 1551.0, 1094.0), ('ZrJFziHS3ADOec3trJb8hA_z2', 0.056967407, 697.0, 265.0, 1248.0, 795.0), ('ZrJFziHS3ADOec3trJb8hA_z2', 0.056965005, -20.0, 624.0, 49.0, 766.0), ('ZrJFziHS3ADOec3trJb8hA_z2', 0.056947425, -21.0, 514.0, 49.0, 658.0), ('ZrJFziHS3ADOec3trJb8hA_z2', 0.05691568, -20.0, 733.0, 49.0, 876.0), ('ZrJFziHS3ADOec3trJb8hA_z2', 0.056912284, 1984.0, 672.0, 2084.0, 773.0), ('ZrJFziHS3ADOec3trJb8hA_z2', 0.056863334, 1984.0, 836.0, 2084.0, 937.0), ('ZrJFziHS3ADOec3trJb8hA_z2', 0.056862645, 1524.0, 182.0, 1615.0, 280.0), ('ZrJFziHS3ADOec3trJb8hA_z2', 0.056862574, -19.0, 354.0, 48.0, 496.0), ('ZrJFziHS3ADOec3trJb8hA_z2', 0.056843463, 1026.0, 350.0, 1086.0, 506.0), ('ZrJFziHS3ADOec3trJb8hA_z2', 0.056807004, 1454.0, 951.0, 1524.0, 1094.0), ('ZrJFziHS3ADOec3trJb8hA_z2', 0.056806084, 1173.0, 419.0, 1297.0, 559.0), ('ZrJFziHS3ADOec3trJb8hA_z2', 0.05680052, -73.0, 799.0, 128.0, 1003.0), ('ZrJFziHS3ADOec3trJb8hA_z2', 0.056796074, 710.0, 427.0, 786.0, 559.0), ('ZrJFziHS3ADOec3trJb8hA_z2', 0.056788497, 1963.0, 623.0, 2106.0, 770.0), ('ZrJFziHS3ADOec3trJb8hA_z2', 0.056780756, 214.0, 181.0, 306.0, 273.0), ('ZrJFziHS3ADOec3trJb8hA_z2', 0.056776937, -73.0, 582.0, 127.0, 785.0), ('ZrJFziHS3ADOec3trJb8hA_z2', 0.056764923, 1443.0, 989.0, 1587.0, 1060.0), ('ZrJFziHS3ADOec3trJb8hA_z2', 0.0567643, 1538.0, 213.0, 1604.0, 365.0), ('ZrJFziHS3ADOec3trJb8hA_z2', 0.056743085, 1052.0, 338.0, 1117.0, 520.0), ('ZrJFziHS3ADOec3trJb8hA_z2', 0.056741673, 1453.0, 101.0, 1620.0, 313.0), ('ZrJFziHS3ADOec3trJb8hA_z2', 0.056735963, 1904.0, 468.0, 2004.0, 539.0), ('ZrJFziHS3ADOec3trJb8hA_z2', 0.056734614, 1726.0, 353.0, 1799.0, 513.0), ('ZrJFziHS3ADOec3trJb8hA_z2', 0.05670741, -35.0, 345.0, 62.0, 446.0), ('ZrJFziHS3ADOec3trJb8hA_z2', 0.056706905, 213.0, 210.0, 305.0, 305.0), ('ZrJFziHS3ADOec3trJb8hA_z2', 0.056701746, -116.0, 720.0, 171.0, 864.0), ('ZrJFziHS3ADOec3trJb8hA_z2', 0.056697804, -20.0, -32.0, 49.0, 111.0), ('ZrJFziHS3ADOec3trJb8hA_z2', 0.056696963, -17.0, 295.0, 49.0, 443.0), ('ZrJFziHS3ADOec3trJb8hA_z2', 0.056694753, 1755.0, -80.0, 2291.0, 189.0), ('ZrJFziHS3ADOec3trJb8hA_z2', 0.0566808, 268.0, 289.0, 362.0, 386.0), ('ZrJFziHS3ADOec3trJb8hA_z2', 0.05664771, -153.0, 459.0, 206.0, 577.0), ('ZrJFziHS3ADOec3trJb8hA_z2', 0.05663726, -45.0, 429.0, 99.0, 717.0), ('ZrJFziHS3ADOec3trJb8hA_z2', 0.056631852, 1984.0, 617.0, 2084.0, 719.0), ('ZrJFziHS3ADOec3trJb8hA_z2', 0.0566206, -116.0, 774.0, 171.0, 919.0), ('ZrJFziHS3ADOec3trJb8hA_z2', 0.05661126, 1961.0, 743.0, 2105.0, 813.0), ('ZrJFziHS3ADOec3trJb8hA_z2', 0.056607567, 1505.0, 398.0, 1578.0, 559.0), ('ZrJFziHS3ADOec3trJb8hA_z2', 0.056603007, -19.0, 184.0, 49.0, 332.0), ('ZrJFziHS3ADOec3trJb8hA_z2', 0.056593075, 1676.0, 375.0, 1747.0, 523.0), ('ZrJFziHS3ADOec3trJb8hA_z2', 0.056569614, -152.0, 569.0, 204.0, 687.0), ('ZrJFziHS3ADOec3trJb8hA_z2', 0.05656486, 1427.0, 951.0, 1496.0, 1094.0), ('ZrJFziHS3ADOec3trJb8hA_z2', 0.05656253, 1585.0, 378.0, 1662.0, 522.0), ('ZrJFziHS3ADOec3trJb8hA_z2', 0.05655951, 1962.0, 569.0, 2106.0, 715.0), ('ZrJFziHS3ADOec3trJb8hA_z2', 0.056558385, -21.0, 459.0, 49.0, 601.0), ('ZrJFziHS3ADOec3trJb8hA_z2', 0.056556836, -58.0, 365.0, 392.0, 814.0), ('ZrJFziHS3ADOec3trJb8hA_z2', 0.056555692, -116.0, 502.0, 170.0, 645.0), ('ZrJFziHS3ADOec3trJb8hA_z2', 0.056550402, 1685.0, 593.0, 2129.0, 1044.0), ('ZrJFziHS3ADOec3trJb8hA_z2', 0.05652505, 608.0, 139.0, 1297.0, 536.0), ('ZrJFziHS3ADOec3trJb8hA_z2', 0.056501705, 1700.0, 56.0, 2345.0, 272.0), ('ZrJFziHS3ADOec3trJb8hA_z2', 0.056485306, -76.0, 152.0, 334.0, 731.0), ('ZrJFziHS3ADOec3trJb8hA_z2', 0.056474682, 508.0, 373.0, 1438.0, 706.0), ('ZrJFziHS3ADOec3trJb8hA_z2', 0.05647098, 189.0, 410.0, 570.0, 791.0), ('ZrJFziHS3ADOec3trJb8hA_z2', 0.056443438, 1389.0, 989.0, 1533.0, 1060.0), ('ZrJFziHS3ADOec3trJb8hA_z2', 0.05641624, 2003.0, 952.0, 2069.0, 1096.0), ('ZrJFziHS3ADOec3trJb8hA_z2', 0.05637364, -45.0, 867.0, 99.0, 1155.0), ('ZrJFziHS3ADOec3trJb8hA_z2', 0.056371003, -59.0, 962.0, 86.0, 1032.0), ('ZrJFziHS3ADOec3trJb8hA_z2', 0.0563559, 250.0, 324.0, 320.0, 477.0), ('ZrJFziHS3ADOec3trJb8hA_z2', 0.05634136, 1419.0, 470.0, 1512.0, 580.0), ('ZrJFziHS3ADOec3trJb8hA_z2', 0.05634058, 1985.0, 344.0, 2083.0, 446.0), ('ZrJFziHS3ADOec3trJb8hA_z2', 0.05632625, 1786.0, 267.0, 1850.0, 414.0), ('UvQfCDRf-HU6lAOFGu5_8A_z2', 0.99940646, 696.0, 310.0, 867.0, 542.0), ('UvQfCDRf-HU6lAOFGu5_8A_z2', 0.9970085, 1767.0, 302.0, 2028.0, 602.0), ('UvQfCDRf-HU6lAOFGu5_8A_z2', 0.9292744, 31.0, 278.0, 248.0, 556.0), ('UvQfCDRf-HU6lAOFGu5_8A_z2', 0.9106754, 1041.0, 360.0, 1219.0, 536.0), ('UvQfCDRf-HU6lAOFGu5_8A_z2', 0.85042125, 250.0, 262.0, 596.0, 576.0), ('UvQfCDRf-HU6lAOFGu5_8A_z2', 0.81262857, 1326.0, 429.0, 1442.0, 566.0), ('UvQfCDRf-HU6lAOFGu5_8A_z2', 0.48687732, 1551.0, 445.0, 1639.0, 551.0), ('UvQfCDRf-HU6lAOFGu5_8A_z2', 0.35847598, 923.0, 398.0, 973.0, 514.0), ('UvQfCDRf-HU6lAOFGu5_8A_z2', 0.27447444, 1206.0, 142.0, 1342.0, 566.0), ('UvQfCDRf-HU6lAOFGu5_8A_z2', 0.20526122, 1357.0, 584.0, 1447.0, 703.0), ('UvQfCDRf-HU6lAOFGu5_8A_z2', 0.19704905, 1681.0, 433.0, 1770.0, 546.0), ('UvQfCDRf-HU6lAOFGu5_8A_z2', 0.13586316, 399.0, 273.0, 685.0, 573.0), ('UvQfCDRf-HU6lAOFGu5_8A_z2', 0.13467602, 865.0, 381.0, 930.0, 518.0), ('UvQfCDRf-HU6lAOFGu5_8A_z2', 0.11411859, 1037.0, 387.0, 1120.0, 518.0), ('UvQfCDRf-HU6lAOFGu5_8A_z2', 0.10500596, 1885.0, 337.0, 2028.0, 545.0), ('UvQfCDRf-HU6lAOFGu5_8A_z2', 0.09671322, 619.0, 284.0, 763.0, 547.0), ('UvQfCDRf-HU6lAOFGu5_8A_z2', 0.08340958, 1145.0, 71.0, 1677.0, 595.0), ('UvQfCDRf-HU6lAOFGu5_8A_z2', 0.08013985, 1155.0, 48.0, 1376.0, 598.0), ('UvQfCDRf-HU6lAOFGu5_8A_z2', 0.07688564, 1281.0, 404.0, 1360.0, 543.0), ('UvQfCDRf-HU6lAOFGu5_8A_z2', 0.07287319, 1213.0, 119.0, 1490.0, 621.0), ('UvQfCDRf-HU6lAOFGu5_8A_z2', 0.06686131, 1089.0, 379.0, 1183.0, 524.0), ('UvQfCDRf-HU6lAOFGu5_8A_z2', 0.06651919, 228.0, 287.0, 390.0, 553.0), ('UvQfCDRf-HU6lAOFGu5_8A_z2', 0.06415075, 944.0, 403.0, 986.0, 514.0), ('UvQfCDRf-HU6lAOFGu5_8A_z2', 0.06388426, 153.0, 347.0, 328.0, 559.0), ('UvQfCDRf-HU6lAOFGu5_8A_z2', 0.062718965, 142.0, 368.0, 219.0, 539.0), ('UvQfCDRf-HU6lAOFGu5_8A_z2', 0.062652424, 768.0, 335.0, 844.0, 522.0), ('UvQfCDRf-HU6lAOFGu5_8A_z2', 0.062418338, 257.0, 122.0, 700.0, 549.0), ('UvQfCDRf-HU6lAOFGu5_8A_z2', 0.062262565, 1945.0, 360.0, 2019.0, 540.0), ('UvQfCDRf-HU6lAOFGu5_8A_z2', 0.06225339, 52.0, 72.0, 501.0, 537.0), ('UvQfCDRf-HU6lAOFGu5_8A_z2', 0.062154964, 1154.0, 266.0, 1301.0, 557.0), ('UvQfCDRf-HU6lAOFGu5_8A_z2', 0.061659526, 622.0, 444.0, 675.0, 551.0), ('UvQfCDRf-HU6lAOFGu5_8A_z2', 0.06159882, 78.0, 244.0, 532.0, 635.0), ('UvQfCDRf-HU6lAOFGu5_8A_z2', 0.06116664, 1999.0, -58.0, 2072.0, 85.0), ('UvQfCDRf-HU6lAOFGu5_8A_z2', 0.060535785, 37.0, 359.0, 108.0, 529.0), ('UvQfCDRf-HU6lAOFGu5_8A_z2', 0.06026967, 1395.0, 436.0, 1463.0, 559.0), ('UvQfCDRf-HU6lAOFGu5_8A_z2', 0.06015859, 1178.0, -11.0, 1554.0, 383.0), ('UvQfCDRf-HU6lAOFGu5_8A_z2', 0.06011578, 1151.0, 386.0, 1223.0, 520.0), ('UvQfCDRf-HU6lAOFGu5_8A_z2', 0.060038075, 1239.0, 210.0, 1301.0, 396.0), ('UvQfCDRf-HU6lAOFGu5_8A_z2', 0.059994467, 1025.0, 425.0, 1096.0, 522.0), ('UvQfCDRf-HU6lAOFGu5_8A_z2', 0.059969503, 1480.0, 448.0, 1553.0, 588.0), ('UvQfCDRf-HU6lAOFGu5_8A_z2', 0.059886705, 2000.0, 569.0, 2070.0, 711.0), ('UvQfCDRf-HU6lAOFGu5_8A_z2', 0.059691843, 933.0, 131.0, 1368.0, 596.0), ('UvQfCDRf-HU6lAOFGu5_8A_z2', 0.059649564, 1607.0, 276.0, 2110.0, 795.0), ('UvQfCDRf-HU6lAOFGu5_8A_z2', 0.05959766, 1763.0, 363.0, 1931.0, 578.0), ('UvQfCDRf-HU6lAOFGu5_8A_z2', 0.059592817, 1239.0, 281.0, 1431.0, 538.0), ('UvQfCDRf-HU6lAOFGu5_8A_z2', 0.059560385, 797.0, 342.0, 866.0, 508.0), ('UvQfCDRf-HU6lAOFGu5_8A_z2', 0.059154898, 1970.0, 365.0, 2037.0, 531.0), ('UvQfCDRf-HU6lAOFGu5_8A_z2', 0.0591123, 711.0, 437.0, 786.0, 554.0), ('UvQfCDRf-HU6lAOFGu5_8A_z2', 0.059040666, 271.0, 290.0, 452.0, 579.0), ('UvQfCDRf-HU6lAOFGu5_8A_z2', 0.059023693, 80.0, 348.0, 226.0, 548.0), ('UvQfCDRf-HU6lAOFGu5_8A_z2', 0.059017014, 343.0, 182.0, 736.0, 852.0), ('UvQfCDRf-HU6lAOFGu5_8A_z2', 0.05891845, 955.0, 397.0, 1030.0, 502.0), ('UvQfCDRf-HU6lAOFGu5_8A_z2', 0.05886298, 1264.0, 209.0, 1330.0, 368.0), ('UvQfCDRf-HU6lAOFGu5_8A_z2', 0.058661263, 1789.0, 55.0, 2248.0, 511.0), ('UvQfCDRf-HU6lAOFGu5_8A_z2', 0.0586132, 1048.0, 146.0, 1320.0, 457.0), ('UvQfCDRf-HU6lAOFGu5_8A_z2', 0.058593325, 1962.0, 606.0, 2106.0, 677.0), ('UvQfCDRf-HU6lAOFGu5_8A_z2', 0.058500152, 570.0, 484.0, 649.0, 575.0), ('UvQfCDRf-HU6lAOFGu5_8A_z2', 0.05824018, 164.0, 391.0, 238.0, 549.0), ('UvQfCDRf-HU6lAOFGu5_8A_z2', 0.058235068, -18.0, 321.0, 49.0, 471.0), ('UvQfCDRf-HU6lAOFGu5_8A_z2', 0.058233973, 56.0, 343.0, 131.0, 511.0), ('UvQfCDRf-HU6lAOFGu5_8A_z2', 0.058150124, 1331.0, 29.0, 1608.0, 552.0), ('UvQfCDRf-HU6lAOFGu5_8A_z2', 0.05812731, -20.0, 267.0, 49.0, 414.0), ('UvQfCDRf-HU6lAOFGu5_8A_z2', 0.058046483, 310.0, 390.0, 382.0, 551.0), ('UvQfCDRf-HU6lAOFGu5_8A_z2', 0.05792115, 715.0, 326.0, 792.0, 489.0), ('UvQfCDRf-HU6lAOFGu5_8A_z2', 0.057899717, 1681.0, 343.0, 2446.0, 737.0), ('UvQfCDRf-HU6lAOFGu5_8A_z2', 0.05786502, 1020.0, 8.0, 1288.0, 563.0), ('UvQfCDRf-HU6lAOFGu5_8A_z2', 0.05785976, 1962.0, 5.0, 2105.0, 77.0), ('UvQfCDRf-HU6lAOFGu5_8A_z2', 0.05782146, -20.0, 214.0, 49.0, 357.0), ('UvQfCDRf-HU6lAOFGu5_8A_z2', 0.057811633, 498.0, 409.0, 573.0, 545.0), ('UvQfCDRf-HU6lAOFGu5_8A_z2', 0.057758257, 1083.0, 378.0, 1320.0, 538.0), ('UvQfCDRf-HU6lAOFGu5_8A_z2', 0.057751507, -20.0, 678.0, 49.0, 821.0), ('UvQfCDRf-HU6lAOFGu5_8A_z2', 0.057732444, 2000.0, 651.0, 2070.0, 793.0), ('UvQfCDRf-HU6lAOFGu5_8A_z2', 0.05772583, -20.0, 923.0, 49.0, 1066.0), ('UvQfCDRf-HU6lAOFGu5_8A_z2', 0.057725023, 1805.0, 293.0, 1879.0, 450.0), ('UvQfCDRf-HU6lAOFGu5_8A_z2', 0.057680625, -14.0, 386.0, 48.0, 519.0), ('UvQfCDRf-HU6lAOFGu5_8A_z2', 0.05766869, 88.0, 344.0, 158.0, 508.0), ('UvQfCDRf-HU6lAOFGu5_8A_z2', 0.057591893, 1946.0, -77.0, 2151.0, 130.0), ('UvQfCDRf-HU6lAOFGu5_8A_z2', 0.057565667, 332.0, 374.0, 403.0, 534.0), ('UvQfCDRf-HU6lAOFGu5_8A_z2', 0.057526242, 1984.0, 617.0, 2084.0, 719.0), ('UvQfCDRf-HU6lAOFGu5_8A_z2', 0.05751527, 1988.0, 833.0, 2108.0, 1188.0), ('UvQfCDRf-HU6lAOFGu5_8A_z2', 0.05750594, -20.0, 23.0, 49.0, 166.0), ('UvQfCDRf-HU6lAOFGu5_8A_z2', 0.057488475, -20.0, 788.0, 49.0, 930.0), ('UvQfCDRf-HU6lAOFGu5_8A_z2', 0.05744069, 552.0, 378.0, 621.0, 527.0), ('UvQfCDRf-HU6lAOFGu5_8A_z2', 0.057416733, 696.0, 413.0, 764.0, 545.0), ('UvQfCDRf-HU6lAOFGu5_8A_z2', 0.057387132, -21.0, 434.0, 64.0, 529.0), ('UvQfCDRf-HU6lAOFGu5_8A_z2', 0.057377294, 919.0, 375.0, 1371.0, 826.0), ('UvQfCDRf-HU6lAOFGu5_8A_z2', 0.057365533, 1833.0, 375.0, 1903.0, 539.0), ('UvQfCDRf-HU6lAOFGu5_8A_z2', 0.05736185, -32.0, 723.0, 86.0, 1078.0), ('UvQfCDRf-HU6lAOFGu5_8A_z2', 0.057355944, -20.0, 842.0, 49.0, 984.0), ('UvQfCDRf-HU6lAOFGu5_8A_z2', 0.057354864, 1311.0, 584.0, 1403.0, 693.0), ('UvQfCDRf-HU6lAOFGu5_8A_z2', 0.057349343, 1904.0, 937.0, 2193.0, 1083.0), ('UvQfCDRf-HU6lAOFGu5_8A_z2', 0.0573404, -20.0, 542.0, 49.0, 684.0), ('UvQfCDRf-HU6lAOFGu5_8A_z2', 0.057273217, 740.0, 317.0, 821.0, 504.0), ('UvQfCDRf-HU6lAOFGu5_8A_z2', 0.057261866, 110.0, 401.0, 187.0, 554.0), ('UvQfCDRf-HU6lAOFGu5_8A_z2', 0.05724809, 1645.0, 425.0, 1738.0, 531.0), ('UvQfCDRf-HU6lAOFGu5_8A_z2', 0.05723482, 249.0, 301.0, 323.0, 447.0), ('UvQfCDRf-HU6lAOFGu5_8A_z2', 0.05722418, 2001.0, 923.0, 2069.0, 1067.0), ('UvQfCDRf-HU6lAOFGu5_8A_z2', 0.057206742, 1183.0, 337.0, 1375.0, 568.0), ('UvQfCDRf-HU6lAOFGu5_8A_z2', 0.057201058, 850.0, 357.0, 970.0, 515.0), ('UvQfCDRf-HU6lAOFGu5_8A_z2', 0.057184868, 1127.0, 425.0, 1197.0, 555.0), ('UvQfCDRf-HU6lAOFGu5_8A_z2', 0.057167057, 392.0, 369.0, 457.0, 539.0), ('UvQfCDRf-HU6lAOFGu5_8A_z2', 0.057163898, -20.0, 460.0, 49.0, 592.0), ('UvQfCDRf-HU6lAOFGu5_8A_z2', 0.057147965, 492.0, 365.0, 634.0, 543.0), ('UvQfCDRf-HU6lAOFGu5_8A_z2', 0.05710894, 2000.0, 843.0, 2070.0, 986.0), ('UvQfCDRf-HU6lAOFGu5_8A_z2', 0.05708277, 1722.0, 330.0, 2194.0, 622.0), ('UvQfCDRf-HU6lAOFGu5_8A_z2', 0.057074204, -151.0, 842.0, 204.0, 960.0), ('UvQfCDRf-HU6lAOFGu5_8A_z2', 0.057072703, -36.0, 372.0, 62.0, 475.0), ('UvQfCDRf-HU6lAOFGu5_8A_z2', 0.057026148, 1963.0, -23.0, 2107.0, 48.0), ('UvQfCDRf-HU6lAOFGu5_8A_z2', 0.057006687, -20.0, 77.0, 49.0, 220.0), ('UvQfCDRf-HU6lAOFGu5_8A_z2', 0.056989584, 8.0, 416.0, 75.0, 539.0), ('UvQfCDRf-HU6lAOFGu5_8A_z2', 0.056987006, 365.0, 367.0, 432.0, 530.0), ('UvQfCDRf-HU6lAOFGu5_8A_z2', 0.056974705, 2003.0, 467.0, 2069.0, 598.0), ('UvQfCDRf-HU6lAOFGu5_8A_z2', 0.05694858, 1987.0, -149.0, 2108.0, 205.0), ('UvQfCDRf-HU6lAOFGu5_8A_z2', 0.05694263, 1806.0, 370.0, 1878.0, 542.0), ('UvQfCDRf-HU6lAOFGu5_8A_z2', 0.05693693, -36.0, 316.0, 63.0, 419.0), ('UvQfCDRf-HU6lAOFGu5_8A_z2', 0.05693254, 1710.0, 439.0, 1789.0, 557.0), ('UvQfCDRf-HU6lAOFGu5_8A_z2', 0.056889955, 266.0, -61.0, 714.0, 393.0), ('UvQfCDRf-HU6lAOFGu5_8A_z2', 0.056814913, 1961.0, 961.0, 2106.0, 1033.0), ('UvQfCDRf-HU6lAOFGu5_8A_z2', 0.05678902, -20.0, 159.0, 49.0, 302.0), ('UvQfCDRf-HU6lAOFGu5_8A_z2', 0.056779608, -20.0, -32.0, 48.0, 111.0), ('UvQfCDRf-HU6lAOFGu5_8A_z2', 0.05676647, 1962.0, 688.0, 2106.0, 759.0), ('UvQfCDRf-HU6lAOFGu5_8A_z2', 0.05676247, 1778.0, 403.0, 1854.0, 550.0), ('UvQfCDRf-HU6lAOFGu5_8A_z2', 0.056744363, 1225.0, 163.0, 1615.0, 885.0), ('UvQfCDRf-HU6lAOFGu5_8A_z2', 0.05673122, 1042.0, 433.0, 1113.0, 543.0), ('UvQfCDRf-HU6lAOFGu5_8A_z2', 0.05672237, 1963.0, 569.0, 2106.0, 715.0), ('UvQfCDRf-HU6lAOFGu5_8A_z2', 0.05672053, 1831.0, -27.0, 2214.0, 351.0), ('UvQfCDRf-HU6lAOFGu5_8A_z2', 0.056682836, 1017.0, -59.0, 1087.0, 83.0), ('UvQfCDRf-HU6lAOFGu5_8A_z2', 0.056663867, 1248.0, 205.0, 1347.0, 313.0), ('UvQfCDRf-HU6lAOFGu5_8A_z2', 0.05666239, -19.0, 732.0, 49.0, 877.0), ('UvQfCDRf-HU6lAOFGu5_8A_z2', 0.0566496, -73.0, 799.0, 128.0, 1003.0), ('UvQfCDRf-HU6lAOFGu5_8A_z2', 0.05664738, 858.0, 435.0, 923.0, 546.0), ('UvQfCDRf-HU6lAOFGu5_8A_z2', 0.056622885, 1905.0, 828.0, 2194.0, 973.0), ('UvQfCDRf-HU6lAOFGu5_8A_z2', 0.056617957, 935.0, -59.0, 1005.0, 83.0), ('UvQfCDRf-HU6lAOFGu5_8A_z2', 0.056616254, 59.0, 292.0, 130.0, 452.0), ('UvQfCDRf-HU6lAOFGu5_8A_z2', 0.056586653, 1834.0, 297.0, 1904.0, 440.0), ('UvQfCDRf-HU6lAOFGu5_8A_z2', 0.056580227, 2002.0, 375.0, 2068.0, 523.0), ('UvQfCDRf-HU6lAOFGu5_8A_z2', 0.056574717, 1871.0, -32.0, 2226.0, 86.0), ('UvQfCDRf-HU6lAOFGu5_8A_z2', 0.056543425, 1890.0, 259.0, 2088.0, 467.0), ('UvQfCDRf-HU6lAOFGu5_8A_z2', 0.05653081, 1946.0, 33.0, 2150.0, 238.0), ('UvQfCDRf-HU6lAOFGu5_8A_z2', 0.05653048, -60.0, 416.0, 83.0, 488.0), ('UvQfCDRf-HU6lAOFGu5_8A_z2', 0.056529593, -59.0, 689.0, 86.0, 759.0), ('UvQfCDRf-HU6lAOFGu5_8A_z2', 0.056527153, 908.0, -59.0, 977.0, 83.0), ('UvQfCDRf-HU6lAOFGu5_8A_z2', 0.056508373, -38.0, 468.0, 78.0, 539.0), ('UvQfCDRf-HU6lAOFGu5_8A_z2', 0.056503177, -20.0, 596.0, 49.0, 739.0), ('UvQfCDRf-HU6lAOFGu5_8A_z2', 0.056502514, 1887.0, -216.0, 2157.0, 320.0), ('UvQfCDRf-HU6lAOFGu5_8A_z2', 0.05643892, 990.0, -59.0, 1059.0, 83.0), ('UvQfCDRf-HU6lAOFGu5_8A_z2', 0.05641892, -62.0, 361.0, 87.0, 432.0), ('UvQfCDRf-HU6lAOFGu5_8A_z2', 0.056418154, 1589.0, 55.0, 2022.0, 524.0), ('UvQfCDRf-HU6lAOFGu5_8A_z2', 0.05639805, 92.0, 434.0, 166.0, 571.0), ('UvQfCDRf-HU6lAOFGu5_8A_z2', 0.056390055, 526.0, 350.0, 595.0, 504.0), ('UvQfCDRf-HU6lAOFGu5_8A_z2', 0.05638073, -116.0, 774.0, 171.0, 919.0), ('UvQfCDRf-HU6lAOFGu5_8A_z2', 0.056378238, 1757.0, 291.0, 1922.0, 490.0), ('UvQfCDRf-HU6lAOFGu5_8A_z2', 0.05637752, 1249.0, 379.0, 1349.0, 482.0), ('UvQfCDRf-HU6lAOFGu5_8A_z2', 0.056370754, 1863.0, 409.0, 1933.0, 550.0), ('UvQfCDRf-HU6lAOFGu5_8A_z2', 0.05635949, 707.0, 154.0, 1150.0, 603.0), ('UvQfCDRf-HU6lAOFGu5_8A_z2', 0.05635011, 2000.0, 51.0, 2070.0, 192.0), ('UvQfCDRf-HU6lAOFGu5_8A_z2', 0.056325726, 1920.0, 395.0, 1993.0, 547.0), ('UvQfCDRf-HU6lAOFGu5_8A_z2', 0.05632476, 1984.0, 699.0, 2084.0, 801.0), ('UvQfCDRf-HU6lAOFGu5_8A_z2', 0.05632434, -59.0, 279.0, 86.0, 350.0), ('UvQfCDRf-HU6lAOFGu5_8A_z2', 0.05630739, 1967.0, 498.0, 2100.0, 568.0), ('UvQfCDRf-HU6lAOFGu5_8A_z2', 0.05630641, -59.0, 306.0, 86.0, 377.0), ('UvQfCDRf-HU6lAOFGu5_8A_z2', 0.056297112, 1240.0, 339.0, 1301.0, 510.0), ('UvQfCDRf-HU6lAOFGu5_8A_z2', 0.056296837, 1965.0, 470.0, 2099.0, 540.0), ('UvQfCDRf-HU6lAOFGu5_8A_z2', 0.056293014, 1203.0, 137.0, 1725.0, 431.0), ('UvQfCDRf-HU6lAOFGu5_8A_z2', 0.056281485, 88.0, 296.0, 157.0, 447.0), ('UvQfCDRf-HU6lAOFGu5_8A_z2', 0.056259256, 783.0, 314.0, 881.0, 425.0), ('UvQfCDRf-HU6lAOFGu5_8A_z2', 0.056255456, -151.0, 951.0, 205.0, 1069.0), ('UvQfCDRf-HU6lAOFGu5_8A_z2', 0.056237463, 799.0, -59.0, 868.0, 83.0), ('UvQfCDRf-HU6lAOFGu5_8A_z2', 0.05621906, 1975.0, 756.0, 2121.0, 1047.0), ('UvQfCDRf-HU6lAOFGu5_8A_z2', 0.05617591, 89.0, -59.0, 158.0, 83.0), ('UvQfCDRf-HU6lAOFGu5_8A_z2', 0.05616997, 1100.0, 327.0, 1166.0, 477.0), ('UvQfCDRf-HU6lAOFGu5_8A_z2', 0.056162644, 556.0, 466.0, 633.0, 557.0), ('UvQfCDRf-HU6lAOFGu5_8A_z2', 0.056136977, 1755.0, -80.0, 2291.0, 189.0), ('UvQfCDRf-HU6lAOFGu5_8A_z2', 0.056132693, -59.0, 252.0, 86.0, 323.0), ('UvQfCDRf-HU6lAOFGu5_8A_z2', 0.05613204, 959.0, 153.0, 1856.0, 501.0), ('UvQfCDRf-HU6lAOFGu5_8A_z2', 0.05612651, 392.0, 296.0, 457.0, 445.0), ('UvQfCDRf-HU6lAOFGu5_8A_z2', 0.056108322, 850.0, 631.0, 1229.0, 1008.0), ('UvQfCDRf-HU6lAOFGu5_8A_z2', 0.05609445, 23.0, 314.0, 170.0, 527.0), ('UvQfCDRf-HU6lAOFGu5_8A_z2', 0.056087017, 1045.0, -59.0, 1114.0, 83.0), ('UvQfCDRf-HU6lAOFGu5_8A_z2', 0.056085873, 1870.0, 77.0, 2227.0, 195.0), ('UvQfCDRf-HU6lAOFGu5_8A_z2', 0.056060854, 460.0, 315.0, 552.0, 416.0), ('UvQfCDRf-HU6lAOFGu5_8A_z2', 0.05606045, 1473.0, 160.0, 1916.0, 621.0), ('UvQfCDRf-HU6lAOFGu5_8A_z2', 0.056051116, 1155.0, 427.0, 1223.0, 564.0), ('UvQfCDRf-HU6lAOFGu5_8A_z2', 0.05605016, 116.0, -59.0, 185.0, 83.0), ('UvQfCDRf-HU6lAOFGu5_8A_z2', 0.056049097, 2001.0, 729.0, 2069.0, 878.0), ('UvQfCDRf-HU6lAOFGu5_8A_z2', 0.05604335, 1457.0, 410.0, 1524.0, 553.0), ('UvQfCDRf-HU6lAOFGu5_8A_z2', 0.05604176, -59.0, 224.0, 86.0, 295.0), ('UvQfCDRf-HU6lAOFGu5_8A_z2', 0.056036245, 1386.0, 403.0, 1477.0, 506.0), ('UvQfCDRf-HU6lAOFGu5_8A_z2', 0.05603539, -45.0, 867.0, 99.0, 1155.0), ('UvQfCDRf-HU6lAOFGu5_8A_z2', 0.05602754, 144.0, -59.0, 213.0, 83.0), ('UvQfCDRf-HU6lAOFGu5_8A_z2', 0.05601945, -60.0, 771.0, 86.0, 841.0), ('UvQfCDRf-HU6lAOFGu5_8A_z2', 0.056009337, 413.0, 402.0, 482.0, 556.0), ('UvQfCDRf-HU6lAOFGu5_8A_z2', 0.056001723, 1824.0, 373.0, 1916.0, 474.0), ('UvQfCDRf-HU6lAOFGu5_8A_z2', 0.055999503, 2000.0, 323.0, 2069.0, 468.0), ('UvQfCDRf-HU6lAOFGu5_8A_z2', 0.05599212, 1947.0, 759.0, 2014.0, 906.0), ('UvQfCDRf-HU6lAOFGu5_8A_z2', 0.055990636, 598.0, 53.0, 1045.0, 511.0), ('UvQfCDRf-HU6lAOFGu5_8A_z2', 0.05598739, 417.0, -59.0, 486.0, 83.0), ('UvQfCDRf-HU6lAOFGu5_8A_z2', 0.0559863, 1386.0, 598.0, 1465.0, 718.0), ('UvQfCDRf-HU6lAOFGu5_8A_z2', 0.055964965, 46.0, 363.0, 508.0, 818.0), ('UvQfCDRf-HU6lAOFGu5_8A_z2', 0.05595911, 1290.0, -59.0, 1360.0, 83.0), ('RvIxPwe68t_PPRj6gibFSg_z2', 0.9672408, 598.0, 320.0, 805.0, 552.0), ('RvIxPwe68t_PPRj6gibFSg_z2', 0.901725, 27.0, 401.0, 140.0, 538.0), ('RvIxPwe68t_PPRj6gibFSg_z2', 0.7941163, 1063.0, 306.0, 1356.0, 570.0), ('RvIxPwe68t_PPRj6gibFSg_z2', 0.54170835, 259.0, 391.0, 410.0, 569.0), ('RvIxPwe68t_PPRj6gibFSg_z2', 0.2111223, 1500.0, 377.0, 1580.0, 495.0), ('RvIxPwe68t_PPRj6gibFSg_z2', 0.17287171, 860.0, 402.0, 933.0, 544.0), ('RvIxPwe68t_PPRj6gibFSg_z2', 0.1216698, 1680.0, 353.0, 1862.0, 560.0), ('RvIxPwe68t_PPRj6gibFSg_z2', 0.117807224, 340.0, 479.0, 411.0, 576.0), ('RvIxPwe68t_PPRj6gibFSg_z2', 0.085195564, 1596.0, 374.0, 1655.0, 488.0), ('RvIxPwe68t_PPRj6gibFSg_z2', 0.07458414, 676.0, 343.0, 865.0, 549.0), ('RvIxPwe68t_PPRj6gibFSg_z2', 0.0716165, 1036.0, 317.0, 1239.0, 534.0), ('RvIxPwe68t_PPRj6gibFSg_z2', 0.06790972, -12.0, 360.0, 53.0, 523.0), ('RvIxPwe68t_PPRj6gibFSg_z2', 0.06648148, 807.0, 364.0, 976.0, 553.0), ('RvIxPwe68t_PPRj6gibFSg_z2', 0.06626014, 10.0, 369.0, 78.0, 526.0), ('RvIxPwe68t_PPRj6gibFSg_z2', 0.06625464, 1776.0, 376.0, 1909.0, 547.0), ('RvIxPwe68t_PPRj6gibFSg_z2', 0.06594179, 876.0, 371.0, 944.0, 505.0), ('RvIxPwe68t_PPRj6gibFSg_z2', 0.06402109, 276.0, 404.0, 363.0, 551.0), ('RvIxPwe68t_PPRj6gibFSg_z2', 0.0634545, 1723.0, 367.0, 1804.0, 534.0), ('RvIxPwe68t_PPRj6gibFSg_z2', 0.06338717, 556.0, 509.0, 622.0, 621.0), ('RvIxPwe68t_PPRj6gibFSg_z2', 0.06245553, 1065.0, 388.0, 1148.0, 513.0), ('RvIxPwe68t_PPRj6gibFSg_z2', 0.06221804, 1999.0, -58.0, 2072.0, 85.0), ('RvIxPwe68t_PPRj6gibFSg_z2', 0.062002376, 2002.0, 596.0, 2070.0, 740.0), ('RvIxPwe68t_PPRj6gibFSg_z2', 0.06186818, 1654.0, 350.0, 1714.0, 494.0), ('RvIxPwe68t_PPRj6gibFSg_z2', 0.061383642, 1294.0, 372.0, 1362.0, 537.0), ('RvIxPwe68t_PPRj6gibFSg_z2', 0.06128941, 1331.0, 504.0, 1420.0, 606.0), ('RvIxPwe68t_PPRj6gibFSg_z2', 0.06109319, 1860.0, 410.0, 1938.0, 544.0), ('RvIxPwe68t_PPRj6gibFSg_z2', 0.0610213, 2000.0, 323.0, 2069.0, 478.0), ('RvIxPwe68t_PPRj6gibFSg_z2', 0.06060027, 1909.0, 425.0, 1998.0, 530.0), ('RvIxPwe68t_PPRj6gibFSg_z2', 0.06055513, 740.0, 364.0, 814.0, 527.0), ('RvIxPwe68t_PPRj6gibFSg_z2', 0.060468815, 935.0, 411.0, 1002.0, 530.0), ('RvIxPwe68t_PPRj6gibFSg_z2', 0.060433354, 2001.0, 515.0, 2070.0, 656.0), ('RvIxPwe68t_PPRj6gibFSg_z2', 0.06041041, 930.0, 344.0, 1457.0, 591.0), ('RvIxPwe68t_PPRj6gibFSg_z2', 0.0603211, 2000.0, 761.0, 2070.0, 903.0), ('RvIxPwe68t_PPRj6gibFSg_z2', 0.0602904, 246.0, 415.0, 326.0, 545.0), ('RvIxPwe68t_PPRj6gibFSg_z2', 0.060271855, 1961.0, 606.0, 2107.0, 677.0), ('RvIxPwe68t_PPRj6gibFSg_z2', 0.06019025, 1886.0, 413.0, 1965.0, 542.0), ('RvIxPwe68t_PPRj6gibFSg_z2', 0.060165912, 2000.0, 679.0, 2070.0, 820.0), ('RvIxPwe68t_PPRj6gibFSg_z2', 0.060131583, 1210.0, 429.0, 1286.0, 574.0), ('RvIxPwe68t_PPRj6gibFSg_z2', 0.060100857, 180.0, 376.0, 364.0, 568.0), ('RvIxPwe68t_PPRj6gibFSg_z2', 0.05988757, 1624.0, 362.0, 1686.0, 492.0), ('RvIxPwe68t_PPRj6gibFSg_z2', 0.05963596, 1985.0, 562.0, 2084.0, 664.0), ('RvIxPwe68t_PPRj6gibFSg_z2', 0.059632685, 1961.0, 634.0, 2106.0, 704.0), ('RvIxPwe68t_PPRj6gibFSg_z2', 0.05951622, 1464.0, 372.0, 1923.0, 818.0), ('RvIxPwe68t_PPRj6gibFSg_z2', 0.05949422, 716.0, 402.0, 789.0, 540.0), ('RvIxPwe68t_PPRj6gibFSg_z2', 0.059460185, 1318.0, 465.0, 1394.0, 601.0), ('RvIxPwe68t_PPRj6gibFSg_z2', 0.05893889, 633.0, 315.0, 709.0, 495.0), ('RvIxPwe68t_PPRj6gibFSg_z2', 0.058934428, 872.0, 395.0, 995.0, 545.0), ('RvIxPwe68t_PPRj6gibFSg_z2', 0.058927447, 1291.0, 425.0, 1362.0, 589.0), ('RvIxPwe68t_PPRj6gibFSg_z2', 0.058873974, 1967.0, 568.0, 2105.0, 716.0), ('RvIxPwe68t_PPRj6gibFSg_z2', 0.058835644, 684.0, 409.0, 763.0, 544.0), ('RvIxPwe68t_PPRj6gibFSg_z2', 0.058778696, 660.0, 344.0, 730.0, 508.0), ('RvIxPwe68t_PPRj6gibFSg_z2', 0.05875229, 1943.0, 435.0, 2016.0, 550.0), ('RvIxPwe68t_PPRj6gibFSg_z2', 0.058748126, 1962.0, 552.0, 2106.0, 623.0), ('RvIxPwe68t_PPRj6gibFSg_z2', 0.05873518, 2002.0, 439.0, 2069.0, 570.0), ('RvIxPwe68t_PPRj6gibFSg_z2', 0.05865787, 1358.0, 476.0, 1811.0, 932.0), ('RvIxPwe68t_PPRj6gibFSg_z2', 0.058642898, 1960.0, 360.0, 2106.0, 430.0), ('RvIxPwe68t_PPRj6gibFSg_z2', 0.058639936, 1834.0, 395.0, 1913.0, 544.0), ('RvIxPwe68t_PPRj6gibFSg_z2', 0.058610115, 544.0, 241.0, 881.0, 568.0), ('RvIxPwe68t_PPRj6gibFSg_z2', 0.05849688, 1235.0, 403.0, 1307.0, 564.0), ('RvIxPwe68t_PPRj6gibFSg_z2', 0.058465734, 1783.0, 404.0, 1861.0, 544.0), ('RvIxPwe68t_PPRj6gibFSg_z2', 0.058414508, 1962.0, 797.0, 2106.0, 868.0), ('RvIxPwe68t_PPRj6gibFSg_z2', 0.058401562, 1263.0, 396.0, 1332.0, 564.0), ('RvIxPwe68t_PPRj6gibFSg_z2', 0.05834621, -116.0, 774.0, 171.0, 919.0), ('RvIxPwe68t_PPRj6gibFSg_z2', 0.05832473, -33.0, 669.0, 87.0, 1024.0), ('RvIxPwe68t_PPRj6gibFSg_z2', 0.05819963, 1946.0, -77.0, 2151.0, 130.0), ('RvIxPwe68t_PPRj6gibFSg_z2', 0.05814649, -116.0, 720.0, 171.0, 864.0), ('RvIxPwe68t_PPRj6gibFSg_z2', 0.05810725, 155.0, 43.0, 604.0, 499.0), ('RvIxPwe68t_PPRj6gibFSg_z2', 0.057948157, 1405.0, 453.0, 1471.0, 604.0), ('RvIxPwe68t_PPRj6gibFSg_z2', 0.057933304, 1962.0, 5.0, 2105.0, 77.0), ('RvIxPwe68t_PPRj6gibFSg_z2', 0.05793151, 330.0, 406.0, 409.0, 559.0), ('RvIxPwe68t_PPRj6gibFSg_z2', 0.057902712, 1962.0, 715.0, 2105.0, 786.0), ('RvIxPwe68t_PPRj6gibFSg_z2', 0.05783491, 1546.0, 357.0, 2036.0, 629.0), ('RvIxPwe68t_PPRj6gibFSg_z2', 0.057823014, -20.0, 296.0, 49.0, 439.0), ('RvIxPwe68t_PPRj6gibFSg_z2', 0.057785004, 1963.0, -23.0, 2107.0, 48.0), ('RvIxPwe68t_PPRj6gibFSg_z2', 0.05772917, -20.0, 22.0, 49.0, 166.0), ('RvIxPwe68t_PPRj6gibFSg_z2', 0.05771792, -113.0, 274.0, 160.0, 548.0), ('RvIxPwe68t_PPRj6gibFSg_z2', 0.057713542, 2000.0, 51.0, 2070.0, 192.0), ('RvIxPwe68t_PPRj6gibFSg_z2', 0.057662196, -152.0, 296.0, 205.0, 414.0), ('RvIxPwe68t_PPRj6gibFSg_z2', 0.057636343, -32.0, 177.0, 86.0, 532.0), ('RvIxPwe68t_PPRj6gibFSg_z2', 0.057594012, -19.0, 240.0, 49.0, 385.0), ('RvIxPwe68t_PPRj6gibFSg_z2', 0.057587508, -20.0, 923.0, 49.0, 1067.0), ('RvIxPwe68t_PPRj6gibFSg_z2', 0.057546135, 1747.0, 399.0, 1826.0, 548.0), ('RvIxPwe68t_PPRj6gibFSg_z2', 0.057518892, -20.0, 77.0, 49.0, 221.0), ('RvIxPwe68t_PPRj6gibFSg_z2', 0.057510473, 221.0, 425.0, 303.0, 534.0), ('RvIxPwe68t_PPRj6gibFSg_z2', 0.05750567, -20.0, 651.0, 49.0, 794.0), ('RvIxPwe68t_PPRj6gibFSg_z2', 0.05750126, 1700.0, 352.0, 1779.0, 505.0), ('RvIxPwe68t_PPRj6gibFSg_z2', 0.057499867, -151.0, 842.0, 204.0, 960.0), ('RvIxPwe68t_PPRj6gibFSg_z2', 0.05746458, 901.0, 402.0, 984.0, 510.0), ('RvIxPwe68t_PPRj6gibFSg_z2', 0.057389777, -20.0, 541.0, 49.0, 685.0), ('RvIxPwe68t_PPRj6gibFSg_z2', 0.057380732, 1096.0, 322.0, 1173.0, 479.0), ('RvIxPwe68t_PPRj6gibFSg_z2', 0.05736024, -19.0, 159.0, 49.0, 303.0), ('RvIxPwe68t_PPRj6gibFSg_z2', 0.05733657, 1966.0, 470.0, 2101.0, 542.0), ('RvIxPwe68t_PPRj6gibFSg_z2', 0.057306983, 1047.0, 355.0, 1123.0, 497.0), ('RvIxPwe68t_PPRj6gibFSg_z2', 0.057295233, 1987.0, -150.0, 2108.0, 205.0), ('RvIxPwe68t_PPRj6gibFSg_z2', 0.057292867, -150.0, 352.0, 206.0, 471.0), ('RvIxPwe68t_PPRj6gibFSg_z2', 0.05728753, 1947.0, 308.0, 2150.0, 512.0), ('RvIxPwe68t_PPRj6gibFSg_z2', 0.057282925, 1904.0, 64.0, 2194.0, 209.0), ('RvIxPwe68t_PPRj6gibFSg_z2', 0.05727053, -73.0, 253.0, 127.0, 457.0), ('RvIxPwe68t_PPRj6gibFSg_z2', 0.05726174, -56.0, 361.0, 84.0, 434.0), ('RvIxPwe68t_PPRj6gibFSg_z2', 0.057197858, 1589.0, 405.0, 1659.0, 537.0), ('RvIxPwe68t_PPRj6gibFSg_z2', 0.057195153, 1365.0, 278.0, 1820.0, 714.0), ('RvIxPwe68t_PPRj6gibFSg_z2', 0.057158753, 1316.0, 376.0, 1382.0, 524.0), ('RvIxPwe68t_PPRj6gibFSg_z2', 0.057150416, 1123.0, 322.0, 1197.0, 477.0), ('RvIxPwe68t_PPRj6gibFSg_z2', 0.0571415, 1251.0, 377.0, 1706.0, 826.0), ('RvIxPwe68t_PPRj6gibFSg_z2', 0.057134893, -134.0, 302.0, 244.0, 679.0), ('RvIxPwe68t_PPRj6gibFSg_z2', 0.057133093, -117.0, 228.0, 171.0, 372.0), ('RvIxPwe68t_PPRj6gibFSg_z2', 0.057121903, -73.0, 799.0, 128.0, 1003.0), ('RvIxPwe68t_PPRj6gibFSg_z2', 0.057080638, 654.0, 409.0, 735.0, 547.0), ('RvIxPwe68t_PPRj6gibFSg_z2', 0.0570633, 535.0, 452.0, 595.0, 604.0), ('RvIxPwe68t_PPRj6gibFSg_z2', 0.05705866, 1871.0, -32.0, 2226.0, 86.0), ('RvIxPwe68t_PPRj6gibFSg_z2', 0.057054542, -20.0, 705.0, 49.0, 848.0), ('RvIxPwe68t_PPRj6gibFSg_z2', 0.057009224, 1831.0, -27.0, 2214.0, 350.0), ('RvIxPwe68t_PPRj6gibFSg_z2', 0.056990698, 607.0, 401.0, 683.0, 537.0), ('RvIxPwe68t_PPRj6gibFSg_z2', 0.056988813, 1888.0, 227.0, 2156.0, 757.0), ('RvIxPwe68t_PPRj6gibFSg_z2', 0.05698557, -117.0, 64.0, 172.0, 209.0), ('RvIxPwe68t_PPRj6gibFSg_z2', 0.056980986, -33.0, 345.0, 60.0, 461.0), ('RvIxPwe68t_PPRj6gibFSg_z2', 0.056963153, 1905.0, 282.0, 2194.0, 427.0), ('RvIxPwe68t_PPRj6gibFSg_z2', 0.056951005, -117.0, 173.0, 171.0, 318.0), ('RvIxPwe68t_PPRj6gibFSg_z2', 0.056924105, 707.0, 365.0, 801.0, 488.0), ('RvIxPwe68t_PPRj6gibFSg_z2', 0.056921963, 1961.0, 442.0, 2104.0, 514.0), ('RvIxPwe68t_PPRj6gibFSg_z2', 0.056915864, 1975.0, -9.0, 2121.0, 282.0), ('RvIxPwe68t_PPRj6gibFSg_z2', 0.056909155, 1870.0, 350.0, 2227.0, 469.0), ('RvIxPwe68t_PPRj6gibFSg_z2', 0.056907084, 1905.0, 228.0, 2194.0, 372.0), ('RvIxPwe68t_PPRj6gibFSg_z2', 0.05690428, 770.0, 379.0, 837.0, 521.0), ('RvIxPwe68t_PPRj6gibFSg_z2', 0.05689312, 1988.0, 232.0, 2108.0, 587.0), ('RvIxPwe68t_PPRj6gibFSg_z2', 0.05689301, -33.0, -43.0, 87.0, 314.0), ('RvIxPwe68t_PPRj6gibFSg_z2', 0.056880496, 1887.0, -216.0, 2157.0, 320.0), ('RvIxPwe68t_PPRj6gibFSg_z2', 0.056875154, -20.0, 487.0, 49.0, 630.0), ('RvIxPwe68t_PPRj6gibFSg_z2', 0.056871697, -117.0, 665.0, 171.0, 809.0), ('RvIxPwe68t_PPRj6gibFSg_z2', 0.05682287, 1482.0, 385.0, 1599.0, 544.0), ('RvIxPwe68t_PPRj6gibFSg_z2', 0.056797422, 1963.0, 760.0, 2106.0, 906.0), ('RvIxPwe68t_PPRj6gibFSg_z2', 0.05678648, -135.0, 403.0, 200.0, 525.0), ('RvIxPwe68t_PPRj6gibFSg_z2', 0.05677659, -20.0, 760.0, 49.0, 903.0), ('RvIxPwe68t_PPRj6gibFSg_z2', 0.0567746, -20.0, 842.0, 49.0, 985.0), ('RvIxPwe68t_PPRj6gibFSg_z2', 0.05676734, -32.0, 343.0, 88.0, 677.0), ('RvIxPwe68t_PPRj6gibFSg_z2', 0.05674738, -56.0, 386.0, 82.0, 463.0), ('RvIxPwe68t_PPRj6gibFSg_z2', 0.056739576, 932.0, 359.0, 1382.0, 795.0), ('RvIxPwe68t_PPRj6gibFSg_z2', 0.056739245, 1960.0, 389.0, 2107.0, 457.0), ('RvIxPwe68t_PPRj6gibFSg_z2', 0.056727726, 954.0, 378.0, 1874.0, 710.0), ('RvIxPwe68t_PPRj6gibFSg_z2', 0.056704845, 245.0, -98.0, 517.0, 435.0), ('RvIxPwe68t_PPRj6gibFSg_z2', 0.0567032, -45.0, 100.0, 99.0, 391.0), ('RvIxPwe68t_PPRj6gibFSg_z2', 0.056657813, 1976.0, 155.0, 2121.0, 445.0), ('RvIxPwe68t_PPRj6gibFSg_z2', 0.056656744, 1611.0, 219.0, 1988.0, 574.0), ('RvIxPwe68t_PPRj6gibFSg_z2', 0.05664704, -116.0, 501.0, 172.0, 645.0), ('RvIxPwe68t_PPRj6gibFSg_z2', 0.0566293, 1574.0, 470.0, 2024.0, 931.0), ('RvIxPwe68t_PPRj6gibFSg_z2', 0.05659155, 1888.0, 5.0, 2157.0, 542.0), ('RvIxPwe68t_PPRj6gibFSg_z2', 0.056584015, -151.0, 132.0, 205.0, 250.0), ('RvIxPwe68t_PPRj6gibFSg_z2', 0.056571163, 692.0, 356.0, 760.0, 503.0), ('RvIxPwe68t_PPRj6gibFSg_z2', 0.05656872, -20.0, -32.0, 49.0, 111.0), ('RvIxPwe68t_PPRj6gibFSg_z2', 0.056561377, 434.0, 513.0, 515.0, 604.0), ('RvIxPwe68t_PPRj6gibFSg_z2', 0.056557473, 1072.0, 427.0, 1145.0, 547.0), ('RvIxPwe68t_PPRj6gibFSg_z2', 0.05653665, -20.0, 596.0, 49.0, 739.0), ('RvIxPwe68t_PPRj6gibFSg_z2', 0.056536198, 1151.0, 323.0, 1222.0, 473.0), ('RvIxPwe68t_PPRj6gibFSg_z2', 0.056533813, 1585.0, 279.0, 2116.0, 822.0), ('RvIxPwe68t_PPRj6gibFSg_z2', 0.056532655, 1755.0, -80.0, 2291.0, 189.0), ('RvIxPwe68t_PPRj6gibFSg_z2', 0.056530077, -45.0, 593.0, 99.0, 882.0), ('RvIxPwe68t_PPRj6gibFSg_z2', 0.056517538, -134.0, 629.0, 243.0, 1007.0), ('RvIxPwe68t_PPRj6gibFSg_z2', 0.05651428, 1755.0, 140.0, 2291.0, 407.0), ('RvIxPwe68t_PPRj6gibFSg_z2', 0.05650291, -116.0, 556.0, 171.0, 700.0), ('RvIxPwe68t_PPRj6gibFSg_z2', 0.056492623, 1905.0, 173.0, 2194.0, 318.0), ('RvIxPwe68t_PPRj6gibFSg_z2', 0.056485865, -32.0, 450.0, 87.0, 805.0), ('RvIxPwe68t_PPRj6gibFSg_z2', 0.056475792, 1905.0, 9.0, 2193.0, 154.0), ('RvIxPwe68t_PPRj6gibFSg_z2', 0.056462243, -32.0, 835.0, 87.0, 1187.0), ('RvIxPwe68t_PPRj6gibFSg_z2', 0.056405243, -60.0, 365.0, 128.0, 560.0), ('RvIxPwe68t_PPRj6gibFSg_z2', 0.056396376, 491.0, 52.0, 930.0, 512.0), ('RvIxPwe68t_PPRj6gibFSg_z2', 0.056385744, 1830.0, 193.0, 2211.0, 570.0), ('RvIxPwe68t_PPRj6gibFSg_z2', 0.056383282, 1905.0, 118.0, 2194.0, 263.0), ('RvIxPwe68t_PPRj6gibFSg_z2', 0.056354143, -54.0, 414.0, 79.0, 490.0), ('RvIxPwe68t_PPRj6gibFSg_z2', 0.05633515, 1963.0, 514.0, 2105.0, 660.0), ('RvIxPwe68t_PPRj6gibFSg_z2', 0.056331832, -55.0, 163.0, 164.0, 818.0), ('RvIxPwe68t_PPRj6gibFSg_z2', 0.056323484, 124.0, 445.0, 188.0, 524.0), ('RvIxPwe68t_PPRj6gibFSg_z2', 0.056283362, -59.0, 334.0, 86.0, 405.0), ('RvIxPwe68t_PPRj6gibFSg_z2', 0.05627833, -213.0, 250.0, 323.0, 516.0), ('RvIxPwe68t_PPRj6gibFSg_z2', 0.056265227, -49.0, 331.0, 79.0, 504.0), ('RvIxPwe68t_PPRj6gibFSg_z2', 0.056246314, -116.0, 610.0, 171.0, 755.0), ('RvIxPwe68t_PPRj6gibFSg_z2', 0.056219433, -135.0, 83.0, 243.0, 462.0), ('RvIxPwe68t_PPRj6gibFSg_z2', 0.056206387, 1428.0, 437.0, 1493.0, 578.0), ('RvIxPwe68t_PPRj6gibFSg_z2', 0.05619488, 2002.0, 952.0, 2069.0, 1095.0), ('RvIxPwe68t_PPRj6gibFSg_z2', 0.05613823, -151.0, 951.0, 205.0, 1069.0), ('RvIxPwe68t_PPRj6gibFSg_z2', 0.05612363, -59.0, 634.0, 86.0, 705.0), ('RvIxPwe68t_PPRj6gibFSg_z2', 0.056114905, -173.0, 374.0, 278.0, 828.0), ('RvIxPwe68t_PPRj6gibFSg_z2', 0.056100786, 1918.0, -59.0, 1988.0, 83.0), ('RvIxPwe68t_PPRj6gibFSg_z2', 0.056094386, 116.0, -59.0, 185.0, 83.0), ('RvIxPwe68t_PPRj6gibFSg_z2', 0.05608565, -59.0, 33.0, 86.0, 104.0), ('RvIxPwe68t_PPRj6gibFSg_z2', 0.056081638, -59.0, 962.0, 86.0, 1033.0), ('RvIxPwe68t_PPRj6gibFSg_z2', 0.056078836, 1670.0, 352.0, 1741.0, 497.0), ('RvIxPwe68t_PPRj6gibFSg_z2', 0.056076523, 1384.0, 380.0, 2309.0, 712.0), ('RvIxPwe68t_PPRj6gibFSg_z2', 0.0560669, 1320.0, 514.0, 1392.0, 640.0), ('RvIxPwe68t_PPRj6gibFSg_z2', 0.05606485, 144.0, -59.0, 213.0, 83.0), ('RvIxPwe68t_PPRj6gibFSg_z2', 0.056055315, -80.0, 442.0, 188.0, 979.0), ('RvIxPwe68t_PPRj6gibFSg_z2', 0.056047156, 1507.0, 413.0, 1579.0, 566.0), ('RvIxPwe68t_PPRj6gibFSg_z2', 0.056029864, 1826.0, 410.0, 2210.0, 789.0), ('RvIxPwe68t_PPRj6gibFSg_z2', 0.056003463, 1673.0, -59.0, 1742.0, 83.0), ('RvIxPwe68t_PPRj6gibFSg_z2', 0.055991992, 198.0, -59.0, 267.0, 83.0), ('RvIxPwe68t_PPRj6gibFSg_z2', 0.055991337, 89.0, -59.0, 158.0, 83.0), ('RvIxPwe68t_PPRj6gibFSg_z2', 0.055978484, 171.0, -59.0, 240.0, 83.0), ('RvIxPwe68t_PPRj6gibFSg_z2', 0.055976693, 1589.0, 459.0, 1659.0, 590.0), ('RvIxPwe68t_PPRj6gibFSg_z2', 0.055972796, 1012.0, 410.0, 1086.0, 499.0), ('RvIxPwe68t_PPRj6gibFSg_z2', 0.055963974, 1905.0, 391.0, 2193.0, 536.0), ('RvIxPwe68t_PPRj6gibFSg_z2', 0.055952527, 765.0, 279.0, 1359.0, 504.0), ('nwUKCleuwX-bghIinCkJ1A_z2', 0.86827755, 1126.0, 402.0, 1259.0, 583.0), ('nwUKCleuwX-bghIinCkJ1A_z2', 0.8369492, 526.0, 324.0, 754.0, 595.0), ('nwUKCleuwX-bghIinCkJ1A_z2', 0.5587271, 1815.0, 374.0, 1941.0, 575.0), ('nwUKCleuwX-bghIinCkJ1A_z2', 0.41818056, 166.0, 394.0, 350.0, 602.0), ('nwUKCleuwX-bghIinCkJ1A_z2', 0.18571012, 329.0, 345.0, 475.0, 578.0), ('nwUKCleuwX-bghIinCkJ1A_z2', 0.14113899, 1929.0, 412.0, 1989.0, 544.0), ('nwUKCleuwX-bghIinCkJ1A_z2', 0.13961028, 1468.0, 120.0, 1738.0, 629.0), ('nwUKCleuwX-bghIinCkJ1A_z2', 0.13541812, 547.0, 381.0, 690.0, 596.0), ('nwUKCleuwX-bghIinCkJ1A_z2', 0.117096215, 459.0, 393.0, 593.0, 600.0), ('nwUKCleuwX-bghIinCkJ1A_z2', 0.11560437, 1368.0, 93.0, 1883.0, 598.0), ('nwUKCleuwX-bghIinCkJ1A_z2', 0.10561755, 161.0, 408.0, 237.0, 555.0), ('nwUKCleuwX-bghIinCkJ1A_z2', 0.09053061, 1595.0, 115.0, 1727.0, 543.0), ('nwUKCleuwX-bghIinCkJ1A_z2', 0.0808149, 1843.0, 424.0, 1934.0, 563.0), ('nwUKCleuwX-bghIinCkJ1A_z2', 0.07601764, 807.0, 372.0, 867.0, 564.0), ('nwUKCleuwX-bghIinCkJ1A_z2', 0.07513542, 263.0, 386.0, 437.0, 594.0), ('nwUKCleuwX-bghIinCkJ1A_z2', 0.073286034, 103.0, 455.0, 177.0, 553.0), ('nwUKCleuwX-bghIinCkJ1A_z2', 0.07021578, 784.0, 355.0, 842.0, 561.0), ('nwUKCleuwX-bghIinCkJ1A_z2', 0.07013492, 1022.0, 450.0, 1090.0, 529.0), ('nwUKCleuwX-bghIinCkJ1A_z2', 0.069442056, 746.0, 342.0, 811.0, 574.0), ('nwUKCleuwX-bghIinCkJ1A_z2', 0.068728544, 1064.0, 375.0, 1108.0, 527.0), ('nwUKCleuwX-bghIinCkJ1A_z2', 0.06718865, 883.0, 426.0, 958.0, 534.0), ('nwUKCleuwX-bghIinCkJ1A_z2', 0.0665659, 488.0, 422.0, 564.0, 588.0), ('nwUKCleuwX-bghIinCkJ1A_z2', 0.066324964, 359.0, 382.0, 434.0, 577.0), ('nwUKCleuwX-bghIinCkJ1A_z2', 0.06466931, 641.0, 391.0, 706.0, 577.0), ('nwUKCleuwX-bghIinCkJ1A_z2', 0.06444546, 819.0, 412.0, 886.0, 555.0), ('nwUKCleuwX-bghIinCkJ1A_z2', 0.063701294, 1350.0, 105.0, 1640.0, 654.0), ('nwUKCleuwX-bghIinCkJ1A_z2', 0.06351415, 662.0, 391.0, 727.0, 566.0), ('nwUKCleuwX-bghIinCkJ1A_z2', 0.063108996, 1151.0, 449.0, 1238.0, 583.0), ('nwUKCleuwX-bghIinCkJ1A_z2', 0.06268905, 1999.0, -58.0, 2072.0, 84.0), ('nwUKCleuwX-bghIinCkJ1A_z2', 0.061512403, 729.0, 358.0, 788.0, 559.0), ('nwUKCleuwX-bghIinCkJ1A_z2', 0.06141213, 383.0, 370.0, 456.0, 546.0), ('nwUKCleuwX-bghIinCkJ1A_z2', 0.061026502, 1440.0, 168.0, 1835.0, 844.0), ('nwUKCleuwX-bghIinCkJ1A_z2', 0.06096568, 1008.0, 476.0, 1067.0, 530.0), ('nwUKCleuwX-bghIinCkJ1A_z2', 0.060930513, 2000.0, 597.0, 2070.0, 739.0), ('nwUKCleuwX-bghIinCkJ1A_z2', 0.060171966, 529.0, 431.0, 598.0, 579.0), ('nwUKCleuwX-bghIinCkJ1A_z2', 0.06010161, 341.0, 402.0, 408.0, 580.0), ('nwUKCleuwX-bghIinCkJ1A_z2', 0.05998609, 785.0, 288.0, 839.0, 443.0), ('nwUKCleuwX-bghIinCkJ1A_z2', 0.059846617, 1893.0, 409.0, 1961.0, 554.0), ('nwUKCleuwX-bghIinCkJ1A_z2', 0.059819978, 604.0, 394.0, 680.0, 589.0), ('nwUKCleuwX-bghIinCkJ1A_z2', 0.059707504, 646.0, 351.0, 808.0, 562.0), ('nwUKCleuwX-bghIinCkJ1A_z2', 0.059699275, 1345.0, 412.0, 1407.0, 540.0), ('nwUKCleuwX-bghIinCkJ1A_z2', 0.059560668, 1132.0, 390.0, 1208.0, 561.0), ('nwUKCleuwX-bghIinCkJ1A_z2', 0.059433978, 1962.0, 634.0, 2106.0, 705.0), ('nwUKCleuwX-bghIinCkJ1A_z2', 0.05941287, 978.0, 481.0, 1029.0, 530.0), ('nwUKCleuwX-bghIinCkJ1A_z2', 0.059341684, 1947.0, -77.0, 2151.0, 130.0), ('nwUKCleuwX-bghIinCkJ1A_z2', 0.05927074, 419.0, 368.0, 485.0, 534.0), ('nwUKCleuwX-bghIinCkJ1A_z2', 0.05911595, 2002.0, 377.0, 2066.0, 523.0), ('nwUKCleuwX-bghIinCkJ1A_z2', 0.059073932, -116.0, 774.0, 171.0, 919.0), ('nwUKCleuwX-bghIinCkJ1A_z2', 0.059064068, -33.0, 397.0, 87.0, 750.0), ('nwUKCleuwX-bghIinCkJ1A_z2', 0.05900475, -32.0, 124.0, 87.0, 479.0), ('nwUKCleuwX-bghIinCkJ1A_z2', 0.058972146, -33.0, 668.0, 87.0, 1023.0), ('nwUKCleuwX-bghIinCkJ1A_z2', 0.058880456, -116.0, 173.0, 172.0, 318.0), ('nwUKCleuwX-bghIinCkJ1A_z2', 0.058862656, 1252.0, 479.0, 1333.0, 574.0), ('nwUKCleuwX-bghIinCkJ1A_z2', 0.05883558, 1754.0, 458.0, 1823.0, 605.0), ('nwUKCleuwX-bghIinCkJ1A_z2', 0.058828205, 1325.0, 417.0, 1386.0, 574.0), ('nwUKCleuwX-bghIinCkJ1A_z2', 0.058719043, 2001.0, 487.0, 2070.0, 628.0), ('nwUKCleuwX-bghIinCkJ1A_z2', 0.058632765, 581.0, 398.0, 653.0, 587.0), ('nwUKCleuwX-bghIinCkJ1A_z2', 0.058603745, 1974.0, 408.0, 2034.0, 546.0), ('nwUKCleuwX-bghIinCkJ1A_z2', 0.05856946, 955.0, 481.0, 1007.0, 530.0), ('nwUKCleuwX-bghIinCkJ1A_z2', 0.058523595, 1622.0, 175.0, 1685.0, 337.0), ('nwUKCleuwX-bghIinCkJ1A_z2', 0.058453638, -151.0, 842.0, 204.0, 960.0), ('nwUKCleuwX-bghIinCkJ1A_z2', 0.05843526, 1984.0, 645.0, 2084.0, 746.0), ('nwUKCleuwX-bghIinCkJ1A_z2', 0.058416232, -151.0, 241.0, 205.0, 359.0), ('nwUKCleuwX-bghIinCkJ1A_z2', 0.058409654, -72.0, 197.0, 128.0, 404.0), ('nwUKCleuwX-bghIinCkJ1A_z2', 0.05835315, -151.0, 514.0, 204.0, 632.0), ('nwUKCleuwX-bghIinCkJ1A_z2', 0.058315743, 1041.0, 396.0, 1116.0, 510.0), ('nwUKCleuwX-bghIinCkJ1A_z2', 0.058214072, 1988.0, -150.0, 2108.0, 204.0), ('nwUKCleuwX-bghIinCkJ1A_z2', 0.05817351, 1871.0, -32.0, 2226.0, 86.0), ('nwUKCleuwX-bghIinCkJ1A_z2', 0.05816315, -74.0, 799.0, 129.0, 1003.0), ('nwUKCleuwX-bghIinCkJ1A_z2', 0.05815977, 446.0, 377.0, 514.0, 536.0), ('nwUKCleuwX-bghIinCkJ1A_z2', 0.058158573, 1963.0, -23.0, 2107.0, 48.0), ('nwUKCleuwX-bghIinCkJ1A_z2', 0.058125462, 142.0, 440.0, 219.0, 561.0), ('nwUKCleuwX-bghIinCkJ1A_z2', 0.05804349, 764.0, 365.0, 851.0, 494.0), ('nwUKCleuwX-bghIinCkJ1A_z2', 0.058022477, 49.0, 46.0, 499.0, 501.0), ('nwUKCleuwX-bghIinCkJ1A_z2', 0.057976365, -151.0, 569.0, 205.0, 687.0), ('nwUKCleuwX-bghIinCkJ1A_z2', 0.057939503, 1963.0, 596.0, 2106.0, 742.0), ('nwUKCleuwX-bghIinCkJ1A_z2', 0.057923704, -117.0, 719.0, 172.0, 864.0), ('nwUKCleuwX-bghIinCkJ1A_z2', 0.057892043, 1597.0, 360.0, 1656.0, 533.0), ('nwUKCleuwX-bghIinCkJ1A_z2', 0.05786853, 1215.0, 443.0, 1276.0, 570.0), ('nwUKCleuwX-bghIinCkJ1A_z2', 0.057866458, -32.0, 835.0, 87.0, 1186.0), ('nwUKCleuwX-bghIinCkJ1A_z2', 0.057792313, -116.0, 665.0, 172.0, 810.0), ('nwUKCleuwX-bghIinCkJ1A_z2', 0.05778974, 1987.0, 427.0, 2077.0, 529.0), ('nwUKCleuwX-bghIinCkJ1A_z2', 0.057781562, 1594.0, 509.0, 1659.0, 660.0), ('nwUKCleuwX-bghIinCkJ1A_z2', 0.057780083, -20.0, 923.0, 49.0, 1067.0), ('nwUKCleuwX-bghIinCkJ1A_z2', 0.057746645, 1962.0, 5.0, 2105.0, 77.0), ('nwUKCleuwX-bghIinCkJ1A_z2', 0.057712134, -46.0, 591.0, 99.0, 882.0), ('nwUKCleuwX-bghIinCkJ1A_z2', 0.057706274, -20.0, 22.0, 49.0, 167.0), ('nwUKCleuwX-bghIinCkJ1A_z2', 0.05769626, 675.0, 369.0, 773.0, 475.0), ('nwUKCleuwX-bghIinCkJ1A_z2', 0.05766986, 1595.0, 196.0, 1656.0, 368.0), ('nwUKCleuwX-bghIinCkJ1A_z2', 0.057663478, 2000.0, 51.0, 2070.0, 192.0), ('nwUKCleuwX-bghIinCkJ1A_z2', 0.057658285, -73.0, 470.0, 128.0, 676.0), ('nwUKCleuwX-bghIinCkJ1A_z2', 0.057652038, 1571.0, 366.0, 1629.0, 535.0), ('nwUKCleuwX-bghIinCkJ1A_z2', 0.057627115, -20.0, 77.0, 49.0, 221.0), ('nwUKCleuwX-bghIinCkJ1A_z2', 0.057620384, 931.0, 477.0, 995.0, 534.0), ('nwUKCleuwX-bghIinCkJ1A_z2', 0.057602856, 1187.0, 153.0, 2061.0, 512.0), ('nwUKCleuwX-bghIinCkJ1A_z2', 0.057567853, -151.0, 951.0, 205.0, 1069.0), ('nwUKCleuwX-bghIinCkJ1A_z2', 0.05750943, -19.0, 158.0, 49.0, 303.0), ('nwUKCleuwX-bghIinCkJ1A_z2', 0.05749914, 2000.0, 651.0, 2070.0, 793.0), ('nwUKCleuwX-bghIinCkJ1A_z2', 0.05747844, 1961.0, 524.0, 2106.0, 595.0), ('nwUKCleuwX-bghIinCkJ1A_z2', 0.05746481, -20.0, 380.0, 48.0, 521.0), ('nwUKCleuwX-bghIinCkJ1A_z2', 0.05746019, 696.0, 370.0, 759.0, 540.0), ('nwUKCleuwX-bghIinCkJ1A_z2', 0.05741303, 583.0, 482.0, 659.0, 610.0), ('nwUKCleuwX-bghIinCkJ1A_z2', 0.057359632, 1940.0, 441.0, 2019.0, 548.0), ('nwUKCleuwX-bghIinCkJ1A_z2', 0.057340633, 244.0, 386.0, 323.0, 569.0), ('nwUKCleuwX-bghIinCkJ1A_z2', 0.057287607, 1961.0, 415.0, 2107.0, 486.0), ('nwUKCleuwX-bghIinCkJ1A_z2', 0.05728305, -73.0, 908.0, 129.0, 1113.0), ('nwUKCleuwX-bghIinCkJ1A_z2', 0.057248276, -20.0, 787.0, 49.0, 930.0), ('nwUKCleuwX-bghIinCkJ1A_z2', 0.057243872, -19.0, 213.0, 49.0, 358.0), ('nwUKCleuwX-bghIinCkJ1A_z2', 0.057216167, 314.0, 428.0, 378.0, 575.0), ('nwUKCleuwX-bghIinCkJ1A_z2', 0.057194874, 1905.0, 9.0, 2193.0, 154.0), ('nwUKCleuwX-bghIinCkJ1A_z2', 0.057157326, -112.0, 486.0, 162.0, 767.0), ('nwUKCleuwX-bghIinCkJ1A_z2', 0.05715381, 625.0, 401.0, 713.0, 513.0), ('nwUKCleuwX-bghIinCkJ1A_z2', 0.057146687, 85.0, 377.0, 675.0, 597.0), ('nwUKCleuwX-bghIinCkJ1A_z2', 0.057128478, 1961.0, 469.0, 2097.0, 543.0), ('nwUKCleuwX-bghIinCkJ1A_z2', 0.057073537, -20.0, 651.0, 49.0, 793.0), ('nwUKCleuwX-bghIinCkJ1A_z2', 0.057069488, 790.0, 392.0, 906.0, 559.0), ('nwUKCleuwX-bghIinCkJ1A_z2', 0.056912992, 1887.0, -216.0, 2157.0, 320.0), ('nwUKCleuwX-bghIinCkJ1A_z2', 0.056907773, -116.0, 119.0, 172.0, 263.0), ('nwUKCleuwX-bghIinCkJ1A_z2', 0.056899693, -151.0, 623.0, 205.0, 742.0), ('nwUKCleuwX-bghIinCkJ1A_z2', 0.056885388, -20.0, 268.0, 49.0, 412.0), ('nwUKCleuwX-bghIinCkJ1A_z2', 0.056860965, 1904.0, 64.0, 2193.0, 209.0), ('nwUKCleuwX-bghIinCkJ1A_z2', 0.056846846, -20.0, 842.0, 49.0, 984.0), ('nwUKCleuwX-bghIinCkJ1A_z2', 0.0568334, -20.0, 732.0, 49.0, 875.0), ('nwUKCleuwX-bghIinCkJ1A_z2', 0.05682573, -20.0, 323.0, 49.0, 467.0), ('nwUKCleuwX-bghIinCkJ1A_z2', 0.056819946, 1620.0, 396.0, 1686.0, 551.0), ('nwUKCleuwX-bghIinCkJ1A_z2', 0.056797884, 801.0, 295.0, 859.0, 444.0), ('nwUKCleuwX-bghIinCkJ1A_z2', 0.05679443, 1620.0, 246.0, 1817.0, 475.0), ('nwUKCleuwX-bghIinCkJ1A_z2', 0.05678805, 1961.0, 443.0, 2105.0, 515.0), ('nwUKCleuwX-bghIinCkJ1A_z2', 0.056768972, 382.0, 51.0, 821.0, 515.0), ('nwUKCleuwX-bghIinCkJ1A_z2', 0.056753676, 910.0, 460.0, 973.0, 543.0), ('nwUKCleuwX-bghIinCkJ1A_z2', 0.05664155, -20.0, 596.0, 49.0, 739.0), ('nwUKCleuwX-bghIinCkJ1A_z2', 0.05663793, -134.0, 629.0, 243.0, 1007.0), ('nwUKCleuwX-bghIinCkJ1A_z2', 0.056608453, 1817.0, 402.0, 1884.0, 561.0), ('nwUKCleuwX-bghIinCkJ1A_z2', 0.05660722, 1962.0, 688.0, 2106.0, 759.0), ('nwUKCleuwX-bghIinCkJ1A_z2', 0.056593996, 1966.0, 376.0, 2105.0, 526.0), ('nwUKCleuwX-bghIinCkJ1A_z2', 0.056589473, 1755.0, -80.0, 2291.0, 189.0), ('nwUKCleuwX-bghIinCkJ1A_z2', 0.056583583, -20.0, -32.0, 49.0, 111.0), ('nwUKCleuwX-bghIinCkJ1A_z2', 0.05654171, 556.0, 423.0, 626.0, 581.0), ('nwUKCleuwX-bghIinCkJ1A_z2', 0.056523543, 661.0, 327.0, 731.0, 489.0), ('nwUKCleuwX-bghIinCkJ1A_z2', 0.05652287, 1975.0, -8.0, 2121.0, 282.0), ('nwUKCleuwX-bghIinCkJ1A_z2', 0.056514066, -46.0, 47.0, 99.0, 335.0), ('nwUKCleuwX-bghIinCkJ1A_z2', 0.056495372, -37.0, 472.0, 84.0, 540.0), ('nwUKCleuwX-bghIinCkJ1A_z2', 0.056481138, -22.0, 514.0, 49.0, 658.0), ('nwUKCleuwX-bghIinCkJ1A_z2', 0.05647913, -115.0, 446.0, 171.0, 591.0), ('nwUKCleuwX-bghIinCkJ1A_z2', 0.056473568, 552.0, 316.0, 618.0, 469.0), ('nwUKCleuwX-bghIinCkJ1A_z2', 0.05646318, 1988.0, 833.0, 2108.0, 1188.0), ('nwUKCleuwX-bghIinCkJ1A_z2', 0.056440596, 1835.0, 362.0, 1908.0, 533.0), ('nwUKCleuwX-bghIinCkJ1A_z2', 0.056434177, 1904.0, 937.0, 2193.0, 1083.0), ('nwUKCleuwX-bghIinCkJ1A_z2', 0.056433234, 1648.0, 154.0, 1712.0, 310.0), ('nwUKCleuwX-bghIinCkJ1A_z2', 0.056417733, -134.0, 849.0, 244.0, 1227.0), ('nwUKCleuwX-bghIinCkJ1A_z2', 0.05640673, 260.0, 395.0, 359.0, 511.0), ('nwUKCleuwX-bghIinCkJ1A_z2', 0.056397922, 293.0, 485.0, 379.0, 583.0), ('nwUKCleuwX-bghIinCkJ1A_z2', 0.0563563, 1905.0, 665.0, 2194.0, 809.0), ('nwUKCleuwX-bghIinCkJ1A_z2', 0.05631766, 529.0, 298.0, 598.0, 447.0), ('nwUKCleuwX-bghIinCkJ1A_z2', 0.05631524, -113.0, 213.0, 161.0, 495.0), ('nwUKCleuwX-bghIinCkJ1A_z2', 0.056300353, 1831.0, -27.0, 2214.0, 350.0), ('nwUKCleuwX-bghIinCkJ1A_z2', 0.05628098, 248.0, 344.0, 517.0, 844.0), ('nwUKCleuwX-bghIinCkJ1A_z2', 0.056278106, 1988.0, 558.0, 2108.0, 915.0), ('nwUKCleuwX-bghIinCkJ1A_z2', 0.05627146, -59.0, 962.0, 86.0, 1032.0), ('nwUKCleuwX-bghIinCkJ1A_z2', 0.056250826, -135.0, 83.0, 243.0, 462.0), ('nwUKCleuwX-bghIinCkJ1A_z2', 0.056232993, 1947.0, 199.0, 2150.0, 402.0), ('nwUKCleuwX-bghIinCkJ1A_z2', 0.056230523, 636.0, 325.0, 705.0, 489.0), ('nwUKCleuwX-bghIinCkJ1A_z2', 0.056195688, 1063.0, 369.0, 1240.0, 571.0), ('nwUKCleuwX-bghIinCkJ1A_z2', 0.056180917, 1947.0, 526.0, 2150.0, 729.0), ('nwUKCleuwX-bghIinCkJ1A_z2', 0.056174345, -19.0, 464.0, 46.0, 591.0), ('nwUKCleuwX-bghIinCkJ1A_z2', 0.056172147, 1984.0, 372.0, 2083.0, 473.0), ('nwUKCleuwX-bghIinCkJ1A_z2', 0.056167066, 1535.0, 189.0, 1783.0, 552.0), ('nwUKCleuwX-bghIinCkJ1A_z2', 0.056165185, 599.0, 419.0, 743.0, 481.0), ('nwUKCleuwX-bghIinCkJ1A_z2', 0.05615974, -152.0, 296.0, 205.0, 414.0), ('nwUKCleuwX-bghIinCkJ1A_z2', 0.056147303, 1918.0, -59.0, 1988.0, 83.0), ('nwUKCleuwX-bghIinCkJ1A_z2', 0.056145195, -150.0, 897.0, 204.0, 1015.0), ('nwUKCleuwX-bghIinCkJ1A_z2', 0.0561397, 2002.0, 950.0, 2070.0, 1096.0), ('nwUKCleuwX-bghIinCkJ1A_z2', 0.056138, 1905.0, 610.0, 2194.0, 755.0), ('nwUKCleuwX-bghIinCkJ1A_z2', 0.056137223, 1985.0, 944.0, 2083.0, 1046.0), ('nwUKCleuwX-bghIinCkJ1A_z2', 0.056129176, 1950.0, 388.0, 2009.0, 533.0), ('nwUKCleuwX-bghIinCkJ1A_z2', 0.056093957, -36.0, 16.0, 63.0, 118.0), ('nwUKCleuwX-bghIinCkJ1A_z2', 0.056082897, 89.0, 413.0, 464.0, 774.0), ('nwUKCleuwX-bghIinCkJ1A_z2', 0.056069575, 24.0, 462.0, 100.0, 553.0), ('nwUKCleuwX-bghIinCkJ1A_z2', 0.05606933, -117.0, 64.0, 172.0, 209.0), ('nwUKCleuwX-bghIinCkJ1A_z2', 0.056050148, -55.0, 490.0, 164.0, 1146.0), ('nwUKCleuwX-bghIinCkJ1A_z2', 0.056037735, 1727.0, -59.0, 1797.0, 83.0), ('nwUKCleuwX-bghIinCkJ1A_z2', 0.05603566, 470.0, 389.0, 543.0, 551.0), ('nwUKCleuwX-bghIinCkJ1A_z2', 0.056022115, 1988.0, 122.0, 2107.0, 478.0), ('nwUKCleuwX-bghIinCkJ1A_z2', 0.056011602, 1811.0, 55.0, 2350.0, 603.0), ('nwUKCleuwX-bghIinCkJ1A_z2', 0.056010004, 1946.0, 799.0, 2150.0, 1002.0), ('nwUKCleuwX-bghIinCkJ1A_z2', 0.056005936, 1773.0, 454.0, 1863.0, 560.0), ('nwUKCleuwX-bghIinCkJ1A_z2', 0.05596875, 1871.0, 241.0, 2227.0, 359.0), ('nwUKCleuwX-bghIinCkJ1A_z2', 0.055958357, -59.0, 6.0, 86.0, 77.0), ('nwUKCleuwX-bghIinCkJ1A_z2', 0.05595745, 717.0, -59.0, 786.0, 83.0), ('nwUKCleuwX-bghIinCkJ1A_z2', 0.055956017, 1596.0, 447.0, 1656.0, 610.0), ('nwUKCleuwX-bghIinCkJ1A_z2', 0.055942576, 538.0, 295.0, 627.0, 394.0), ('nwUKCleuwX-bghIinCkJ1A_z2', 0.055940315, 1946.0, -59.0, 2015.0, 83.0), ('nwUKCleuwX-bghIinCkJ1A_z2', 0.055935964, 705.0, 389.0, 852.0, 451.0), ('nwUKCleuwX-bghIinCkJ1A_z2', 0.05593229, 690.0, -59.0, 759.0, 83.0), ('nwUKCleuwX-bghIinCkJ1A_z2', 0.055930547, 744.0, -59.0, 814.0, 83.0), ('nwUKCleuwX-bghIinCkJ1A_z2', 0.055929206, 65.0, 489.0, 698.0, 707.0), ('nwUKCleuwX-bghIinCkJ1A_z2', 0.055926524, 662.0, -59.0, 732.0, 83.0), ('nwUKCleuwX-bghIinCkJ1A_z2', 0.05592576, 1962.0, 716.0, 2106.0, 787.0), ('nwUKCleuwX-bghIinCkJ1A_z2', 0.055922855, 1536.0, -59.0, 1605.0, 83.0), ('nwUKCleuwX-bghIinCkJ1A_z2', 0.055922683, 1755.0, -59.0, 1824.0, 83.0)]\n",
      "preds_data_type:  [('image_id', '<U31'), ('confidence', '<f4'), ('xmin', '<f4'), ('ymin', '<f4'), ('xmax', '<f4'), ('ymax', '<f4')]\n",
      "###################################################################################\n"
     ]
    },
    {
     "name": "stdout",
     "output_type": "stream",
     "text": [
      "Matching predictions to ground truth, class 1/1.: 100%|██████████| 800/800 [00:00<00:00, 6022.28it/s]\n",
      "Computing precisions and recalls, class 1/1\n",
      "Computing average precision, class 1/1\n"
     ]
    }
   ],
   "source": [
    "results = evaluator(img_height=img_height,\n",
    "                    img_width=img_width,\n",
    "                    batch_size=1,\n",
    "                    data_generator_mode='resize',\n",
    "                    round_confidences=False,\n",
    "                    matching_iou_threshold=0.5,\n",
    "                    border_pixels='include',\n",
    "                    sorting_algorithm='quicksort',\n",
    "                    average_precision_mode='sample',\n",
    "                    num_recall_points=11,\n",
    "                    ignore_neutral_boxes=True,\n",
    "                    return_precisions=True,\n",
    "                    return_recalls=True,\n",
    "                    return_average_precisions=True,\n",
    "                    verbose=True)\n",
    "\n"
   ]
  },
  {
   "cell_type": "code",
   "execution_count": null,
   "metadata": {},
   "outputs": [],
   "source": []
  },
  {
   "cell_type": "code",
   "execution_count": 7,
   "metadata": {},
   "outputs": [],
   "source": [
    "mean_average_precision, average_precisions, precisions, recalls = results"
   ]
  },
  {
   "cell_type": "markdown",
   "metadata": {
    "collapsed": true
   },
   "source": [
    "## 4. Visualize the results\n",
    "\n",
    "Let's take a look:"
   ]
  },
  {
   "cell_type": "code",
   "execution_count": 8,
   "metadata": {},
   "outputs": [
    {
     "name": "stdout",
     "output_type": "stream",
     "text": [
      "tree          AP    0.617\n",
      "\n",
      "              mAP   0.617\n"
     ]
    }
   ],
   "source": [
    "for i in range(1, len(average_precisions)):\n",
    "    print(\"{:<14}{:<6}{}\".format(classes[i], 'AP', round(average_precisions[i], 3)))\n",
    "print()\n",
    "print(\"{:<14}{:<6}{}\".format('','mAP', round(mean_average_precision, 3)))"
   ]
  },
  {
   "cell_type": "code",
   "execution_count": null,
   "metadata": {
    "scrolled": false
   },
   "outputs": [],
   "source": [
    "m = max((n_classes + 1) // 2, 2)\n",
    "n = 2\n",
    "\n",
    "fig, cells = plt.subplots(m, n, figsize=(n*8,m*8))\n",
    "for i in range(m):\n",
    "    for j in range(n):\n",
    "        if n*i+j+1 > n_classes: break\n",
    "        cells[i, j].plot(recalls[n*i+j+1], precisions[n*i+j+1], color='blue', linewidth=1.0)\n",
    "        cells[i, j].set_xlabel('recall', fontsize=14)\n",
    "        cells[i, j].set_ylabel('precision', fontsize=14)\n",
    "        cells[i, j].grid(True)\n",
    "        cells[i, j].set_xticks(np.linspace(0,1,11))\n",
    "        cells[i, j].set_yticks(np.linspace(0,1,11))\n",
    "        cells[i, j].set_title(\"{}, AP: {:.3f}\".format(classes[n*i+j+1], average_precisions[n*i+j+1]), fontsize=16)\n"
   ]
  },
  {
   "cell_type": "markdown",
   "metadata": {},
   "source": [
    "## 5. Advanced use\n",
    "\n",
    "`Evaluator` objects maintain copies of all relevant intermediate results like predictions, precisions and recalls, etc., so in case you want to experiment with different parameters, e.g. different IoU overlaps, there is no need to compute the predictions all over again every time you make a change to a parameter. Instead, you can only update the computation from the point that is affected onwards.\n",
    "\n",
    "The evaluator's `__call__()` method is just a convenience wrapper that executes its other methods in the correct order. You could just call any of these other methods individually as shown below (but you have to make sure to call them in the correct order).\n",
    "\n",
    "Note that the example below uses the same evaluator object as above. Say you wanted to compute the Pascal VOC post-2010 'integrate' version of the average precisions instead of the pre-2010 version computed above. The evaluator object still has an internal copy of all the predictions, and since computing the predictions makes up the vast majority of the overall computation time and since the predictions aren't affected by changing the average precision computation mode, we skip computing the predictions again and instead only compute the steps that come after the prediction phase of the evaluation. We could even skip the matching part, since it isn't affected by changing the average precision mode either. In fact, we would only have to call `compute_average_precisions()` `compute_mean_average_precision()` again, but for the sake of illustration we'll re-do the other computations, too."
   ]
  },
  {
   "cell_type": "code",
   "execution_count": null,
   "metadata": {},
   "outputs": [],
   "source": [
    "evaluator.get_num_gt_per_class(ignore_neutral_boxes=True,\n",
    "                               verbose=False,\n",
    "                               ret=False)\n",
    "\n",
    "evaluator.match_predictions(ignore_neutral_boxes=True,\n",
    "                            matching_iou_threshold=0.5,\n",
    "                            border_pixels='include',\n",
    "                            sorting_algorithm='quicksort',\n",
    "                            verbose=True,\n",
    "                            ret=False)\n",
    "\n",
    "precisions, recalls = evaluator.compute_precision_recall(verbose=True, ret=True)\n",
    "\n",
    "average_precisions = evaluator.compute_average_precisions(mode='integrate',\n",
    "                                                          num_recall_points=11,\n",
    "                                                          verbose=True,\n",
    "                                                          ret=True)\n",
    "\n",
    "mean_average_precision = evaluator.compute_mean_average_precision(ret=True)"
   ]
  },
  {
   "cell_type": "code",
   "execution_count": null,
   "metadata": {},
   "outputs": [],
   "source": [
    "for i in range(1, len(average_precisions)):\n",
    "    print(\"{:<14}{:<6}{}\".format(classes[i], 'AP', round(average_precisions[i], 3)))\n",
    "print()\n",
    "print(\"{:<14}{:<6}{}\".format('','mAP', round(mean_average_precision, 3)))"
   ]
  },
  {
   "cell_type": "code",
   "execution_count": null,
   "metadata": {},
   "outputs": [],
   "source": []
  }
 ],
 "metadata": {
  "kernelspec": {
   "display_name": "Python 3",
   "language": "python",
   "name": "python3"
  },
  "language_info": {
   "codemirror_mode": {
    "name": "ipython",
    "version": 3
   },
   "file_extension": ".py",
   "mimetype": "text/x-python",
   "name": "python",
   "nbconvert_exporter": "python",
   "pygments_lexer": "ipython3",
   "version": "3.5.2"
  }
 },
 "nbformat": 4,
 "nbformat_minor": 2
}
