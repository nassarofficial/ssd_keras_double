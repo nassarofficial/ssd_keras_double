{
 "cells": [
  {
   "cell_type": "code",
   "execution_count": 1,
   "metadata": {},
   "outputs": [
    {
     "name": "stderr",
     "output_type": "stream",
     "text": [
      "Using TensorFlow backend.\n"
     ]
    }
   ],
   "source": [
    "from keras import backend as K\n",
    "import tensorflow as tf\n",
    "from math import ceil\n",
    "import numpy as np\n",
    "import math\n",
    "from ssd_encoder_decoder.matching_utils import match_bipartite_greedy32\n",
    "from bounding_box_utils.bounding_box_utils import iou_float, convert_coordinates\n",
    "import timeit"
   ]
  },
  {
   "cell_type": "code",
   "execution_count": 2,
   "metadata": {},
   "outputs": [],
   "source": [
    "sess = tf.Session()\n",
    "sess.run(tf.global_variables_initializer())\n",
    "K.set_session(sess)\n",
    "K.clear_session()\n"
   ]
  },
  {
   "cell_type": "code",
   "execution_count": 3,
   "metadata": {},
   "outputs": [],
   "source": [
    "def np_intersection_area_(boxes1, boxes2, coords='corners', mode='outer_product', border_pixels='half'):\n",
    "    '''\n",
    "    The same as 'intersection_area()' but for internal use, i.e. without all the safety checks.\n",
    "    '''\n",
    "\n",
    "    m = boxes1.shape[0] # The number of boxes in `boxes1`\n",
    "    n = boxes2.shape[0] # The number of boxes in `boxes2`\n",
    "\n",
    "    # Set the correct coordinate indices for the respective formats.\n",
    "    if coords == 'corners':\n",
    "        xmin = 0\n",
    "        ymin = 1\n",
    "        xmax = 2\n",
    "        ymax = 3\n",
    "    elif coords == 'minmax':\n",
    "        xmin = 0\n",
    "        xmax = 1\n",
    "        ymin = 2\n",
    "        ymax = 3\n",
    "\n",
    "    if border_pixels == 'half':\n",
    "        d = 0\n",
    "    elif border_pixels == 'include':\n",
    "        d = 1 # If border pixels are supposed to belong to the bounding boxes, we have to add one pixel to any difference `xmax - xmin` or `ymax - ymin`.\n",
    "    elif border_pixels == 'exclude':\n",
    "        d = -1 # If border pixels are not supposed to belong to the bounding boxes, we have to subtract one pixel from any difference `xmax - xmin` or `ymax - ymin`.\n",
    "\n",
    "    # Compute the intersection areas.\n",
    "\n",
    "    if mode == 'outer_product':\n",
    "\n",
    "        # For all possible box combinations, get the greater xmin and ymin values.\n",
    "        # This is a tensor of shape (m,n,2).\n",
    "        min_xy = np.maximum(np.tile(np.expand_dims(boxes1[:,[xmin,ymin]], axis=1), reps=(1, n, 1)),\n",
    "                            np.tile(np.expand_dims(boxes2[:,[xmin,ymin]], axis=0), reps=(m, 1, 1)))\n",
    "\n",
    "        # For all possible box combinations, get the smaller xmax and ymax values.\n",
    "        # This is a tensor of shape (m,n,2).\n",
    "        max_xy = np.minimum(np.tile(np.expand_dims(boxes1[:,[xmax,ymax]], axis=1), reps=(1, n, 1)),\n",
    "                            np.tile(np.expand_dims(boxes2[:,[xmax,ymax]], axis=0), reps=(m, 1, 1)))\n",
    "\n",
    "        # Compute the side lengths of the intersection rectangles.\n",
    "        side_lengths = np.maximum(0, max_xy - min_xy + d)\n",
    "\n",
    "        return side_lengths[:,:,0] * side_lengths[:,:,1]\n",
    "\n",
    "    elif mode == 'element-wise':\n",
    "\n",
    "        min_xy = np.maximum(boxes1[:,[xmin,ymin]], boxes2[:,[xmin,ymin]])\n",
    "        max_xy = np.minimum(boxes1[:,[xmax,ymax]], boxes2[:,[xmax,ymax]])\n",
    "\n",
    "        # Compute the side lengths of the intersection rectangles.\n",
    "        side_lengths = np.maximum(0, max_xy - min_xy + d)\n",
    "\n",
    "        return side_lengths[:,0] * side_lengths[:,1]\n"
   ]
  },
  {
   "cell_type": "code",
   "execution_count": null,
   "metadata": {},
   "outputs": [],
   "source": [
    "def tf_intersection_area_(boxes1, boxes2, coords='corners', mode='outer_product', border_pixels='half'):\n",
    "    \n",
    "#     m = boxes1.shape[0] # The number of boxes in `boxes1`\n",
    "#     n = boxes2.shape[0] # The number of boxes in `boxes2`\n",
    "\n",
    "    m = tf.shape(boxes1)[0]\n",
    "    n = tf.shape(boxes2)[0]\n",
    "    xmin = 0\n",
    "    ymin = 1\n",
    "    xmax = 2\n",
    "    ymax = 3\n",
    "\n",
    "    d = 0\n",
    "\n",
    "    min_xy = np.maximum(np.tile(np.expand_dims(boxes1[:,[xmin,ymin]], axis=1), reps=(1, n, 1)),\n",
    "                        np.tile(np.expand_dims(boxes2[:,[xmin,ymin]], axis=0), reps=(m, 1, 1)))\n",
    "\n",
    "    max_xy = np.minimum(np.tile(np.expand_dims(boxes1[:,[xmax,ymax]], axis=1), reps=(1, n, 1)),\n",
    "                            np.tile(np.expand_dims(boxes2[:,[xmax,ymax]], axis=0), reps=(m, 1, 1)))\n",
    "\n",
    "    side_lengths = np.maximum(0, max_xy - min_xy + d)\n",
    "\n",
    "    return side_lengths[:,:,0] * side_lengths[:,:,1]"
   ]
  },
  {
   "cell_type": "code",
   "execution_count": null,
   "metadata": {},
   "outputs": [],
   "source": [
    "def iou_float(boxes1, boxes2, coords='centroids', mode='outer_product', border_pixels='half'):\n",
    "\n",
    "    np_intersection_area_ = intersection_area_(boxes1, boxes2, coords=coords, mode=mode)\n",
    "    \n",
    "    m = boxes1.shape[0] # The number of boxes in `boxes1`\n",
    "    n = boxes2.shape[0] # The number of boxes in `boxes2`\n",
    "\n",
    "    # Compute the union areas.\n",
    "\n",
    "    # Set the correct coordinate indices for the respective formats.\n",
    "    if coords == 'corners':\n",
    "        xmin = 0\n",
    "        ymin = 1\n",
    "        xmax = 2\n",
    "        ymax = 3\n",
    "    elif coords == 'minmax':\n",
    "        xmin = 0\n",
    "        xmax = 1\n",
    "        ymin = 2\n",
    "        ymax = 3\n",
    "\n",
    "    if border_pixels == 'half':\n",
    "        d = 0\n",
    "    elif border_pixels == 'include':\n",
    "        d = 1 # If border pixels are supposed to belong to the bounding boxes, we have to add one pixel to any difference `xmax - xmin` or `ymax - ymin`.\n",
    "    elif border_pixels == 'exclude':\n",
    "        d = -1 # If border pixels are not supposed to belong to the bounding boxes, we have to subtract one pixel from any difference `xmax - xmin` or `ymax - ymin`.\n",
    "\n",
    "    if mode == 'outer_product':\n",
    "\n",
    "        boxes1_areas = np.tile(np.expand_dims((boxes1[:,xmax] - boxes1[:,xmin] + d) * (boxes1[:,ymax] - boxes1[:,ymin] + d), axis=1), reps=(1,n))\n",
    "        boxes2_areas = np.tile(np.expand_dims((boxes2[:,xmax] - boxes2[:,xmin] + d) * (boxes2[:,ymax] - boxes2[:,ymin] + d), axis=0), reps=(m,1))\n",
    "\n",
    "    elif mode == 'element-wise':\n",
    "\n",
    "        boxes1_areas = (boxes1[:,xmax] - boxes1[:,xmin] + d) * (boxes1[:,ymax] - boxes1[:,ymin] + d)\n",
    "        boxes2_areas = (boxes2[:,xmax] - boxes2[:,xmin] + d) * (boxes2[:,ymax] - boxes2[:,ymin] + d)\n",
    "\n",
    "    union_areas = boxes1_areas + boxes2_areas - intersection_areas\n",
    "    op = intersection_areas / union_areas\n",
    "    return op.astype(np.float32)\n"
   ]
  },
  {
   "cell_type": "code",
   "execution_count": null,
   "metadata": {},
   "outputs": [],
   "source": [
    "def tf_iou(boxes1, boxes2, coords='centroids', mode='outer_product', border_pixels='half'):\n",
    "    intersection_areas = tf_intersection_area_(boxes1, boxes2, coords=coords, mode=mode)"
   ]
  }
 ],
 "metadata": {
  "kernelspec": {
   "display_name": "Python 3",
   "language": "python",
   "name": "python3"
  },
  "language_info": {
   "codemirror_mode": {
    "name": "ipython",
    "version": 3
   },
   "file_extension": ".py",
   "mimetype": "text/x-python",
   "name": "python",
   "nbconvert_exporter": "python",
   "pygments_lexer": "ipython3",
   "version": "3.5.2"
  }
 },
 "nbformat": 4,
 "nbformat_minor": 2
}
