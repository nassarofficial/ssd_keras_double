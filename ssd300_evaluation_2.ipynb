{
 "cells": [
  {
   "cell_type": "markdown",
   "metadata": {},
   "source": [
    "# SSD Evaluation Tutorial\n",
    "\n",
    "This is a brief tutorial that explains how compute the average precisions for any trained SSD model using the `Evaluator` class. The `Evaluator` computes the average precisions according to the Pascal VOC pre-2010 or post-2010 detection evaluation algorithms. You can find details about these computation methods [here](http://host.robots.ox.ac.uk/pascal/VOC/voc2012/htmldoc/devkit_doc.html#sec:ap).\n",
    "\n",
    "As an example we'll evaluate an SSD300 on the Pascal VOC 2007 `test` dataset, but note that the `Evaluator` works for any SSD model and any dataset that is compatible with the `DataGenerator`. If you would like to run the evaluation on a different model and/or dataset, the procedure is analogous to what is shown below, you just have to build the appropriate model and load the relevant dataset.\n",
    "\n",
    "Note: I that in case you would like to evaluate a model on MS COCO, I would recommend to follow the [MS COCO evaluation notebook](https://github.com/pierluigiferrari/ssd_keras/blob/master/ssd300_evaluation_COCO.ipynb) instead, because it can produce the results format required by the MS COCO evaluation server and uses the official MS COCO evaluation code, which computes the mAP slightly differently from the Pascal VOC method.\n",
    "\n",
    "Note: In case you want to evaluate any of the provided trained models, make sure that you build the respective model with the correct set of scaling factors to reproduce the official results. The models that were trained on MS COCO and fine-tuned on Pascal VOC require the MS COCO scaling factors, not the Pascal VOC scaling factors."
   ]
  },
  {
   "cell_type": "code",
   "execution_count": 1,
   "metadata": {},
   "outputs": [
    {
     "name": "stderr",
     "output_type": "stream",
     "text": [
      "Using TensorFlow backend.\n"
     ]
    }
   ],
   "source": [
    "from keras import backend as K\n",
    "from keras.models import load_model\n",
    "from keras.optimizers import Adam\n",
    "from scipy.misc import imread\n",
    "import numpy as np\n",
    "from matplotlib import pyplot as plt\n",
    "\n",
    "from models.keras_ssd300 import ssd_300\n",
    "from keras_loss_function.keras_ssd_loss_mod import SSDLoss\n",
    "from keras_loss_function.keras_ssd_loss_proj import SSDLoss_proj\n",
    "from keras_layers.keras_layer_AnchorBoxes import AnchorBoxes\n",
    "from keras_layers.keras_layer_DecodeDetections import DecodeDetections\n",
    "from keras_layers.keras_layer_DecodeDetectionsFast import DecodeDetectionsFast\n",
    "from keras_layers.keras_layer_L2Normalization import L2Normalization\n",
    "from data_generator.object_detection_2d_data_generator import DataGenerator\n",
    "from eval_utils.average_precision_evaluator_modified import Evaluator\n",
    "\n",
    "%matplotlib inline"
   ]
  },
  {
   "cell_type": "code",
   "execution_count": 2,
   "metadata": {},
   "outputs": [],
   "source": [
    "# Set a few configuration parameters.\n",
    "img_height = 300\n",
    "img_width = 600\n",
    "n_classes = 1\n",
    "model_mode = 'inference'"
   ]
  },
  {
   "cell_type": "markdown",
   "metadata": {},
   "source": [
    "## 1. Load a trained SSD\n",
    "\n",
    "Either load a trained model or build a model and load trained weights into it. Since the HDF5 files I'm providing contain only the weights for the various SSD versions, not the complete models, you'll have to go with the latter option when using this implementation for the first time. You can then of course save the model and next time load the full model directly, without having to build it.\n",
    "\n",
    "You can find the download links to all the trained model weights in the README."
   ]
  },
  {
   "cell_type": "markdown",
   "metadata": {},
   "source": [
    "### 1.1. Build the model and load trained weights into it"
   ]
  },
  {
   "cell_type": "code",
   "execution_count": 3,
   "metadata": {},
   "outputs": [
    {
     "name": "stderr",
     "output_type": "stream",
     "text": [
      "/home/nassar/gits/ssd_keras_double/models/keras_ssd300.py:612: UserWarning: Update your `Model` call to the Keras 2 API: `Model(outputs=[<tf.Tenso..., inputs=[<tf.Tenso...)`\n",
      "  model = Model(input=[x,geo_1,geo_2],output=[predictions, predictions_proj])\n"
     ]
    },
    {
     "name": "stdout",
     "output_type": "stream",
     "text": [
      "y_pred:  Tensor(\"decoded_predictions/strided_slice:0\", shape=(?, 17292, 14), dtype=float32)\n"
     ]
    }
   ],
   "source": [
    "# 1: Build the Keras model\n",
    "\n",
    "K.clear_session() # Clear previous models from memory.\n",
    "\n",
    "model = ssd_300(image_size=(img_height, img_width, 3),\n",
    "                n_classes=n_classes,\n",
    "                mode=model_mode,\n",
    "                l2_regularization=0.0005,\n",
    "                scales=[0.1, 0.2, 0.37, 0.54, 0.71, 0.88, 1.05], # The scales for MS COCO [0.07, 0.15, 0.33, 0.51, 0.69, 0.87, 1.05]\n",
    "                aspect_ratios_per_layer=[[1.0, 2.0, 0.5],\n",
    "                                         [1.0, 2.0, 0.5, 3.0, 1.0/3.0],\n",
    "                                         [1.0, 2.0, 0.5, 3.0, 1.0/3.0],\n",
    "                                         [1.0, 2.0, 0.5, 3.0, 1.0/3.0],\n",
    "                                         [1.0, 2.0, 0.5],\n",
    "                                         [1.0, 2.0, 0.5]],\n",
    "                two_boxes_for_ar1=True,\n",
    "                steps=[8, 16, 32, 64, 100, 300],\n",
    "                offsets=[0.5, 0.5, 0.5, 0.5, 0.5, 0.5],\n",
    "                clip_boxes=False,\n",
    "                variances=[0.1, 0.1, 0.2, 0.2],\n",
    "                normalize_coords=True,\n",
    "                subtract_mean=[123, 117, 104],\n",
    "                swap_channels=[2, 1, 0],\n",
    "                confidence_thresh=0.01,\n",
    "                iou_threshold=0.5,\n",
    "                top_k=200,\n",
    "                nms_max_output_size=400)\n",
    "\n",
    "# 2: Load the trained weights into the model.\n",
    "\n",
    "# TODO: Set the path of the trained weights.\n",
    "weights_path = 'checkpoints/EXP2/double_ssd300_pascal_07+12_epoch-07_loss-38.0040_val_loss-36.2636.h5'\n",
    "\n",
    "model.load_weights(weights_path, by_name=True)\n",
    "\n",
    "# 3: Compile the model so that Keras won't complain the next time you load it.\n",
    "\n",
    "adam = Adam(lr=0.001, beta_1=0.9, beta_2=0.999, epsilon=1e-08, decay=0.0)\n",
    "\n",
    "ssd_loss = SSDLoss(neg_pos_ratio=3, alpha=1.0)\n",
    "\n",
    "model.compile(optimizer=adam, loss=ssd_loss.compute_loss)"
   ]
  },
  {
   "cell_type": "markdown",
   "metadata": {},
   "source": [
    "Or"
   ]
  },
  {
   "cell_type": "markdown",
   "metadata": {},
   "source": [
    "### 1.2. Load a trained model\n",
    "\n",
    "We set `model_mode` to 'inference' above, so the evaluator expects that you load a model that was built in 'inference' mode. If you're loading a model that was built in 'training' mode, change the `model_mode` parameter accordingly."
   ]
  },
  {
   "cell_type": "raw",
   "metadata": {
    "collapsed": true
   },
   "source": [
    "# TODO: Set the path to the `.h5` file of the model to be loaded.\n",
    "model_path = 'path/to/trained/model.h5'\n",
    "\n",
    "# We need to create an SSDLoss object in order to pass that to the model loader.\n",
    "ssd_loss = SSDLoss(neg_pos_ratio=3, alpha=1.0)\n",
    "\n",
    "K.clear_session() # Clear previous models from memory.\n",
    "\n",
    "model = load_model(model_path, custom_objects={'AnchorBoxes': AnchorBoxes,\n",
    "                                               'L2Normalization': L2Normalization,\n",
    "                                               'DecodeDetections': DecodeDetections,\n",
    "                                               'compute_loss': ssd_loss.compute_loss})"
   ]
  },
  {
   "cell_type": "markdown",
   "metadata": {},
   "source": [
    "## 2. Create a data generator for the evaluation dataset\n",
    "\n",
    "Instantiate a `DataGenerator` that will serve the evaluation dataset during the prediction phase."
   ]
  },
  {
   "cell_type": "code",
   "execution_count": null,
   "metadata": {},
   "outputs": [],
   "source": [
    "model.summary()"
   ]
  },
  {
   "cell_type": "code",
   "execution_count": 4,
   "metadata": {},
   "outputs": [
    {
     "name": "stdout",
     "output_type": "stream",
     "text": [
      "Processing image set 'val_sia_sub.txt': 100%|██████████| 1/1 [00:00<00:00, 17.15it/s]\n"
     ]
    }
   ],
   "source": [
    "dataset = DataGenerator()\n",
    "\n",
    "# TODO: Set the paths to the dataset here.\n",
    "VOC_2007_images_dir      = '../datasets/Images/'\n",
    "VOC_2007_annotations_dir      = '../datasets/VOC/Pasadena/Annotations/'\n",
    "VOC_2007_test_image_set_filename     = '../datasets/VOC/Pasadena/ImageSets/Main/siamese/val_sia_sub.txt'\n",
    "\n",
    "# The XML parser needs to now what object class names to look for and in which order to map them to integers.\n",
    "classes = ['background',\n",
    "           'tree']\n",
    "\n",
    "dataset.parse_xml(images_dirs=[VOC_2007_images_dir],\n",
    "                  image_set_filenames=[VOC_2007_test_image_set_filename],\n",
    "                  annotations_dirs=[VOC_2007_annotations_dir],\n",
    "                  classes=classes,\n",
    "                  include_classes='all',\n",
    "                  exclude_truncated=False,\n",
    "                  exclude_difficult=False,\n",
    "                  ret=False)"
   ]
  },
  {
   "cell_type": "code",
   "execution_count": null,
   "metadata": {},
   "outputs": [],
   "source": []
  },
  {
   "cell_type": "markdown",
   "metadata": {},
   "source": [
    "## 3. Run the evaluation\n",
    "\n",
    "Now that we have instantiated a model and a data generator to serve the dataset, we can set up the evaluator and run the evaluation.\n",
    "\n",
    "The evaluator is quite flexible: It can compute the average precisions according to the Pascal VOC pre-2010 algorithm, which samples 11 equidistant points of the precision-recall curves, or according to the Pascal VOC post-2010 algorithm, which integrates numerically over the entire precision-recall curves instead of sampling a few individual points. You could also change the number of sampled recall points or the required IoU overlap for a prediction to be considered a true positive, among other things. Check out the `Evaluator`'s documentation for details on all the arguments.\n",
    "\n",
    "In its default settings, the evaluator's algorithm is identical to the official Pascal VOC pre-2010 Matlab detection evaluation algorithm, so you don't really need to tweak anything unless you want to.\n",
    "\n",
    "The evaluator roughly performs the following steps: It runs predictions over the entire given dataset, then it matches these predictions to the ground truth boxes, then it computes the precision-recall curves for each class, then it samples 11 equidistant points from these precision-recall curves to compute the average precision for each class, and finally it computes the mean average precision over all classes."
   ]
  },
  {
   "cell_type": "code",
   "execution_count": 5,
   "metadata": {
    "scrolled": false
   },
   "outputs": [],
   "source": [
    "evaluator = Evaluator(model=model,\n",
    "                      n_classes=n_classes,\n",
    "                      data_generator=dataset,\n",
    "                      model_mode=model_mode)"
   ]
  },
  {
   "cell_type": "code",
   "execution_count": null,
   "metadata": {},
   "outputs": [],
   "source": [
    "evaluator.model.summary()"
   ]
  },
  {
   "cell_type": "code",
   "execution_count": 7,
   "metadata": {},
   "outputs": [
    {
     "name": "stdout",
     "output_type": "stream",
     "text": [
      "Number of images in the evaluation dataset: 1\n",
      "\n",
      "Producing predictions batch-wise:   0%|          | 0/1 [00:00<?, ?it/s]Test:  (1, 200, 6)\n",
      "y_pred:  [[[ 1.0000000e+00  6.7480542e-02  5.5945343e+02  2.5506499e+02\n",
      "    6.4094226e+02  3.3653745e+02]\n",
      "  [ 1.0000000e+00  6.5507792e-02  5.5949890e+02 -3.2991112e+01\n",
      "    6.4090033e+02  4.8592136e+01]\n",
      "  [ 1.0000000e+00  6.5096512e-02 -3.2494900e+01  2.5501685e+02\n",
      "    4.8897663e+01  3.3658264e+02]\n",
      "  ...\n",
      "  [ 1.0000000e+00  6.3911378e-02  4.9003540e+02  9.6841869e+00\n",
      "    5.1081787e+02  4.7280380e+01]\n",
      "  [ 1.0000000e+00  6.3911378e-02  4.7403543e+02 -6.3158131e+00\n",
      "    4.9481790e+02  3.1280380e+01]\n",
      "  [ 1.0000000e+00  6.3911378e-02  2.7403540e+02 -6.3158131e+00\n",
      "    2.9481787e+02  3.1280380e+01]]]\n",
      "Producing predictions batch-wise: 100%|██████████| 1/1 [00:00<00:00,  4.54it/s]\n",
      "predictions:  [('U3ZktzC6Gi_BbH9uy8TfNw_z2', 0.06748054, 1910.0, 871.0, 2188.0, 1149.0), ('U3ZktzC6Gi_BbH9uy8TfNw_z2', 0.06550779, 1910.0, -113.0, 2188.0, 166.0), ('U3ZktzC6Gi_BbH9uy8TfNw_z2', 0.06509651, -111.0, 870.0, 167.0, 1149.0), ('U3ZktzC6Gi_BbH9uy8TfNw_z2', 0.06391138, 1591.0, 388.0, 1662.0, 516.0), ('U3ZktzC6Gi_BbH9uy8TfNw_z2', 0.06391138, 1345.0, 388.0, 1416.0, 516.0), ('U3ZktzC6Gi_BbH9uy8TfNw_z2', 0.06391138, 1509.0, 388.0, 1580.0, 516.0), ('U3ZktzC6Gi_BbH9uy8TfNw_z2', 0.06391138, 1427.0, 388.0, 1498.0, 516.0), ('U3ZktzC6Gi_BbH9uy8TfNw_z2', 0.06391138, 1154.0, 388.0, 1225.0, 516.0), ('U3ZktzC6Gi_BbH9uy8TfNw_z2', 0.06391138, 1673.0, 388.0, 1744.0, 516.0), ('U3ZktzC6Gi_BbH9uy8TfNw_z2', 0.06391138, 1755.0, 388.0, 1826.0, 516.0), ('U3ZktzC6Gi_BbH9uy8TfNw_z2', 0.06391138, 1836.0, 388.0, 1907.0, 516.0), ('U3ZktzC6Gi_BbH9uy8TfNw_z2', 0.06391138, 1918.0, 388.0, 1989.0, 516.0), ('U3ZktzC6Gi_BbH9uy8TfNw_z2', 0.06391138, 908.0, 388.0, 979.0, 516.0), ('U3ZktzC6Gi_BbH9uy8TfNw_z2', 0.06391138, 498.0, 388.0, 569.0, 516.0), ('U3ZktzC6Gi_BbH9uy8TfNw_z2', 0.06391138, 580.0, 388.0, 651.0, 516.0), ('U3ZktzC6Gi_BbH9uy8TfNw_z2', 0.06391138, 662.0, 388.0, 733.0, 516.0), ('U3ZktzC6Gi_BbH9uy8TfNw_z2', 0.06391138, 744.0, 388.0, 815.0, 516.0), ('U3ZktzC6Gi_BbH9uy8TfNw_z2', 0.06391138, 826.0, 388.0, 897.0, 516.0), ('U3ZktzC6Gi_BbH9uy8TfNw_z2', 0.06391138, 990.0, 388.0, 1061.0, 516.0), ('U3ZktzC6Gi_BbH9uy8TfNw_z2', 0.06391138, 1072.0, 388.0, 1143.0, 516.0), ('U3ZktzC6Gi_BbH9uy8TfNw_z2', 0.06391138, 89.0, 415.0, 160.0, 544.0), ('U3ZktzC6Gi_BbH9uy8TfNw_z2', 0.06391138, 1236.0, 388.0, 1307.0, 516.0), ('U3ZktzC6Gi_BbH9uy8TfNw_z2', 0.06391138, 1290.0, 415.0, 1361.0, 544.0), ('U3ZktzC6Gi_BbH9uy8TfNw_z2', 0.06391138, 198.0, 415.0, 269.0, 544.0), ('U3ZktzC6Gi_BbH9uy8TfNw_z2', 0.06391138, 417.0, 415.0, 487.0, 544.0), ('U3ZktzC6Gi_BbH9uy8TfNw_z2', 0.06391138, 335.0, 415.0, 406.0, 544.0), ('U3ZktzC6Gi_BbH9uy8TfNw_z2', 0.06391138, 7.0, 415.0, 78.0, 544.0), ('U3ZktzC6Gi_BbH9uy8TfNw_z2', 0.06391138, 1973.0, 333.0, 2044.0, 462.0), ('U3ZktzC6Gi_BbH9uy8TfNw_z2', 0.06391138, 280.0, 361.0, 351.0, 489.0), ('U3ZktzC6Gi_BbH9uy8TfNw_z2', 0.06391138, 143.0, 361.0, 214.0, 489.0), ('U3ZktzC6Gi_BbH9uy8TfNw_z2', 0.06391138, 553.0, 497.0, 624.0, 626.0), ('U3ZktzC6Gi_BbH9uy8TfNw_z2', 0.06391138, 772.0, 497.0, 842.0, 626.0), ('U3ZktzC6Gi_BbH9uy8TfNw_z2', 0.06391138, 690.0, 497.0, 761.0, 626.0), ('U3ZktzC6Gi_BbH9uy8TfNw_z2', 0.06391138, 471.0, 497.0, 542.0, 626.0), ('U3ZktzC6Gi_BbH9uy8TfNw_z2', 0.06391138, 853.0, 497.0, 924.0, 626.0), ('U3ZktzC6Gi_BbH9uy8TfNw_z2', 0.06391138, 935.0, 497.0, 1006.0, 626.0), ('U3ZktzC6Gi_BbH9uy8TfNw_z2', 0.06391138, 1017.0, 497.0, 1088.0, 626.0), ('U3ZktzC6Gi_BbH9uy8TfNw_z2', 0.06391138, 1099.0, 497.0, 1170.0, 626.0), ('U3ZktzC6Gi_BbH9uy8TfNw_z2', 0.06391138, 1181.0, 497.0, 1252.0, 626.0), ('U3ZktzC6Gi_BbH9uy8TfNw_z2', 0.06391138, 1973.0, 470.0, 2044.0, 598.0), ('U3ZktzC6Gi_BbH9uy8TfNw_z2', 0.06391138, 143.0, 497.0, 214.0, 626.0), ('U3ZktzC6Gi_BbH9uy8TfNw_z2', 0.06391138, 253.0, 497.0, 324.0, 626.0), ('U3ZktzC6Gi_BbH9uy8TfNw_z2', 0.06391138, 335.0, 525.0, 406.0, 653.0), ('U3ZktzC6Gi_BbH9uy8TfNw_z2', 0.06391138, 417.0, 525.0, 487.0, 653.0), ('U3ZktzC6Gi_BbH9uy8TfNw_z2', 0.06391138, 198.0, 525.0, 269.0, 653.0), ('U3ZktzC6Gi_BbH9uy8TfNw_z2', 0.06391138, 608.0, 525.0, 679.0, 653.0), ('U3ZktzC6Gi_BbH9uy8TfNw_z2', 0.06391138, 1673.0, 497.0, 1744.0, 626.0), ('U3ZktzC6Gi_BbH9uy8TfNw_z2', 0.06391138, 1345.0, 497.0, 1416.0, 626.0), ('U3ZktzC6Gi_BbH9uy8TfNw_z2', 0.06391138, 1427.0, 497.0, 1498.0, 626.0), ('U3ZktzC6Gi_BbH9uy8TfNw_z2', 0.06391138, 1509.0, 497.0, 1580.0, 626.0), ('U3ZktzC6Gi_BbH9uy8TfNw_z2', 0.06391138, 1591.0, 497.0, 1662.0, 626.0), ('U3ZktzC6Gi_BbH9uy8TfNw_z2', 0.06391138, 1755.0, 497.0, 1826.0, 626.0), ('U3ZktzC6Gi_BbH9uy8TfNw_z2', 0.06391138, 1836.0, 497.0, 1907.0, 626.0), ('U3ZktzC6Gi_BbH9uy8TfNw_z2', 0.06391138, 1918.0, 497.0, 1989.0, 626.0), ('U3ZktzC6Gi_BbH9uy8TfNw_z2', 0.06391138, 7.0, 525.0, 78.0, 653.0), ('U3ZktzC6Gi_BbH9uy8TfNw_z2', 0.06391138, 89.0, 525.0, 160.0, 653.0), ('U3ZktzC6Gi_BbH9uy8TfNw_z2', 0.06391138, 935.0, 197.0, 1006.0, 325.0), ('U3ZktzC6Gi_BbH9uy8TfNw_z2', 0.06391138, 1154.0, 197.0, 1225.0, 325.0), ('U3ZktzC6Gi_BbH9uy8TfNw_z2', 0.06391138, 1072.0, 197.0, 1143.0, 325.0), ('U3ZktzC6Gi_BbH9uy8TfNw_z2', 0.06391138, 853.0, 197.0, 924.0, 325.0), ('U3ZktzC6Gi_BbH9uy8TfNw_z2', 0.06391138, 772.0, 197.0, 842.0, 325.0), ('U3ZktzC6Gi_BbH9uy8TfNw_z2', 0.06391138, 1400.0, 197.0, 1471.0, 325.0), ('U3ZktzC6Gi_BbH9uy8TfNw_z2', 0.06391138, 1618.0, 197.0, 1689.0, 325.0), ('U3ZktzC6Gi_BbH9uy8TfNw_z2', 0.06391138, 1536.0, 197.0, 1607.0, 325.0), ('U3ZktzC6Gi_BbH9uy8TfNw_z2', 0.06391138, 1318.0, 197.0, 1389.0, 325.0), ('U3ZktzC6Gi_BbH9uy8TfNw_z2', 0.06391138, 1236.0, 197.0, 1307.0, 325.0), ('U3ZktzC6Gi_BbH9uy8TfNw_z2', 0.06391138, 34.0, 197.0, 105.0, 325.0), ('U3ZktzC6Gi_BbH9uy8TfNw_z2', 0.06391138, 253.0, 197.0, 324.0, 325.0), ('U3ZktzC6Gi_BbH9uy8TfNw_z2', 0.06391138, 171.0, 197.0, 242.0, 325.0), ('U3ZktzC6Gi_BbH9uy8TfNw_z2', 0.06391138, 1973.0, 170.0, 2044.0, 298.0), ('U3ZktzC6Gi_BbH9uy8TfNw_z2', 0.06391138, 1891.0, 170.0, 1962.0, 298.0), ('U3ZktzC6Gi_BbH9uy8TfNw_z2', 0.06391138, 335.0, 197.0, 406.0, 325.0), ('U3ZktzC6Gi_BbH9uy8TfNw_z2', 0.06391138, 417.0, 197.0, 487.0, 325.0), ('U3ZktzC6Gi_BbH9uy8TfNw_z2', 0.06391138, 498.0, 197.0, 569.0, 325.0), ('U3ZktzC6Gi_BbH9uy8TfNw_z2', 0.06391138, 580.0, 197.0, 651.0, 325.0), ('U3ZktzC6Gi_BbH9uy8TfNw_z2', 0.06391138, 662.0, 197.0, 733.0, 325.0), ('U3ZktzC6Gi_BbH9uy8TfNw_z2', 0.06391138, 990.0, 224.0, 1061.0, 353.0), ('U3ZktzC6Gi_BbH9uy8TfNw_z2', 0.06391138, 717.0, 224.0, 788.0, 353.0), ('U3ZktzC6Gi_BbH9uy8TfNw_z2', 0.06391138, 89.0, 224.0, 160.0, 353.0), ('U3ZktzC6Gi_BbH9uy8TfNw_z2', 0.06391138, 1836.0, 197.0, 1907.0, 325.0), ('U3ZktzC6Gi_BbH9uy8TfNw_z2', 0.06391138, 1755.0, 197.0, 1826.0, 325.0), ('U3ZktzC6Gi_BbH9uy8TfNw_z2', 0.06391138, 1482.0, 142.0, 1552.0, 271.0), ('U3ZktzC6Gi_BbH9uy8TfNw_z2', 0.06391138, 1673.0, 142.0, 1744.0, 271.0), ('U3ZktzC6Gi_BbH9uy8TfNw_z2', 0.06391138, 198.0, 306.0, 269.0, 434.0), ('U3ZktzC6Gi_BbH9uy8TfNw_z2', 0.06391138, 417.0, 306.0, 487.0, 434.0), ('U3ZktzC6Gi_BbH9uy8TfNw_z2', 0.06391138, 335.0, 306.0, 406.0, 434.0), ('U3ZktzC6Gi_BbH9uy8TfNw_z2', 0.06391138, 34.0, 306.0, 105.0, 434.0), ('U3ZktzC6Gi_BbH9uy8TfNw_z2', 0.06391138, 1482.0, 279.0, 1552.0, 407.0), ('U3ZktzC6Gi_BbH9uy8TfNw_z2', 0.06391138, 1673.0, 279.0, 1744.0, 407.0), ('U3ZktzC6Gi_BbH9uy8TfNw_z2', 0.06391138, 1891.0, 279.0, 1962.0, 407.0), ('U3ZktzC6Gi_BbH9uy8TfNw_z2', 0.06391138, 1290.0, 306.0, 1361.0, 434.0), ('U3ZktzC6Gi_BbH9uy8TfNw_z2', 0.06391138, 1591.0, 852.0, 1662.0, 981.0), ('U3ZktzC6Gi_BbH9uy8TfNw_z2', 0.06391138, 1482.0, 852.0, 1552.0, 981.0), ('U3ZktzC6Gi_BbH9uy8TfNw_z2', 0.06391138, 1891.0, 716.0, 1962.0, 844.0), ('U3ZktzC6Gi_BbH9uy8TfNw_z2', 0.06391138, 1809.0, 716.0, 1880.0, 844.0), ('U3ZktzC6Gi_BbH9uy8TfNw_z2', 0.06391138, 1727.0, 716.0, 1798.0, 844.0), ('U3ZktzC6Gi_BbH9uy8TfNw_z2', 0.06391138, 1673.0, 852.0, 1744.0, 981.0), ('U3ZktzC6Gi_BbH9uy8TfNw_z2', 0.06391138, 1345.0, 852.0, 1416.0, 981.0), ('U3ZktzC6Gi_BbH9uy8TfNw_z2', 0.06391138, 1236.0, 852.0, 1307.0, 981.0), ('U3ZktzC6Gi_BbH9uy8TfNw_z2', 0.06391138, 116.0, 743.0, 187.0, 871.0), ('U3ZktzC6Gi_BbH9uy8TfNw_z2', 0.06391138, 34.0, 743.0, 105.0, 871.0), ('U3ZktzC6Gi_BbH9uy8TfNw_z2', 0.06391138, 1973.0, 716.0, 2044.0, 844.0), ('U3ZktzC6Gi_BbH9uy8TfNw_z2', 0.06391138, 1454.0, 716.0, 1525.0, 844.0), ('U3ZktzC6Gi_BbH9uy8TfNw_z2', 0.06391138, 1946.0, 852.0, 2017.0, 981.0), ('U3ZktzC6Gi_BbH9uy8TfNw_z2', 0.06391138, 1372.0, 716.0, 1443.0, 844.0), ('U3ZktzC6Gi_BbH9uy8TfNw_z2', 0.06391138, 1290.0, 716.0, 1361.0, 844.0), ('U3ZktzC6Gi_BbH9uy8TfNw_z2', 0.06391138, 1208.0, 716.0, 1279.0, 844.0), ('U3ZktzC6Gi_BbH9uy8TfNw_z2', 0.06391138, 1864.0, 852.0, 1935.0, 981.0), ('U3ZktzC6Gi_BbH9uy8TfNw_z2', 0.06391138, 1536.0, 716.0, 1607.0, 844.0), ('U3ZktzC6Gi_BbH9uy8TfNw_z2', 0.06391138, 1782.0, 852.0, 1853.0, 981.0), ('U3ZktzC6Gi_BbH9uy8TfNw_z2', 0.06391138, 1618.0, 716.0, 1689.0, 844.0), ('U3ZktzC6Gi_BbH9uy8TfNw_z2', 0.06391138, 662.0, 852.0, 733.0, 981.0), ('U3ZktzC6Gi_BbH9uy8TfNw_z2', 0.06391138, 553.0, 852.0, 624.0, 981.0), ('U3ZktzC6Gi_BbH9uy8TfNw_z2', 0.06391138, 799.0, 743.0, 870.0, 871.0), ('U3ZktzC6Gi_BbH9uy8TfNw_z2', 0.06391138, 717.0, 743.0, 788.0, 871.0), ('U3ZktzC6Gi_BbH9uy8TfNw_z2', 0.06391138, 635.0, 743.0, 706.0, 871.0), ('U3ZktzC6Gi_BbH9uy8TfNw_z2', 0.06391138, 744.0, 852.0, 815.0, 981.0), ('U3ZktzC6Gi_BbH9uy8TfNw_z2', 0.06391138, 881.0, 743.0, 952.0, 871.0), ('U3ZktzC6Gi_BbH9uy8TfNw_z2', 0.06391138, 471.0, 852.0, 542.0, 981.0), ('U3ZktzC6Gi_BbH9uy8TfNw_z2', 0.06391138, 963.0, 743.0, 1034.0, 871.0), ('U3ZktzC6Gi_BbH9uy8TfNw_z2', 0.06391138, 389.0, 852.0, 460.0, 981.0), ('U3ZktzC6Gi_BbH9uy8TfNw_z2', 0.06391138, 253.0, 743.0, 324.0, 871.0), ('U3ZktzC6Gi_BbH9uy8TfNw_z2', 0.06391138, 362.0, 743.0, 433.0, 871.0), ('U3ZktzC6Gi_BbH9uy8TfNw_z2', 0.06391138, 1017.0, 852.0, 1088.0, 981.0), ('U3ZktzC6Gi_BbH9uy8TfNw_z2', 0.06391138, 1099.0, 852.0, 1170.0, 981.0), ('U3ZktzC6Gi_BbH9uy8TfNw_z2', 0.06391138, 935.0, 852.0, 1006.0, 981.0), ('U3ZktzC6Gi_BbH9uy8TfNw_z2', 0.06391138, 444.0, 743.0, 515.0, 871.0), ('U3ZktzC6Gi_BbH9uy8TfNw_z2', 0.06391138, 853.0, 852.0, 924.0, 981.0), ('U3ZktzC6Gi_BbH9uy8TfNw_z2', 0.06391138, 526.0, 743.0, 597.0, 871.0), ('U3ZktzC6Gi_BbH9uy8TfNw_z2', 0.06391138, 280.0, 907.0, 351.0, 1035.0), ('U3ZktzC6Gi_BbH9uy8TfNw_z2', 0.06391138, 171.0, 907.0, 242.0, 1035.0), ('U3ZktzC6Gi_BbH9uy8TfNw_z2', 0.06391138, 1072.0, 688.0, 1143.0, 817.0), ('U3ZktzC6Gi_BbH9uy8TfNw_z2', 0.06391138, 1154.0, 688.0, 1225.0, 817.0), ('U3ZktzC6Gi_BbH9uy8TfNw_z2', 0.06391138, 580.0, 688.0, 651.0, 817.0), ('U3ZktzC6Gi_BbH9uy8TfNw_z2', 0.06391138, 608.0, 907.0, 679.0, 1035.0), ('U3ZktzC6Gi_BbH9uy8TfNw_z2', 0.06391138, 799.0, 907.0, 870.0, 1035.0), ('U3ZktzC6Gi_BbH9uy8TfNw_z2', 0.06391138, 307.0, 716.0, 378.0, 844.0), ('U3ZktzC6Gi_BbH9uy8TfNw_z2', 0.06391138, 1017.0, 716.0, 1088.0, 844.0), ('U3ZktzC6Gi_BbH9uy8TfNw_z2', 0.06391138, 1673.0, 688.0, 1744.0, 817.0), ('U3ZktzC6Gi_BbH9uy8TfNw_z2', 0.06391138, 171.0, 716.0, 242.0, 844.0), ('U3ZktzC6Gi_BbH9uy8TfNw_z2', 0.06391138, 1154.0, 798.0, 1225.0, 926.0), ('U3ZktzC6Gi_BbH9uy8TfNw_z2', 0.06391138, 1727.0, 825.0, 1798.0, 953.0), ('U3ZktzC6Gi_BbH9uy8TfNw_z2', 0.06391138, 1536.0, 825.0, 1607.0, 953.0), ('U3ZktzC6Gi_BbH9uy8TfNw_z2', 0.06391138, 116.0, 852.0, 187.0, 981.0), ('U3ZktzC6Gi_BbH9uy8TfNw_z2', 0.06391138, 225.0, 852.0, 296.0, 981.0), ('U3ZktzC6Gi_BbH9uy8TfNw_z2', 0.06391138, 1427.0, 825.0, 1498.0, 953.0), ('U3ZktzC6Gi_BbH9uy8TfNw_z2', 0.06391138, 34.0, 852.0, 105.0, 981.0), ('U3ZktzC6Gi_BbH9uy8TfNw_z2', 0.06391138, 1290.0, 825.0, 1361.0, 953.0), ('U3ZktzC6Gi_BbH9uy8TfNw_z2', 0.06391138, 1973.0, 579.0, 2044.0, 708.0), ('U3ZktzC6Gi_BbH9uy8TfNw_z2', 0.06391138, 253.0, 606.0, 324.0, 735.0), ('U3ZktzC6Gi_BbH9uy8TfNw_z2', 0.06391138, 471.0, 606.0, 542.0, 735.0), ('U3ZktzC6Gi_BbH9uy8TfNw_z2', 0.06391138, 143.0, 606.0, 214.0, 735.0), ('U3ZktzC6Gi_BbH9uy8TfNw_z2', 0.06391138, 1236.0, 579.0, 1307.0, 708.0), ('U3ZktzC6Gi_BbH9uy8TfNw_z2', 0.06391138, 1618.0, 606.0, 1689.0, 735.0), ('U3ZktzC6Gi_BbH9uy8TfNw_z2', 0.06391138, 1836.0, 606.0, 1907.0, 735.0), ('U3ZktzC6Gi_BbH9uy8TfNw_z2', 0.06391138, 1755.0, 606.0, 1826.0, 735.0), ('U3ZktzC6Gi_BbH9uy8TfNw_z2', 0.06391138, 1536.0, 606.0, 1607.0, 735.0), ('U3ZktzC6Gi_BbH9uy8TfNw_z2', 0.06391138, 1454.0, 606.0, 1525.0, 735.0), ('U3ZktzC6Gi_BbH9uy8TfNw_z2', 0.06391138, 1918.0, 606.0, 1989.0, 735.0), ('U3ZktzC6Gi_BbH9uy8TfNw_z2', 0.06391138, 7.0, 634.0, 78.0, 762.0), ('U3ZktzC6Gi_BbH9uy8TfNw_z2', 0.06391138, 89.0, 634.0, 160.0, 762.0), ('U3ZktzC6Gi_BbH9uy8TfNw_z2', 0.06391138, 717.0, 606.0, 788.0, 735.0), ('U3ZktzC6Gi_BbH9uy8TfNw_z2', 0.06391138, 935.0, 606.0, 1006.0, 735.0), ('U3ZktzC6Gi_BbH9uy8TfNw_z2', 0.06391138, 853.0, 606.0, 924.0, 735.0), ('U3ZktzC6Gi_BbH9uy8TfNw_z2', 0.06391138, 1017.0, 606.0, 1088.0, 735.0), ('U3ZktzC6Gi_BbH9uy8TfNw_z2', 0.06391138, 1290.0, 606.0, 1361.0, 735.0), ('U3ZktzC6Gi_BbH9uy8TfNw_z2', 0.06391138, 1372.0, 606.0, 1443.0, 735.0), ('U3ZktzC6Gi_BbH9uy8TfNw_z2', 0.06391138, 335.0, 934.0, 406.0, 1063.0), ('U3ZktzC6Gi_BbH9uy8TfNw_z2', 0.06391138, 1181.0, 907.0, 1252.0, 1035.0), ('U3ZktzC6Gi_BbH9uy8TfNw_z2', 0.06391138, 1727.0, 934.0, 1798.0, 1063.0), ('U3ZktzC6Gi_BbH9uy8TfNw_z2', 0.06391138, 526.0, 634.0, 597.0, 762.0), ('U3ZktzC6Gi_BbH9uy8TfNw_z2', 0.06391138, 662.0, 634.0, 733.0, 762.0), ('U3ZktzC6Gi_BbH9uy8TfNw_z2', 0.06391138, 772.0, 634.0, 842.0, 762.0), ('U3ZktzC6Gi_BbH9uy8TfNw_z2', 0.06391138, 417.0, 634.0, 487.0, 762.0), ('U3ZktzC6Gi_BbH9uy8TfNw_z2', 0.06391138, 1400.0, 934.0, 1471.0, 1063.0), ('U3ZktzC6Gi_BbH9uy8TfNw_z2', 0.06391138, 1536.0, 934.0, 1607.0, 1063.0), ('U3ZktzC6Gi_BbH9uy8TfNw_z2', 0.06391138, 1290.0, 934.0, 1361.0, 1063.0), ('U3ZktzC6Gi_BbH9uy8TfNw_z2', 0.06391138, 1563.0, 33.0, 1634.0, 161.0), ('U3ZktzC6Gi_BbH9uy8TfNw_z2', 0.06391138, 1618.0, 88.0, 1689.0, 216.0), ('U3ZktzC6Gi_BbH9uy8TfNw_z2', 0.06391138, 1400.0, -22.0, 1471.0, 107.0), ('U3ZktzC6Gi_BbH9uy8TfNw_z2', 0.06391138, 662.0, -22.0, 733.0, 107.0), ('U3ZktzC6Gi_BbH9uy8TfNw_z2', 0.06391138, 116.0, 88.0, 187.0, 216.0), ('U3ZktzC6Gi_BbH9uy8TfNw_z2', 0.06391138, 881.0, 33.0, 952.0, 161.0), ('U3ZktzC6Gi_BbH9uy8TfNw_z2', 0.06391138, 580.0, 60.0, 651.0, 189.0), ('U3ZktzC6Gi_BbH9uy8TfNw_z2', 0.06391138, 1482.0, -22.0, 1552.0, 107.0), ('U3ZktzC6Gi_BbH9uy8TfNw_z2', 0.06391138, 7.0, 88.0, 78.0, 216.0), ('U3ZktzC6Gi_BbH9uy8TfNw_z2', 0.06391138, 1727.0, 88.0, 1798.0, 216.0), ('U3ZktzC6Gi_BbH9uy8TfNw_z2', 0.06391138, 1236.0, -22.0, 1307.0, 107.0), ('U3ZktzC6Gi_BbH9uy8TfNw_z2', 0.06391138, 1318.0, -22.0, 1389.0, 107.0), ('U3ZktzC6Gi_BbH9uy8TfNw_z2', 0.06391138, 1017.0, 60.0, 1088.0, 189.0), ('U3ZktzC6Gi_BbH9uy8TfNw_z2', 0.06391138, 1427.0, 88.0, 1498.0, 216.0), ('U3ZktzC6Gi_BbH9uy8TfNw_z2', 0.06391138, 1727.0, -22.0, 1798.0, 107.0), ('U3ZktzC6Gi_BbH9uy8TfNw_z2', 0.06391138, 498.0, 60.0, 569.0, 189.0), ('U3ZktzC6Gi_BbH9uy8TfNw_z2', 0.06391138, 799.0, 33.0, 870.0, 161.0), ('U3ZktzC6Gi_BbH9uy8TfNw_z2', 0.06391138, 280.0, 88.0, 351.0, 216.0), ('U3ZktzC6Gi_BbH9uy8TfNw_z2', 0.06391138, 1809.0, -22.0, 1880.0, 107.0), ('U3ZktzC6Gi_BbH9uy8TfNw_z2', 0.06391138, 198.0, 88.0, 269.0, 216.0), ('U3ZktzC6Gi_BbH9uy8TfNw_z2', 0.06391138, 1673.0, 33.0, 1744.0, 161.0), ('U3ZktzC6Gi_BbH9uy8TfNw_z2', 0.06391138, 1618.0, -22.0, 1689.0, 107.0), ('U3ZktzC6Gi_BbH9uy8TfNw_z2', 0.06391138, 935.0, -22.0, 1006.0, 107.0)]\n",
      "preds_data_type:  [('image_id', '<U31'), ('confidence', '<f4'), ('xmin', '<f4'), ('ymin', '<f4'), ('xmax', '<f4'), ('ymax', '<f4')]\n",
      "###################################################################################\n"
     ]
    },
    {
     "name": "stdout",
     "output_type": "stream",
     "text": [
      "Matching predictions to ground truth, class 1/1.: 100%|██████████| 200/200 [00:00<00:00, 4204.82it/s]\n",
      "Computing precisions and recalls, class 1/1\n",
      "Computing average precision, class 1/1\n"
     ]
    }
   ],
   "source": [
    "results = evaluator(img_height=img_height,\n",
    "                    img_width=img_width,\n",
    "                    batch_size=1,\n",
    "                    data_generator_mode='resize',\n",
    "                    round_confidences=False,\n",
    "                    matching_iou_threshold=0.5,\n",
    "                    border_pixels='include',\n",
    "                    sorting_algorithm='quicksort',\n",
    "                    average_precision_mode='sample',\n",
    "                    num_recall_points=11,\n",
    "                    ignore_neutral_boxes=True,\n",
    "                    return_precisions=True,\n",
    "                    return_recalls=True,\n",
    "                    return_average_precisions=True,\n",
    "                    verbose=True)\n",
    "\n"
   ]
  },
  {
   "cell_type": "code",
   "execution_count": null,
   "metadata": {},
   "outputs": [],
   "source": []
  },
  {
   "cell_type": "code",
   "execution_count": 8,
   "metadata": {},
   "outputs": [],
   "source": [
    "mean_average_precision, average_precisions, precisions, recalls = results"
   ]
  },
  {
   "cell_type": "markdown",
   "metadata": {
    "collapsed": true
   },
   "source": [
    "## 4. Visualize the results\n",
    "\n",
    "Let's take a look:"
   ]
  },
  {
   "cell_type": "code",
   "execution_count": 9,
   "metadata": {},
   "outputs": [
    {
     "name": "stdout",
     "output_type": "stream",
     "text": [
      "tree          AP    0.061\n",
      "\n",
      "              mAP   0.061\n"
     ]
    }
   ],
   "source": [
    "for i in range(1, len(average_precisions)):\n",
    "    print(\"{:<14}{:<6}{}\".format(classes[i], 'AP', round(average_precisions[i], 3)))\n",
    "print()\n",
    "print(\"{:<14}{:<6}{}\".format('','mAP', round(mean_average_precision, 3)))"
   ]
  },
  {
   "cell_type": "code",
   "execution_count": null,
   "metadata": {
    "scrolled": false
   },
   "outputs": [],
   "source": [
    "m = max((n_classes + 1) // 2, 2)\n",
    "n = 2\n",
    "\n",
    "fig, cells = plt.subplots(m, n, figsize=(n*8,m*8))\n",
    "for i in range(m):\n",
    "    for j in range(n):\n",
    "        if n*i+j+1 > n_classes: break\n",
    "        cells[i, j].plot(recalls[n*i+j+1], precisions[n*i+j+1], color='blue', linewidth=1.0)\n",
    "        cells[i, j].set_xlabel('recall', fontsize=14)\n",
    "        cells[i, j].set_ylabel('precision', fontsize=14)\n",
    "        cells[i, j].grid(True)\n",
    "        cells[i, j].set_xticks(np.linspace(0,1,11))\n",
    "        cells[i, j].set_yticks(np.linspace(0,1,11))\n",
    "        cells[i, j].set_title(\"{}, AP: {:.3f}\".format(classes[n*i+j+1], average_precisions[n*i+j+1]), fontsize=16)\n"
   ]
  },
  {
   "cell_type": "markdown",
   "metadata": {},
   "source": [
    "## 5. Advanced use\n",
    "\n",
    "`Evaluator` objects maintain copies of all relevant intermediate results like predictions, precisions and recalls, etc., so in case you want to experiment with different parameters, e.g. different IoU overlaps, there is no need to compute the predictions all over again every time you make a change to a parameter. Instead, you can only update the computation from the point that is affected onwards.\n",
    "\n",
    "The evaluator's `__call__()` method is just a convenience wrapper that executes its other methods in the correct order. You could just call any of these other methods individually as shown below (but you have to make sure to call them in the correct order).\n",
    "\n",
    "Note that the example below uses the same evaluator object as above. Say you wanted to compute the Pascal VOC post-2010 'integrate' version of the average precisions instead of the pre-2010 version computed above. The evaluator object still has an internal copy of all the predictions, and since computing the predictions makes up the vast majority of the overall computation time and since the predictions aren't affected by changing the average precision computation mode, we skip computing the predictions again and instead only compute the steps that come after the prediction phase of the evaluation. We could even skip the matching part, since it isn't affected by changing the average precision mode either. In fact, we would only have to call `compute_average_precisions()` `compute_mean_average_precision()` again, but for the sake of illustration we'll re-do the other computations, too."
   ]
  },
  {
   "cell_type": "code",
   "execution_count": null,
   "metadata": {},
   "outputs": [],
   "source": [
    "evaluator.get_num_gt_per_class(ignore_neutral_boxes=True,\n",
    "                               verbose=False,\n",
    "                               ret=False)\n",
    "\n",
    "evaluator.match_predictions(ignore_neutral_boxes=True,\n",
    "                            matching_iou_threshold=0.5,\n",
    "                            border_pixels='include',\n",
    "                            sorting_algorithm='quicksort',\n",
    "                            verbose=True,\n",
    "                            ret=False)\n",
    "\n",
    "precisions, recalls = evaluator.compute_precision_recall(verbose=True, ret=True)\n",
    "\n",
    "average_precisions = evaluator.compute_average_precisions(mode='integrate',\n",
    "                                                          num_recall_points=11,\n",
    "                                                          verbose=True,\n",
    "                                                          ret=True)\n",
    "\n",
    "mean_average_precision = evaluator.compute_mean_average_precision(ret=True)"
   ]
  },
  {
   "cell_type": "code",
   "execution_count": null,
   "metadata": {},
   "outputs": [],
   "source": [
    "for i in range(1, len(average_precisions)):\n",
    "    print(\"{:<14}{:<6}{}\".format(classes[i], 'AP', round(average_precisions[i], 3)))\n",
    "print()\n",
    "print(\"{:<14}{:<6}{}\".format('','mAP', round(mean_average_precision, 3)))"
   ]
  },
  {
   "cell_type": "code",
   "execution_count": null,
   "metadata": {},
   "outputs": [],
   "source": []
  }
 ],
 "metadata": {
  "kernelspec": {
   "display_name": "Python 3",
   "language": "python",
   "name": "python3"
  },
  "language_info": {
   "codemirror_mode": {
    "name": "ipython",
    "version": 3
   },
   "file_extension": ".py",
   "mimetype": "text/x-python",
   "name": "python",
   "nbconvert_exporter": "python",
   "pygments_lexer": "ipython3",
   "version": "3.5.2"
  }
 },
 "nbformat": 4,
 "nbformat_minor": 2
}
