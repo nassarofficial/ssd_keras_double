{
 "cells": [
  {
   "cell_type": "markdown",
   "metadata": {},
   "source": [
    "# SSD300 Inference Tutorial\n",
    "\n",
    "This is a brief tutorial that shows how to use a trained SSD300 for inference on the Pascal VOC datasets. If you'd like more detailed explanations, please refer to [`ssd300_training.ipynb`](https://github.com/pierluigiferrari/ssd_keras/blob/master/ssd300_training.ipynb)"
   ]
  },
  {
   "cell_type": "code",
   "execution_count": 2,
   "metadata": {},
   "outputs": [],
   "source": [
    "from keras import backend as K\n",
    "from keras.models import load_model\n",
    "from keras.preprocessing import image\n",
    "from keras.optimizers import Adam\n",
    "from imageio import imread\n",
    "import numpy as np\n",
    "from matplotlib import pyplot as plt\n",
    "\n",
    "from models.keras_ssd300_mod_all import ssd_300\n",
    "from keras_loss_function.keras_ssd_loss_mod import SSDLoss\n",
    "from keras_loss_function.keras_ssd_loss_proj import SSDLoss_proj\n",
    "\n",
    "from keras_layers.keras_layer_AnchorBoxes import AnchorBoxes\n",
    "from keras_layers.keras_layer_DecodeDetections import DecodeDetections\n",
    "from keras_layers.keras_layer_DecodeDetectionsFast import DecodeDetectionsFast\n",
    "from keras_layers.keras_layer_L2Normalization import L2Normalization\n",
    "\n",
    "from ssd_encoder_decoder.ssd_output_decoder import decode_detections, decode_detections_fast\n",
    "\n",
    "from data_generator.object_detection_2d_data_generator import DataGenerator\n",
    "from data_generator.object_detection_2d_geometric_ops import Resize_Modified\n",
    "from data_generator.object_detection_2d_photometric_ops import ConvertTo3Channels_Modified\n",
    "from data_generator.data_augmentation_chain_original_ssd import SSDDataAugmentation_modified\n",
    "from data_generator.object_detection_2d_misc_utils import apply_inverse_transforms\n",
    "\n",
    "%matplotlib inline"
   ]
  },
  {
   "cell_type": "code",
   "execution_count": 3,
   "metadata": {},
   "outputs": [],
   "source": [
    "# Set the image size.\n",
    "img_height = 300\n",
    "img_width = 600"
   ]
  },
  {
   "cell_type": "markdown",
   "metadata": {},
   "source": [
    "## 1. Load a trained SSD\n",
    "\n",
    "Either load a trained model or build a model and load trained weights into it. Since the HDF5 files I'm providing contain only the weights for the various SSD versions, not the complete models, you'll have to go with the latter option when using this implementation for the first time. You can then of course save the model and next time load the full model directly, without having to build it.\n",
    "\n",
    "You can find the download links to all the trained model weights in the README."
   ]
  },
  {
   "cell_type": "markdown",
   "metadata": {},
   "source": [
    "### 1.1. Build the model and load trained weights into it"
   ]
  },
  {
   "cell_type": "code",
   "execution_count": 6,
   "metadata": {},
   "outputs": [
    {
     "name": "stderr",
     "output_type": "stream",
     "text": [
      "/home/nassar/gits/ssd_keras_double/models/keras_ssd300_mod_all.py:579: UserWarning: Update your `Model` call to the Keras 2 API: `Model(outputs=[<tf.Tenso..., inputs=[<tf.Tenso...)`\n",
      "  model = Model(input=[x,geo_1,geo_2],output=[mbox_conf, mbox_loc, mbox_priorbox])\n"
     ]
    }
   ],
   "source": [
    "# 1: Build the Keras model\n",
    "\n",
    "K.clear_session() # Clear precheckpoints/checkpoints/EXP3/double_ssd300_8.h5vious models from memory.\n",
    "\n",
    "model = ssd_300(image_size=(img_height, img_width, 3),\n",
    "                n_classes=1,\n",
    "                mode='inference',\n",
    "                l2_regularization=0.0005,\n",
    "                scales=[0.1, 0.2, 0.37, 0.54, 0.71, 0.88, 1.05], # The scales for MS COCO are [0.07, 0.15, 0.33, 0.51, 0.69, 0.87, 1.05]\n",
    "                aspect_ratios_per_layer=[[1.0, 2.0, 0.5],\n",
    "                                         [1.0, 2.0, 0.5, 3.0, 1.0/3.0],\n",
    "                                         [1.0, 2.0, 0.5, 3.0, 1.0/3.0],\n",
    "                                         [1.0, 2.0, 0.5, 3.0, 1.0/3.0],\n",
    "                                         [1.0, 2.0, 0.5],\n",
    "                                         [1.0, 2.0, 0.5]],\n",
    "                two_boxes_for_ar1=True,\n",
    "                steps=[8, 16, 32, 64, 100, 300],\n",
    "                offsets=[0.5, 0.5, 0.5, 0.5, 0.5, 0.5],\n",
    "                clip_boxes=False,\n",
    "                variances=[0.1, 0.1, 0.2, 0.2],\n",
    "                normalize_coords=True,\n",
    "                subtract_mean=[123, 117, 104],\n",
    "                swap_channels=[2, 1, 0],\n",
    "                confidence_thresh=0.5,\n",
    "                iou_threshold=0.45,\n",
    "                top_k=200,\n",
    "                nms_max_output_size=400)\n",
    "\n",
    "# 2: Load the trained weights into the model.\n",
    "\n",
    "# TODO: Set the path of the trained weights.\n",
    "weights_path = 'checkpoints/double_ssd300_pascal_07+12_epoch-20_loss-15.4517_val_loss-14.4820.h5'\n",
    "\n",
    "model.load_weights(weights_path, by_name=True)\n",
    "\n",
    "# 3: Compile the model so that Keras won't complain the next time you load it.\n",
    "\n",
    "adam = Adam(lr=0.001, beta_1=0.9, beta_2=0.999, epsilon=1e-08, decay=0.0)\n",
    "\n",
    "# ssd_loss1 = SSDLoss(neg_pos_ratio=3, alpha=1.0)\n",
    "# ssd_loss2 = SSDLoss(neg_pos_ratio=3, alpha=1.0)\n",
    "# ssd_loss3 = SSDLoss_proj(neg_pos_ratio=3, alpha=1.0)\n",
    "# ssd_loss4 = SSDLoss_proj(neg_pos_ratio=3, alpha=1.0)\n",
    "\n",
    "# losses = {\n",
    "#     \"predictions_1\": ssd_loss1.compute_loss,\n",
    "#     \"predictions_2\": ssd_loss2.compute_loss,\n",
    "#     \"predictions_1_proj\": ssd_loss3.compute_loss,\n",
    "#     \"predictions_2_proj\": ssd_loss4.compute_loss\n",
    "\n",
    "# }\n",
    "ssd_loss = SSDLoss(neg_pos_ratio=3, alpha=1.0)\n",
    "\n",
    "model.compile(optimizer=adam, loss=ssd_loss.compute_loss)"
   ]
  },
  {
   "cell_type": "code",
   "execution_count": null,
   "metadata": {},
   "outputs": [],
   "source": [
    "model.summary()"
   ]
  },
  {
   "cell_type": "markdown",
   "metadata": {},
   "source": [
    "## 2. Load some images\n",
    "\n",
    "Load some images for which you'd like the model to make predictions."
   ]
  },
  {
   "cell_type": "code",
   "execution_count": 7,
   "metadata": {},
   "outputs": [],
   "source": [
    "orig_images = [] # Store the images here.\n",
    "input_images = [] # Store resized versions of the images here.\n",
    "\n",
    "# We'll only load one image in this example.\n",
    "img_path = '../datasets/Images/7tdpKEm0YIlJVJ8AK7zkdw_z2.jpg'\n",
    "\n",
    "orig_images.append(imread(img_path))\n",
    "img = image.load_img(img_path, target_size=(img_height, img_width))\n",
    "img = image.img_to_array(img) \n",
    "input_images.append(img)\n",
    "input_images = np.array(input_images)"
   ]
  },
  {
   "cell_type": "code",
   "execution_count": 11,
   "metadata": {},
   "outputs": [],
   "source": [
    "orig_images1 = [] # Store the images here.\n",
    "input_images1 = [] # Store resized versions of the images here.\n",
    "\n",
    "# We'll only load one image in this example.\n",
    "img_path1 = '../datasets/Images/ZrJFziHS3ADOec3trJb8hA_z2.jpg'\n",
    "\n",
    "orig_images1.append(imread(img_path1))\n",
    "img1 = image.load_img(img_path1, target_size=(img_height, img_width))\n",
    "img1 = image.img_to_array(img1) \n",
    "input_images1.append(img1)\n",
    "input_images1 = np.array(input_images1)"
   ]
  },
  {
   "cell_type": "markdown",
   "metadata": {},
   "source": [
    "## 3. Make predictions"
   ]
  },
  {
   "cell_type": "code",
   "execution_count": 8,
   "metadata": {},
   "outputs": [],
   "source": [
    "geox = np.tile(np.array([34.156992,-118.165118,0.9073966781118519],dtype=np.float64), (17292,1))\n",
    "geoz = np.tile(np.array([34.156939,-118.165203,0.9061749476354559],dtype=np.float64), (17292,1))"
   ]
  },
  {
   "cell_type": "markdown",
   "metadata": {},
   "source": [
    "geox = np.array([34.1513108639,-118.135291797,20],dtype=np.float64)\n",
    "geoz = np.array([34.1513108639,-118.135291797,21],dtype=np.float64)"
   ]
  },
  {
   "cell_type": "code",
   "execution_count": 9,
   "metadata": {},
   "outputs": [],
   "source": [
    "geox = np.expand_dims(geox, axis=0)\n",
    "geoz = np.expand_dims(geoz, axis=0)"
   ]
  },
  {
   "cell_type": "code",
   "execution_count": 12,
   "metadata": {},
   "outputs": [],
   "source": [
    "y_pred = model.predict([input_images,input_images1,geox,geoz])"
   ]
  },
  {
   "cell_type": "markdown",
   "metadata": {},
   "source": [
    "`y_pred` contains a fixed number of predictions per batch item (200 if you use the original model configuration), many of which are low-confidence predictions or dummy entries. We therefore need to apply a confidence threshold to filter out the bad predictions. Set this confidence threshold value how you see fit."
   ]
  },
  {
   "cell_type": "code",
   "execution_count": 14,
   "metadata": {},
   "outputs": [
    {
     "data": {
      "text/plain": [
       "(1, 200, 24)"
      ]
     },
     "execution_count": 14,
     "metadata": {},
     "output_type": "execute_result"
    }
   ],
   "source": [
    "sia = model.predict([input_images,input_images1,geox,geoz])"
   ]
  },
  {
   "cell_type": "code",
   "execution_count": 13,
   "metadata": {},
   "outputs": [],
   "source": [
    "y_pred_1 = y_pred[:,:,:6]\n",
    "y_pred_1_on_2 = y_pred[:,:,6:12]\n",
    "y_pred_2 = y_pred[:,:,12:18]\n",
    "y_pred_2_on_1 = y_pred[:,:,18:]\n"
   ]
  },
  {
   "cell_type": "code",
   "execution_count": 14,
   "metadata": {},
   "outputs": [
    {
     "name": "stdout",
     "output_type": "stream",
     "text": [
      "Predicted boxes 1:\n",
      "\n",
      "   class   conf xmin   ymin   xmax   ymax\n",
      "[[  1.     0.93 193.93  70.34 282.49 166.88]\n",
      " [  1.     0.91   5.22  44.23 131.57 168.61]\n",
      " [  1.     0.88 306.27  89.75 357.05 159.22]\n",
      " [  1.     0.86 455.02  54.31 552.03 165.84]\n",
      " [  1.     0.76 370.48  93.3  413.79 166.49]\n",
      " [  1.     0.68 130.17  87.03 186.76 162.76]\n",
      " [  1.     0.6  250.61 117.73 285.26 162.72]]\n",
      "Predicted boxes 2n\n",
      "   class   conf xmin   ymin   xmax   ymax\n",
      "[[  1.     0.94 409.25  51.1  521.39 168.15]\n",
      " [  1.     0.91 243.33 107.17 295.4  160.22]\n",
      " [  1.     0.72 162.97  94.47 224.81 159.96]\n",
      " [  1.     0.68  18.14  26.39 188.01 174.34]]\n",
      "Predicted boxes 1 proj\n",
      "   class   conf xmin   ymin   xmax   ymax\n",
      "[[  1.     0.93 207.2   79.2  288.8  160.8 ]\n",
      " [  1.     0.91  12.95  44.95 147.05 179.05]\n",
      " [  1.     0.88 306.79  77.57 349.21 162.43]\n",
      " [  1.     0.86 440.5   56.5  551.5  167.5 ]\n",
      " [  1.     0.76 370.79  93.57 413.21 178.43]\n",
      " [  1.     0.71 314.    90.   374.   150.  ]\n",
      " [  1.     0.69 366.79 110.79 409.21 153.21]\n",
      " [  1.     0.68 122.    90.   182.   150.  ]\n",
      " [  1.     0.65 138.   106.   198.   166.  ]\n",
      " [  1.     0.6  246.79 118.79 289.21 161.21]\n",
      " [  1.     0.57 172.95  44.95 307.05 179.05]]\n",
      "Predicted boxes 2 proj\n",
      "   class   conf xmin   ymin   xmax   ymax\n",
      "[[  1.     0.94 408.5   56.5  519.5  167.5 ]\n",
      " [  1.     0.91 246.79 110.79 289.21 153.21]\n",
      " [  1.     0.72 170.   106.   230.   166.  ]\n",
      " [  1.     0.68  15.    15.   177.   177.  ]]\n"
     ]
    }
   ],
   "source": [
    "confidence_threshold = 0.5\n",
    "\n",
    "y_pred_thresh_1 = [y_pred_1[k][y_pred_1[k,:,1] > confidence_threshold] for k in range(y_pred_1.shape[0])]\n",
    "y_pred_thresh_2 = [y_pred_2[k][y_pred_2[k,:,1] > confidence_threshold] for k in range(y_pred_2.shape[0])]\n",
    "y_pred_thresh_1_p = [y_pred_1_on_2[k][y_pred_1_on_2[k,:,1] > confidence_threshold] for k in range(y_pred_1_on_2.shape[0])]\n",
    "y_pred_thresh_2_p = [y_pred_2_on_1[k][y_pred_2_on_1[k,:,1] > confidence_threshold] for k in range(y_pred_2_on_1.shape[0])]\n",
    "\n",
    "np.set_printoptions(precision=2, suppress=True, linewidth=90)\n",
    "print(\"Predicted boxes 1:\\n\")\n",
    "print('   class   conf xmin   ymin   xmax   ymax')\n",
    "print(y_pred_thresh_1[0])\n",
    "print(\"Predicted boxes 2n\")\n",
    "print('   class   conf xmin   ymin   xmax   ymax')\n",
    "print(y_pred_thresh_2[0])\n",
    "print(\"Predicted boxes 1 proj\")\n",
    "print('   class   conf xmin   ymin   xmax   ymax')\n",
    "print(y_pred_thresh_1_p[0])\n",
    "print(\"Predicted boxes 2 proj\")\n",
    "print('   class   conf xmin   ymin   xmax   ymax')\n",
    "print(y_pred_thresh_2_p[0])\n"
   ]
  },
  {
   "cell_type": "markdown",
   "metadata": {},
   "source": [
    "## 4. Visualize the predictions\n",
    "\n",
    "We just resized the input image above and made predictions on the distorted image. We'd like to visualize the predictions on the image in its original size though, so below we'll transform the coordinates of the predicted boxes accordingly."
   ]
  },
  {
   "cell_type": "code",
   "execution_count": null,
   "metadata": {},
   "outputs": [],
   "source": [
    "dataset = DataGenerator()\n",
    "\n",
    "# TODO: Set the paths to the datasets here.\n",
    "\n",
    "VOC_2007_images_dir      = '../datasets/Images/'\n",
    "VOC_2007_annotations_dir      = '../datasets/VOC/Pasadena/Annotations_Multi/'\n",
    "VOC_2007_test_image_set_filename     = '../datasets/VOC/Pasadena/ImageSets/Main/reid_neu/test_one.txt'\n",
    "\n",
    "# The XML parser needs to now what object class names to look for and in which order to map them to integers.\n",
    "classes = ['background',\n",
    "           'tree']\n",
    "\n",
    "dataset.parse_xml(images_dirs=[VOC_2007_images_dir],\n",
    "                  image_set_filenames=[VOC_2007_test_image_set_filename],\n",
    "                  annotations_dirs=[VOC_2007_annotations_dir],\n",
    "                  classes=classes,\n",
    "                  include_classes='all',\n",
    "                  exclude_truncated=False,\n",
    "                  exclude_difficult=False,\n",
    "                  ret=False)\n",
    "\n",
    "convert_to_3_channels = ConvertTo3Channels_Modified()  \n",
    "resize = Resize_Modified(height=img_height, width=img_width)\n",
    "\n",
    "generator = dataset.generate_inf_gt(batch_size=1,\n",
    "                             shuffle=True,\n",
    "                             transformations=[convert_to_3_channels,\n",
    "                                              resize],\n",
    "                             returns={'processed_images',\n",
    "                                      'filenames',\n",
    "                                      'inverse_transform',\n",
    "                                      'original_images',\n",
    "                                      'original_labels'},\n",
    "                             keep_images_without_gt=False)\n"
   ]
  },
  {
   "cell_type": "code",
   "execution_count": null,
   "metadata": {},
   "outputs": [],
   "source": [
    "batch_images,batch_images1, batch_filenames, batch_inverse_transforms,batch_inverse_transforms1, batch_original_images,batch_original_images1, batch_original_labels,batch_original_labels1 = next(generator)\n",
    "\n",
    "i = 0 # Which batch item to look at\n",
    "\n",
    "print(\"Image:\", batch_filenames[i][0])\n",
    "print()\n",
    "print(\"Ground truth boxes:\\n\")\n",
    "print(np.array(batch_original_labels[i]))\n"
   ]
  },
  {
   "cell_type": "code",
   "execution_count": null,
   "metadata": {},
   "outputs": [],
   "source": [
    "# Set the colors for the bounding boxes\n",
    "colors = plt.cm.hsv(np.linspace(0, 1, 21)).tolist()\n",
    "\n",
    "plt.figure(figsize=(20,12))\n",
    "plt.imshow(batch_original_images[i])\n",
    "\n",
    "current_axis = plt.gca()\n",
    "\n",
    "for box in batch_original_labels[i]:\n",
    "    xmin = box[1]\n",
    "    ymin = box[2]\n",
    "    xmax = box[3]\n",
    "    ymax = box[4]\n",
    "    label = '{}'.format(classes[int(box[0])])\n",
    "    current_axis.add_patch(plt.Rectangle((xmin, ymin), xmax-xmin, ymax-ymin, color='green', fill=False, linewidth=2))  \n",
    "    current_axis.text(xmin, ymin, label, size='x-large', color='white', bbox={'facecolor':'green', 'alpha':1.0})\n",
    "\n",
    "for box in y_pred_thresh_1[i]:\n",
    "    xmin = box[2] * orig_images[0].shape[1] / img_width\n",
    "    ymin = box[3] * orig_images[0].shape[0] / img_height\n",
    "    xmax = box[4] * orig_images[0].shape[1] / img_width\n",
    "    ymax = box[5] * orig_images[0].shape[0] / img_height\n",
    "    color = colors[int(box[0])]\n",
    "    label = '{}: {:.2f}'.format(classes[int(box[0])], box[1])\n",
    "    current_axis.add_patch(plt.Rectangle((xmin, ymin), xmax-xmin, ymax-ymin, color=color, fill=False, linewidth=2))  \n",
    "    current_axis.text(xmin, ymin, label, size='x-large', color='white', bbox={'facecolor':color, 'alpha':1.0})\n"
   ]
  },
  {
   "cell_type": "code",
   "execution_count": null,
   "metadata": {},
   "outputs": [],
   "source": [
    "plt.figure(figsize=(20,12))\n",
    "plt.imshow(batch_original_images1[i])\n",
    "\n",
    "current_axis = plt.gca()\n",
    "\n",
    "for box in batch_original_labels1[i]:\n",
    "    xmin = box[1]\n",
    "    ymin = box[2]\n",
    "    xmax = box[3]\n",
    "    ymax = box[4]\n",
    "    label = '{}'.format(classes[int(box[0])])\n",
    "    current_axis.add_patch(plt.Rectangle((xmin, ymin), xmax-xmin, ymax-ymin, color='green', fill=False, linewidth=2))  \n",
    "    current_axis.text(xmin, ymin, label, size='x-large', color='white', bbox={'facecolor':'green', 'alpha':1.0})\n",
    "\n",
    "for box in y_pred_thresh_2[i]:\n",
    "    xmin = box[2] * orig_images[0].shape[1] / img_width\n",
    "    ymin = box[3] * orig_images[0].shape[0] / img_height\n",
    "    xmax = box[4] * orig_images[0].shape[1] / img_width\n",
    "    ymax = box[5] * orig_images[0].shape[0] / img_height\n",
    "    color = colors[int(box[0])]\n",
    "    label = '{}: {:.2f}'.format(classes[int(box[0])], box[1])\n",
    "    current_axis.add_patch(plt.Rectangle((xmin, ymin), xmax-xmin, ymax-ymin, color=color, fill=False, linewidth=2))  \n",
    "    current_axis.text(xmin, ymin, label, size='x-large', color='white', bbox={'facecolor':color, 'alpha':1.0})\n"
   ]
  },
  {
   "cell_type": "code",
   "execution_count": null,
   "metadata": {},
   "outputs": [],
   "source": [
    "plt.figure(figsize=(20,12))\n",
    "plt.imshow(batch_original_images[i])\n",
    "\n",
    "current_axis = plt.gca()\n",
    "\n",
    "for box in batch_original_labels[i]:\n",
    "    xmin = box[1]\n",
    "    ymin = box[2]\n",
    "    xmax = box[3]\n",
    "    ymax = box[4]\n",
    "    label = '{}'.format(classes[int(box[0])])\n",
    "    current_axis.add_patch(plt.Rectangle((xmin, ymin), xmax-xmin, ymax-ymin, color='green', fill=False, linewidth=2))  \n",
    "    current_axis.text(xmin, ymin, label, size='x-large', color='white', bbox={'facecolor':'green', 'alpha':1.0})\n",
    "\n",
    "for box in y_pred_thresh_2_p[i]:\n",
    "    xmin = box[2] * orig_images[0].shape[1] / img_width\n",
    "    ymin = box[3] * orig_images[0].shape[0] / img_height\n",
    "    xmax = box[4] * orig_images[0].shape[1] / img_width\n",
    "    ymax = box[5] * orig_images[0].shape[0] / img_height\n",
    "    color = colors[int(box[0])]\n",
    "    label = '{}: {:.2f}'.format(classes[int(box[0])], box[1])\n",
    "    current_axis.add_patch(plt.Rectangle((xmin, ymin), xmax-xmin, ymax-ymin, color=color, fill=False, linewidth=2))  \n",
    "    current_axis.text(xmin, ymin, label, size='x-large', color='white', bbox={'facecolor':color, 'alpha':1.0})\n"
   ]
  },
  {
   "cell_type": "code",
   "execution_count": null,
   "metadata": {},
   "outputs": [],
   "source": [
    "plt.figure(figsize=(20,12))\n",
    "plt.imshow(batch_original_images1[i])\n",
    "\n",
    "current_axis = plt.gca()\n",
    "\n",
    "for box in batch_original_labels1[i]:\n",
    "    xmin = box[1]\n",
    "    ymin = box[2]\n",
    "    xmax = box[3]\n",
    "    ymax = box[4]\n",
    "    label = '{}'.format(classes[int(box[0])])\n",
    "    current_axis.add_patch(plt.Rectangle((xmin, ymin), xmax-xmin, ymax-ymin, color='green', fill=False, linewidth=2))  \n",
    "    current_axis.text(xmin, ymin, label, size='x-large', color='white', bbox={'facecolor':'green', 'alpha':1.0})\n",
    "\n",
    "for box in y_pred_thresh_1_p[i]:\n",
    "    xmin = box[2] * orig_images[0].shape[1] / img_width\n",
    "    ymin = box[3] * orig_images[0].shape[0] / img_height\n",
    "    xmax = box[4] * orig_images[0].shape[1] / img_width\n",
    "    ymax = box[5] * orig_images[0].shape[0] / img_height\n",
    "    color = colors[int(box[0])]\n",
    "    label = '{}: {:.2f}'.format(classes[int(box[0])], box[1])\n",
    "    current_axis.add_patch(plt.Rectangle((xmin, ymin), xmax-xmin, ymax-ymin, color=color, fill=False, linewidth=2))  \n",
    "    current_axis.text(xmin, ymin, label, size='x-large', color='white', bbox={'facecolor':color, 'alpha':1.0})\n"
   ]
  },
  {
   "cell_type": "code",
   "execution_count": null,
   "metadata": {},
   "outputs": [],
   "source": []
  }
 ],
 "metadata": {
  "kernelspec": {
   "display_name": "Python 3",
   "language": "python",
   "name": "python3"
  },
  "language_info": {
   "codemirror_mode": {
    "name": "ipython",
    "version": 3
   },
   "file_extension": ".py",
   "mimetype": "text/x-python",
   "name": "python",
   "nbconvert_exporter": "python",
   "pygments_lexer": "ipython3",
   "version": "3.5.2"
  }
 },
 "nbformat": 4,
 "nbformat_minor": 2
}
