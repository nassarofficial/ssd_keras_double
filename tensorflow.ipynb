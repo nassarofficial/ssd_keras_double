{
 "cells": [
  {
   "cell_type": "code",
   "execution_count": 1,
   "metadata": {},
   "outputs": [
    {
     "name": "stderr",
     "output_type": "stream",
     "text": [
      "Using TensorFlow backend.\n"
     ]
    }
   ],
   "source": [
    "from keras import backend as K\n",
    "import tensorflow as tf\n",
    "from math import ceil\n",
    "import numpy as np\n",
    "import math\n",
    "from ssd_encoder_decoder.matching_utils import match_bipartite_greedy32\n",
    "from bounding_box_utils.bounding_box_utils import iou_float, convert_coordinates\n",
    "import timeit"
   ]
  },
  {
   "cell_type": "code",
   "execution_count": 2,
   "metadata": {},
   "outputs": [],
   "source": [
    "sess = tf.Session()\n",
    "sess.run(tf.global_variables_initializer())\n",
    "K.set_session(sess)\n",
    "K.clear_session()\n",
    "\n",
    "def eva(x):\n",
    "    return(K.eval(x))"
   ]
  },
  {
   "cell_type": "code",
   "execution_count": 3,
   "metadata": {},
   "outputs": [],
   "source": [
    "def tf_intersection_area_(boxes1, boxes2, coords='corners', mode='outer_product', border_pixels='half'):\n",
    "    m = tf.shape(boxes1)[0]\n",
    "    n = tf.shape(boxes2)[0]\n",
    "    \n",
    "    xmin = 0\n",
    "    ymin = 1\n",
    "    xmax = 2\n",
    "    ymax = 3\n",
    "\n",
    "    d = 0\n",
    "    \n",
    "    box1xminxmax = tf.slice(boxes1, [0, 0], [m, xmax])\n",
    "    box2xminxmax = tf.slice(boxes2, [0, 0], [n, xmax])                      \n",
    "                            \n",
    "    min_xy = tf.maximum(tf.tile(tf.expand_dims(box1xminxmax,1),[1, n, 1]),\n",
    "                        tf.tile(tf.expand_dims(box2xminxmax,0),[m, 1, 1]))\n",
    "    \n",
    "    box1xmaxymax = tf.slice(boxes1, [0, 2], [m, 2])\n",
    "    box2xmaxymax = tf.slice(boxes2, [0, 2], [n, 2])                      \n",
    "\n",
    "    max_xy = tf.minimum(tf.tile(tf.expand_dims(box1xmaxymax,1),[1, n, 1]),\n",
    "                    tf.tile(tf.expand_dims(box2xmaxymax,0),[m, 1, 1]))\n",
    "\n",
    "    side_lengths = tf.maximum(tf.cast(0, dtype=tf.int64), tf.add(tf.subtract(max_xy,min_xy),d))\n",
    "\n",
    "    return tf.multiply(side_lengths[:,:,0],side_lengths[:,:,1])"
   ]
  },
  {
   "cell_type": "code",
   "execution_count": 4,
   "metadata": {},
   "outputs": [],
   "source": [
    "def tf_iou(boxes1, boxes2, coords='centroids', mode='outer_product', border_pixels='half'):\n",
    "\n",
    "    intersection_areas = tf_intersection_area_(boxes1, boxes2, coords=coords, mode=mode)\n",
    "    m = tf.shape(boxes1)[0]\n",
    "    n = tf.shape(boxes2)[0]\n",
    "    \n",
    "    xmin = 0\n",
    "    ymin = 1\n",
    "    xmax = 2\n",
    "    ymax = 3\n",
    "\n",
    "    d = 0\n",
    "    \n",
    "    boxes1_areas = tf.tile(tf.expand_dims(tf.multiply(tf.add(tf.subtract(boxes1[:,xmax],boxes1[:,xmin]),d),tf.add(tf.subtract(boxes1[:,ymax],boxes1[:,ymin]),d)), 1), [1,n])\n",
    "    boxes2_areas = tf.tile(tf.expand_dims(tf.multiply(tf.add(tf.subtract(boxes2[:,xmax],boxes2[:,xmin]),d),tf.add(tf.subtract(boxes2[:,ymax],boxes2[:,ymin]),d)), 0), [m,1])\n",
    "    \n",
    "    union_areas = tf.subtract(tf.add(boxes1_areas,boxes2_areas),intersection_areas)\n",
    "    op = tf.divide(intersection_areas,union_areas)\n",
    "    return op"
   ]
  },
  {
   "cell_type": "code",
   "execution_count": 5,
   "metadata": {},
   "outputs": [],
   "source": [
    "y = np.load('y_pred.npy')\n",
    "x = np.load('y_true.npy')\n",
    "\n",
    "y = tf.convert_to_tensor(y)\n",
    "x = tf.convert_to_tensor(x)\n",
    "\n",
    "t = tf_iou(x,y)"
   ]
  },
  {
   "cell_type": "code",
   "execution_count": 143,
   "metadata": {},
   "outputs": [],
   "source": [
    "def match_bipartite_greedy_tf(weight_matrix):\n",
    "    weight_matrix = tf.identity(weight_matrix)\n",
    "    num_ground_truth_boxes = tf.cast(tf.shape(weight_matrix)[0], dtype=tf.int32)\n",
    "    all_gt_indices = tf.range(num_ground_truth_boxes)\n",
    "    matches = tf.zeros([num_ground_truth_boxes], tf.int64)\n",
    "    \n",
    "    print(\"matches:\", K.eval(matches).shape)\n",
    "    \n",
    "    #for loop here\n",
    "    anchor_indices = tf.argmax(weight_matrix, axis=1)\n",
    "    anchor_indices = tf.cast(anchor_indices,dtype=tf.int32)\n",
    "    c = tf.stack([all_gt_indices, anchor_indices], axis=1)\n",
    "    overlaps = tf.gather_nd(weight_matrix,c)\n",
    "    ground_truth_index = tf.argmax(overlaps)\n",
    "    anchor_index = anchor_indices[ground_truth_index]\n",
    "\n",
    "    matches = tf.scatter_update(matches,[ground_truth_index],anchor_index)\n",
    "    print(\"matches:\", K.eval(matches).shape)\n",
    "    \n",
    "    matches[ground_truth_index] = [anchor_index]\n",
    "    \n",
    "    weight_matrix[ground_truth_index] = 0\n",
    "    weight_matrix[:,anchor_index] = 0\n",
    "    return matches\n",
    "    "
   ]
  },
  {
   "cell_type": "code",
   "execution_count": 144,
   "metadata": {},
   "outputs": [
    {
     "name": "stdout",
     "output_type": "stream",
     "text": [
      "matches: (50,)\n"
     ]
    },
    {
     "ename": "TypeError",
     "evalue": "'ScatterUpdate' Op requires that input 'ref' be a mutable tensor (e.g.: a tf.Variable)",
     "output_type": "error",
     "traceback": [
      "\u001b[0;31m---------------------------------------------------------------------------\u001b[0m",
      "\u001b[0;31mTypeError\u001b[0m                                 Traceback (most recent call last)",
      "\u001b[0;32m<ipython-input-144-6b77a0f78715>\u001b[0m in \u001b[0;36m<module>\u001b[0;34m()\u001b[0m\n\u001b[0;32m----> 1\u001b[0;31m \u001b[0mmatch_bipartite_greedy_tf\u001b[0m\u001b[0;34m(\u001b[0m\u001b[0mt\u001b[0m\u001b[0;34m)\u001b[0m\u001b[0;34m\u001b[0m\u001b[0m\n\u001b[0m",
      "\u001b[0;32m<ipython-input-143-2da1e60cf198>\u001b[0m in \u001b[0;36mmatch_bipartite_greedy_tf\u001b[0;34m(weight_matrix)\u001b[0m\n\u001b[1;32m     15\u001b[0m     \u001b[0manchor_index\u001b[0m \u001b[0;34m=\u001b[0m \u001b[0manchor_indices\u001b[0m\u001b[0;34m[\u001b[0m\u001b[0mground_truth_index\u001b[0m\u001b[0;34m]\u001b[0m\u001b[0;34m\u001b[0m\u001b[0m\n\u001b[1;32m     16\u001b[0m \u001b[0;34m\u001b[0m\u001b[0m\n\u001b[0;32m---> 17\u001b[0;31m     \u001b[0mmatches\u001b[0m \u001b[0;34m=\u001b[0m \u001b[0mtf\u001b[0m\u001b[0;34m.\u001b[0m\u001b[0mscatter_update\u001b[0m\u001b[0;34m(\u001b[0m\u001b[0mmatches\u001b[0m\u001b[0;34m,\u001b[0m\u001b[0;34m[\u001b[0m\u001b[0mground_truth_index\u001b[0m\u001b[0;34m]\u001b[0m\u001b[0;34m,\u001b[0m\u001b[0manchor_index\u001b[0m\u001b[0;34m)\u001b[0m\u001b[0;34m\u001b[0m\u001b[0m\n\u001b[0m\u001b[1;32m     18\u001b[0m     \u001b[0mprint\u001b[0m\u001b[0;34m(\u001b[0m\u001b[0;34m\"matches:\"\u001b[0m\u001b[0;34m,\u001b[0m \u001b[0mK\u001b[0m\u001b[0;34m.\u001b[0m\u001b[0meval\u001b[0m\u001b[0;34m(\u001b[0m\u001b[0mmatches\u001b[0m\u001b[0;34m)\u001b[0m\u001b[0;34m.\u001b[0m\u001b[0mshape\u001b[0m\u001b[0;34m)\u001b[0m\u001b[0;34m\u001b[0m\u001b[0m\n\u001b[1;32m     19\u001b[0m \u001b[0;34m\u001b[0m\u001b[0m\n",
      "\u001b[0;32m~/tf3/lib/python3.5/site-packages/tensorflow/python/ops/gen_state_ops.py\u001b[0m in \u001b[0;36mscatter_update\u001b[0;34m(ref, indices, updates, use_locking, name)\u001b[0m\n\u001b[1;32m    784\u001b[0m     _, _, _op = _op_def_lib._apply_op_helper(\n\u001b[1;32m    785\u001b[0m         \u001b[0;34m\"ScatterUpdate\"\u001b[0m\u001b[0;34m,\u001b[0m \u001b[0mref\u001b[0m\u001b[0;34m=\u001b[0m\u001b[0mref\u001b[0m\u001b[0;34m,\u001b[0m \u001b[0mindices\u001b[0m\u001b[0;34m=\u001b[0m\u001b[0mindices\u001b[0m\u001b[0;34m,\u001b[0m \u001b[0mupdates\u001b[0m\u001b[0;34m=\u001b[0m\u001b[0mupdates\u001b[0m\u001b[0;34m,\u001b[0m\u001b[0;34m\u001b[0m\u001b[0m\n\u001b[0;32m--> 786\u001b[0;31m         use_locking=use_locking, name=name)\n\u001b[0m\u001b[1;32m    787\u001b[0m     \u001b[0m_result\u001b[0m \u001b[0;34m=\u001b[0m \u001b[0m_op\u001b[0m\u001b[0;34m.\u001b[0m\u001b[0moutputs\u001b[0m\u001b[0;34m[\u001b[0m\u001b[0;34m:\u001b[0m\u001b[0;34m]\u001b[0m\u001b[0;34m\u001b[0m\u001b[0m\n\u001b[1;32m    788\u001b[0m     \u001b[0m_inputs_flat\u001b[0m \u001b[0;34m=\u001b[0m \u001b[0m_op\u001b[0m\u001b[0;34m.\u001b[0m\u001b[0minputs\u001b[0m\u001b[0;34m\u001b[0m\u001b[0m\n",
      "\u001b[0;32m~/tf3/lib/python3.5/site-packages/tensorflow/python/framework/op_def_library.py\u001b[0m in \u001b[0;36m_apply_op_helper\u001b[0;34m(self, op_type_name, name, **keywords)\u001b[0m\n\u001b[1;32m    639\u001b[0m             raise TypeError(\n\u001b[1;32m    640\u001b[0m                 (\"'%s' Op requires that input '%s' be a mutable tensor \"\n\u001b[0;32m--> 641\u001b[0;31m                  \"(e.g.: a tf.Variable)\") % (op_type_name, input_name))\n\u001b[0m\u001b[1;32m    642\u001b[0m           \u001b[0minput_types\u001b[0m\u001b[0;34m.\u001b[0m\u001b[0mextend\u001b[0m\u001b[0;34m(\u001b[0m\u001b[0mtypes\u001b[0m\u001b[0;34m)\u001b[0m\u001b[0;34m\u001b[0m\u001b[0m\n\u001b[1;32m    643\u001b[0m         \u001b[0;32melse\u001b[0m\u001b[0;34m:\u001b[0m\u001b[0;34m\u001b[0m\u001b[0m\n",
      "\u001b[0;31mTypeError\u001b[0m: 'ScatterUpdate' Op requires that input 'ref' be a mutable tensor (e.g.: a tf.Variable)"
     ]
    }
   ],
   "source": [
    "match_bipartite_greedy_tf(t)"
   ]
  },
  {
   "cell_type": "code",
   "execution_count": null,
   "metadata": {},
   "outputs": [],
   "source": []
  },
  {
   "cell_type": "code",
   "execution_count": 133,
   "metadata": {},
   "outputs": [],
   "source": [
    "v = tf.Variable(tf.zeros([5], tf.int64))"
   ]
  },
  {
   "cell_type": "code",
   "execution_count": 134,
   "metadata": {},
   "outputs": [],
   "source": [
    "v =  tf.zeros([5], tf.int64) "
   ]
  },
  {
   "cell_type": "code",
   "execution_count": 97,
   "metadata": {},
   "outputs": [
    {
     "data": {
      "text/plain": [
       "<tf.Tensor 'ScatterUpdate_4:0' shape=(5,) dtype=int64_ref>"
      ]
     },
     "execution_count": 97,
     "metadata": {},
     "output_type": "execute_result"
    }
   ],
   "source": [
    "tf.scatter_update(v,1,1)"
   ]
  },
  {
   "cell_type": "code",
   "execution_count": null,
   "metadata": {},
   "outputs": [],
   "source": []
  },
  {
   "cell_type": "code",
   "execution_count": null,
   "metadata": {},
   "outputs": [],
   "source": []
  },
  {
   "cell_type": "code",
   "execution_count": null,
   "metadata": {},
   "outputs": [],
   "source": []
  },
  {
   "cell_type": "code",
   "execution_count": null,
   "metadata": {},
   "outputs": [],
   "source": []
  },
  {
   "cell_type": "code",
   "execution_count": null,
   "metadata": {},
   "outputs": [],
   "source": []
  }
 ],
 "metadata": {
  "kernelspec": {
   "display_name": "Python 3",
   "language": "python",
   "name": "python3"
  },
  "language_info": {
   "codemirror_mode": {
    "name": "ipython",
    "version": 3
   },
   "file_extension": ".py",
   "mimetype": "text/x-python",
   "name": "python",
   "nbconvert_exporter": "python",
   "pygments_lexer": "ipython3",
   "version": "3.5.2"
  }
 },
 "nbformat": 4,
 "nbformat_minor": 2
}
