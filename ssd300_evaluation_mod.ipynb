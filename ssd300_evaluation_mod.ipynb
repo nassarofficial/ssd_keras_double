{
 "cells": [
  {
   "cell_type": "markdown",
   "metadata": {},
   "source": [
    "# SSD Evaluation Tutorial\n",
    "\n",
    "This is a brief tutorial that explains how compute the average precisions for any trained SSD model using the `Evaluator` class. The `Evaluator` computes the average precisions according to the Pascal VOC pre-2010 or post-2010 detection evaluation algorithms. You can find details about these computation methods [here](http://host.robots.ox.ac.uk/pascal/VOC/voc2012/htmldoc/devkit_doc.html#sec:ap).\n",
    "\n",
    "As an example we'll evaluate an SSD300 on the Pascal VOC 2007 `test` dataset, but note that the `Evaluator` works for any SSD model and any dataset that is compatible with the `DataGenerator`. If you would like to run the evaluation on a different model and/or dataset, the procedure is analogous to what is shown below, you just have to build the appropriate model and load the relevant dataset.\n",
    "\n",
    "Note: I that in case you would like to evaluate a model on MS COCO, I would recommend to follow the [MS COCO evaluation notebook](https://github.com/pierluigiferrari/ssd_keras/blob/master/ssd300_evaluation_COCO.ipynb) instead, because it can produce the results format required by the MS COCO evaluation server and uses the official MS COCO evaluation code, which computes the mAP slightly differently from the Pascal VOC method.\n",
    "\n",
    "Note: In case you want to evaluate any of the provided trained models, make sure that you build the respective model with the correct set of scaling factors to reproduce the official results. The models that were trained on MS COCO and fine-tuned on Pascal VOC require the MS COCO scaling factors, not the Pascal VOC scaling factors."
   ]
  },
  {
   "cell_type": "code",
   "execution_count": 1,
   "metadata": {},
   "outputs": [
    {
     "name": "stderr",
     "output_type": "stream",
     "text": [
      "Using TensorFlow backend.\n"
     ]
    }
   ],
   "source": [
    "from keras import backend as K\n",
    "from keras.models import load_model\n",
    "from keras.optimizers import Adam\n",
    "from scipy.misc import imread\n",
    "import numpy as np\n",
    "from matplotlib import pyplot as plt\n",
    "\n",
    "from models.keras_ssd300_mod import ssd_300\n",
    "from keras_loss_function.keras_ssd_loss_mod import SSDLoss\n",
    "from keras_loss_function.keras_ssd_loss_proj import SSDLoss_proj\n",
    "from keras_layers.keras_layer_AnchorBoxes import AnchorBoxes\n",
    "from keras_layers.keras_layer_DecodeDetections import DecodeDetections\n",
    "from keras_layers.keras_layer_DecodeDetectionsFast import DecodeDetectionsFast\n",
    "from keras_layers.keras_layer_L2Normalization import L2Normalization\n",
    "from data_generator.object_detection_2d_data_generator import DataGenerator\n",
    "from eval_utils.average_precision_evaluator_modified import Evaluator\n",
    "%matplotlib inline"
   ]
  },
  {
   "cell_type": "code",
   "execution_count": 2,
   "metadata": {},
   "outputs": [],
   "source": [
    "# Set a few configuration parameters.\n",
    "img_height = 300\n",
    "img_width = 600\n",
    "n_classes = 1\n",
    "model_mode = 'inference'"
   ]
  },
  {
   "cell_type": "markdown",
   "metadata": {},
   "source": [
    "## 1. Load a trained SSD\n",
    "\n",
    "Either load a trained model or build a model and load trained weights into it. Since the HDF5 files I'm providing contain only the weights for the various SSD versions, not the complete models, you'll have to go with the latter option when using this implementation for the first time. You can then of course save the model and next time load the full model directly, without having to build it.\n",
    "\n",
    "You can find the download links to all the trained model weights in the README."
   ]
  },
  {
   "cell_type": "markdown",
   "metadata": {},
   "source": [
    "### 1.1. Build the model and load trained weights into it"
   ]
  },
  {
   "cell_type": "code",
   "execution_count": 3,
   "metadata": {},
   "outputs": [
    {
     "name": "stderr",
     "output_type": "stream",
     "text": [
      "/home/nassar/gits/ssd_keras_double/models/keras_ssd300_mod.py:578: UserWarning: Update your `Model` call to the Keras 2 API: `Model(outputs=[<tf.Tenso..., inputs=[<tf.Tenso...)`\n",
      "  model = Model(input=[x],output=[mbox_conf, mbox_loc, mbox_priorbox])\n"
     ]
    }
   ],
   "source": [
    "# 1: Build the Keras model\n",
    "\n",
    "K.clear_session() # Clear previous models from memory.\n",
    "\n",
    "model = ssd_300(image_size=(img_height, img_width, 3),\n",
    "                n_classes=n_classes,\n",
    "                mode=model_mode,\n",
    "                l2_regularization=0.0005,\n",
    "                scales=[0.1, 0.2, 0.37, 0.54, 0.71, 0.88, 1.05], # The scales for MS COCO [0.07, 0.15, 0.33, 0.51, 0.69, 0.87, 1.05]\n",
    "                aspect_ratios_per_layer=[[1.0, 2.0, 0.5],\n",
    "                                         [1.0, 2.0, 0.5, 3.0, 1.0/3.0],\n",
    "                                         [1.0, 2.0, 0.5, 3.0, 1.0/3.0],\n",
    "                                         [1.0, 2.0, 0.5, 3.0, 1.0/3.0],\n",
    "                                         [1.0, 2.0, 0.5],\n",
    "                                         [1.0, 2.0, 0.5]],\n",
    "                two_boxes_for_ar1=True,\n",
    "                steps=[8, 16, 32, 64, 100, 300],\n",
    "                offsets=[0.5, 0.5, 0.5, 0.5, 0.5, 0.5],\n",
    "                clip_boxes=False,\n",
    "                variances=[0.1, 0.1, 0.2, 0.2],\n",
    "                normalize_coords=True,\n",
    "                subtract_mean=[123, 117, 104],\n",
    "                swap_channels=[2, 1, 0],\n",
    "                confidence_thresh=0.01,\n",
    "                iou_threshold=0.5,\n",
    "                top_k=200,\n",
    "                nms_max_output_size=400)\n",
    "\n",
    "# 2: Load the trained weights into the model.\n",
    "\n",
    "# TODO: Set the path of the trained weights.\n",
    "weights_path = 'checkpoints/EXP10/train_10_double_ssd300_pascal_07+12_epoch-29_loss-15.8021_val_loss-14.5090.h5'\n",
    "\n",
    "model.load_weights(weights_path, by_name=True)\n",
    "\n",
    "# 3: Compile the model so that Keras won't complain the next time you load it.\n",
    "\n",
    "adam = Adam(lr=0.001, beta_1=0.9, beta_2=0.999, epsilon=1e-08, decay=0.0)\n",
    "\n",
    "ssd_loss = SSDLoss(neg_pos_ratio=3, alpha=1.0)\n",
    "\n",
    "model.compile(optimizer=adam, loss=ssd_loss.compute_loss)"
   ]
  },
  {
   "cell_type": "markdown",
   "metadata": {},
   "source": [
    "## 2. Create a data generator for the evaluation dataset\n",
    "\n",
    "Instantiate a `DataGenerator` that will serve the evaluation dataset during the prediction phase."
   ]
  },
  {
   "cell_type": "code",
   "execution_count": 4,
   "metadata": {},
   "outputs": [
    {
     "name": "stdout",
     "output_type": "stream",
     "text": [
      "Processing image set 'test.txt': 100%|██████████| 449/449 [00:13<00:00, 31.12it/s]\n"
     ]
    }
   ],
   "source": [
    "dataset = DataGenerator()\n",
    "\n",
    "# TODO: Set the paths to the dataset here.\n",
    "VOC_2007_images_dir      = '../datasets/Images/'\n",
    "VOC_2007_annotations_dir      = '../datasets/VOC/Pasadena/Annotations_Neu/'\n",
    "VOC_2007_test_image_set_filename     = '../datasets/VOC/Pasadena/ImageSets/Main/reid_neu/test.txt'\n",
    "\n",
    "# The XML parser needs to now what object class names to look for and in which order to map them to integers.\n",
    "classes = ['background',\n",
    "           'tree']\n",
    "\n",
    "dataset.parse_xml(images_dirs=[VOC_2007_images_dir],\n",
    "                  image_set_filenames=[VOC_2007_test_image_set_filename],\n",
    "                  annotations_dirs=[VOC_2007_annotations_dir],\n",
    "                  classes=classes,\n",
    "                  include_classes='all',\n",
    "                  exclude_truncated=False,\n",
    "                  exclude_difficult=False,\n",
    "                  ret=False)"
   ]
  },
  {
   "cell_type": "markdown",
   "metadata": {},
   "source": [
    "## 3. Run the evaluation\n",
    "\n",
    "Now that we have instantiated a model and a data generator to serve the dataset, we can set up the evaluator and run the evaluation.\n",
    "\n",
    "The evaluator is quite flexible: It can compute the average precisions according to the Pascal VOC pre-2010 algorithm, which samples 11 equidistant points of the precision-recall curves, or according to the Pascal VOC post-2010 algorithm, which integrates numerically over the entire precision-recall curves instead of sampling a few individual points. You could also change the number of sampled recall points or the required IoU overlap for a prediction to be considered a true positive, among other things. Check out the `Evaluator`'s documentation for details on all the arguments.\n",
    "\n",
    "In its default settings, the evaluator's algorithm is identical to the official Pascal VOC pre-2010 Matlab detection evaluation algorithm, so you don't really need to tweak anything unless you want to.\n",
    "\n",
    "The evaluator roughly performs the following steps: It runs predictions over the entire given dataset, then it matches these predictions to the ground truth boxes, then it computes the precision-recall curves for each class, then it samples 11 equidistant points from these precision-recall curves to compute the average precision for each class, and finally it computes the mean average precision over all classes."
   ]
  },
  {
   "cell_type": "code",
   "execution_count": 5,
   "metadata": {
    "scrolled": false
   },
   "outputs": [],
   "source": [
    "evaluator = Evaluator(model=model,\n",
    "                      n_classes=n_classes,\n",
    "                      data_generator=dataset,\n",
    "                      model_mode=model_mode)"
   ]
  },
  {
   "cell_type": "code",
   "execution_count": 6,
   "metadata": {},
   "outputs": [
    {
     "name": "stdout",
     "output_type": "stream",
     "text": [
      "____________________________________________________________________________________________________\n",
      "Layer (type)                     Output Shape          Param #     Connected to                     \n",
      "====================================================================================================\n",
      "input_1 (InputLayer)             (None, 300, 600, 3)   0                                            \n",
      "____________________________________________________________________________________________________\n",
      "input_2 (InputLayer)             (None, 300, 600, 3)   0                                            \n",
      "____________________________________________________________________________________________________\n",
      "identity_layer__1 (Lambda)       (None, 300, 600, 3)   0           input_1[0][0]                    \n",
      "____________________________________________________________________________________________________\n",
      "identity_layer__2 (Lambda)       (None, 300, 600, 3)   0           input_2[0][0]                    \n",
      "____________________________________________________________________________________________________\n",
      "input_mean_normalization__1 (Lam (None, 300, 600, 3)   0           identity_layer__1[0][0]          \n",
      "____________________________________________________________________________________________________\n",
      "input_mean_normalization__2 (Lam (None, 300, 600, 3)   0           identity_layer__2[0][0]          \n",
      "____________________________________________________________________________________________________\n",
      "input_channel_swap__1 (Lambda)   (None, 300, 600, 3)   0           input_mean_normalization__1[0][0]\n",
      "____________________________________________________________________________________________________\n",
      "input_channel_swap__2 (Lambda)   (None, 300, 600, 3)   0           input_mean_normalization__2[0][0]\n",
      "____________________________________________________________________________________________________\n",
      "conv1_1__1 (Conv2D)              (None, 300, 600, 64)  1792        input_channel_swap__1[0][0]      \n",
      "____________________________________________________________________________________________________\n",
      "conv1_1__2 (Conv2D)              (None, 300, 600, 64)  1792        input_channel_swap__2[0][0]      \n",
      "____________________________________________________________________________________________________\n",
      "conv1_2__1 (Conv2D)              (None, 300, 600, 64)  36928       conv1_1__1[0][0]                 \n",
      "____________________________________________________________________________________________________\n",
      "conv1_2__2 (Conv2D)              (None, 300, 600, 64)  36928       conv1_1__2[0][0]                 \n",
      "____________________________________________________________________________________________________\n",
      "pool1__1 (MaxPooling2D)          (None, 150, 300, 64)  0           conv1_2__1[0][0]                 \n",
      "____________________________________________________________________________________________________\n",
      "pool1__2 (MaxPooling2D)          (None, 150, 300, 64)  0           conv1_2__2[0][0]                 \n",
      "____________________________________________________________________________________________________\n",
      "conv2_1__1 (Conv2D)              (None, 150, 300, 128) 73856       pool1__1[0][0]                   \n",
      "____________________________________________________________________________________________________\n",
      "conv2_1__2 (Conv2D)              (None, 150, 300, 128) 73856       pool1__2[0][0]                   \n",
      "____________________________________________________________________________________________________\n",
      "conv2_2__1 (Conv2D)              (None, 150, 300, 128) 147584      conv2_1__1[0][0]                 \n",
      "____________________________________________________________________________________________________\n",
      "conv2_2__2 (Conv2D)              (None, 150, 300, 128) 147584      conv2_1__2[0][0]                 \n",
      "____________________________________________________________________________________________________\n",
      "pool2__1 (MaxPooling2D)          (None, 75, 150, 128)  0           conv2_2__1[0][0]                 \n",
      "____________________________________________________________________________________________________\n",
      "pool2__2 (MaxPooling2D)          (None, 75, 150, 128)  0           conv2_2__2[0][0]                 \n",
      "____________________________________________________________________________________________________\n",
      "conv3_1__1 (Conv2D)              (None, 75, 150, 256)  295168      pool2__1[0][0]                   \n",
      "____________________________________________________________________________________________________\n",
      "conv3_1__2 (Conv2D)              (None, 75, 150, 256)  295168      pool2__2[0][0]                   \n",
      "____________________________________________________________________________________________________\n",
      "conv3_2__1 (Conv2D)              (None, 75, 150, 256)  590080      conv3_1__1[0][0]                 \n",
      "____________________________________________________________________________________________________\n",
      "conv3_2__2 (Conv2D)              (None, 75, 150, 256)  590080      conv3_1__2[0][0]                 \n",
      "____________________________________________________________________________________________________\n",
      "conv3_3__1 (Conv2D)              (None, 75, 150, 256)  590080      conv3_2__1[0][0]                 \n",
      "____________________________________________________________________________________________________\n",
      "conv3_3__2 (Conv2D)              (None, 75, 150, 256)  590080      conv3_2__2[0][0]                 \n",
      "____________________________________________________________________________________________________\n",
      "pool3__1 (MaxPooling2D)          (None, 38, 75, 256)   0           conv3_3__1[0][0]                 \n",
      "____________________________________________________________________________________________________\n",
      "pool3__2 (MaxPooling2D)          (None, 38, 75, 256)   0           conv3_3__2[0][0]                 \n",
      "____________________________________________________________________________________________________\n",
      "conv4_1__1 (Conv2D)              (None, 38, 75, 512)   1180160     pool3__1[0][0]                   \n",
      "____________________________________________________________________________________________________\n",
      "conv4_1__2 (Conv2D)              (None, 38, 75, 512)   1180160     pool3__2[0][0]                   \n",
      "____________________________________________________________________________________________________\n",
      "conv4_2__1 (Conv2D)              (None, 38, 75, 512)   2359808     conv4_1__1[0][0]                 \n",
      "____________________________________________________________________________________________________\n",
      "conv4_2__2 (Conv2D)              (None, 38, 75, 512)   2359808     conv4_1__2[0][0]                 \n",
      "____________________________________________________________________________________________________\n",
      "conv4_3__1 (Conv2D)              (None, 38, 75, 512)   2359808     conv4_2__1[0][0]                 \n",
      "____________________________________________________________________________________________________\n",
      "conv4_3__2 (Conv2D)              (None, 38, 75, 512)   2359808     conv4_2__2[0][0]                 \n",
      "____________________________________________________________________________________________________\n",
      "pool4__1 (MaxPooling2D)          (None, 19, 38, 512)   0           conv4_3__1[0][0]                 \n",
      "____________________________________________________________________________________________________\n",
      "pool4__2 (MaxPooling2D)          (None, 19, 38, 512)   0           conv4_3__2[0][0]                 \n",
      "____________________________________________________________________________________________________\n",
      "conv5_1__1 (Conv2D)              (None, 19, 38, 512)   2359808     pool4__1[0][0]                   \n",
      "____________________________________________________________________________________________________\n",
      "conv5_1__2 (Conv2D)              (None, 19, 38, 512)   2359808     pool4__2[0][0]                   \n",
      "____________________________________________________________________________________________________\n",
      "conv5_2__1 (Conv2D)              (None, 19, 38, 512)   2359808     conv5_1__1[0][0]                 \n",
      "____________________________________________________________________________________________________\n",
      "conv5_2__2 (Conv2D)              (None, 19, 38, 512)   2359808     conv5_1__2[0][0]                 \n",
      "____________________________________________________________________________________________________\n",
      "conv5_3__1 (Conv2D)              (None, 19, 38, 512)   2359808     conv5_2__1[0][0]                 \n",
      "____________________________________________________________________________________________________\n",
      "conv5_3__2 (Conv2D)              (None, 19, 38, 512)   2359808     conv5_2__2[0][0]                 \n",
      "____________________________________________________________________________________________________\n",
      "pool5__1 (MaxPooling2D)          (None, 19, 38, 512)   0           conv5_3__1[0][0]                 \n",
      "____________________________________________________________________________________________________\n",
      "pool5__2 (MaxPooling2D)          (None, 19, 38, 512)   0           conv5_3__2[0][0]                 \n",
      "____________________________________________________________________________________________________\n",
      "fc6__1 (Conv2D)                  (None, 19, 38, 1024)  4719616     pool5__1[0][0]                   \n",
      "____________________________________________________________________________________________________\n",
      "fc6__2 (Conv2D)                  (None, 19, 38, 1024)  4719616     pool5__2[0][0]                   \n",
      "____________________________________________________________________________________________________\n",
      "fc7__1 (Conv2D)                  (None, 19, 38, 1024)  1049600     fc6__1[0][0]                     \n",
      "____________________________________________________________________________________________________\n",
      "fc7__2 (Conv2D)                  (None, 19, 38, 1024)  1049600     fc6__2[0][0]                     \n",
      "____________________________________________________________________________________________________\n",
      "conv6_1__1 (Conv2D)              (None, 19, 38, 256)   262400      fc7__1[0][0]                     \n",
      "____________________________________________________________________________________________________\n",
      "conv6_1__2 (Conv2D)              (None, 19, 38, 256)   262400      fc7__2[0][0]                     \n",
      "____________________________________________________________________________________________________\n",
      "conv6adding__1 (ZeroPadding2D)   (None, 21, 40, 256)   0           conv6_1__1[0][0]                 \n",
      "____________________________________________________________________________________________________\n",
      "conv6adding__2 (ZeroPadding2D)   (None, 21, 40, 256)   0           conv6_1__2[0][0]                 \n",
      "____________________________________________________________________________________________________\n",
      "conv6_2__1 (Conv2D)              (None, 10, 19, 512)   1180160     conv6adding__1[0][0]             \n",
      "____________________________________________________________________________________________________\n",
      "conv6_2__2 (Conv2D)              (None, 10, 19, 512)   1180160     conv6adding__2[0][0]             \n",
      "____________________________________________________________________________________________________\n",
      "conv7_1__1 (Conv2D)              (None, 10, 19, 128)   65664       conv6_2__1[0][0]                 \n",
      "____________________________________________________________________________________________________\n",
      "conv7_1__2 (Conv2D)              (None, 10, 19, 128)   65664       conv6_2__2[0][0]                 \n",
      "____________________________________________________________________________________________________\n",
      "conv7adding__1 (ZeroPadding2D)   (None, 12, 21, 128)   0           conv7_1__1[0][0]                 \n",
      "____________________________________________________________________________________________________\n",
      "conv7adding__2 (ZeroPadding2D)   (None, 12, 21, 128)   0           conv7_1__2[0][0]                 \n",
      "____________________________________________________________________________________________________\n",
      "conv7_2__1 (Conv2D)              (None, 5, 10, 256)    295168      conv7adding__1[0][0]             \n",
      "____________________________________________________________________________________________________\n",
      "conv7_2__2 (Conv2D)              (None, 5, 10, 256)    295168      conv7adding__2[0][0]             \n",
      "____________________________________________________________________________________________________\n",
      "conv8_1__1 (Conv2D)              (None, 5, 10, 128)    32896       conv7_2__1[0][0]                 \n",
      "____________________________________________________________________________________________________\n",
      "conv8_1__2 (Conv2D)              (None, 5, 10, 128)    32896       conv7_2__2[0][0]                 \n",
      "____________________________________________________________________________________________________\n",
      "conv8_2__1 (Conv2D)              (None, 3, 8, 256)     295168      conv8_1__1[0][0]                 \n",
      "____________________________________________________________________________________________________\n",
      "conv8_2__2 (Conv2D)              (None, 3, 8, 256)     295168      conv8_1__2[0][0]                 \n",
      "____________________________________________________________________________________________________\n",
      "conv9_1__1 (Conv2D)              (None, 3, 8, 128)     32896       conv8_2__1[0][0]                 \n",
      "____________________________________________________________________________________________________\n",
      "conv9_1__2 (Conv2D)              (None, 3, 8, 128)     32896       conv8_2__2[0][0]                 \n",
      "____________________________________________________________________________________________________\n",
      "conv4_3_norm__1 (L2Normalization (None, 38, 75, 512)   512         conv4_3__1[0][0]                 \n",
      "____________________________________________________________________________________________________\n",
      "conv9_2__1 (Conv2D)              (None, 1, 6, 256)     295168      conv9_1__1[0][0]                 \n",
      "____________________________________________________________________________________________________\n",
      "conv4_3_norm__2 (L2Normalization (None, 38, 75, 512)   512         conv4_3__2[0][0]                 \n",
      "____________________________________________________________________________________________________\n",
      "conv9_2__2 (Conv2D)              (None, 1, 6, 256)     295168      conv9_1__2[0][0]                 \n",
      "____________________________________________________________________________________________________\n",
      "conv4_3_norm_mbox_loc__1 (Conv2D (None, 38, 75, 16)    73744       conv4_3_norm__1[0][0]            \n",
      "____________________________________________________________________________________________________\n",
      "fc7_mbox_loc__1 (Conv2D)         (None, 19, 38, 24)    221208      fc7__1[0][0]                     \n",
      "____________________________________________________________________________________________________\n",
      "conv6_2_mbox_loc__1 (Conv2D)     (None, 10, 19, 24)    110616      conv6_2__1[0][0]                 \n",
      "____________________________________________________________________________________________________\n",
      "conv7_2_mbox_loc__1 (Conv2D)     (None, 5, 10, 24)     55320       conv7_2__1[0][0]                 \n",
      "____________________________________________________________________________________________________\n",
      "conv8_2_mbox_loc__1 (Conv2D)     (None, 3, 8, 16)      36880       conv8_2__1[0][0]                 \n"
     ]
    },
    {
     "name": "stdout",
     "output_type": "stream",
     "text": [
      "____________________________________________________________________________________________________\n",
      "conv9_2_mbox_loc__1 (Conv2D)     (None, 1, 6, 16)      36880       conv9_2__1[0][0]                 \n",
      "____________________________________________________________________________________________________\n",
      "conv4_3_norm_mbox_loc__2 (Conv2D (None, 38, 75, 16)    73744       conv4_3_norm__2[0][0]            \n",
      "____________________________________________________________________________________________________\n",
      "fc7_mbox_loc__2 (Conv2D)         (None, 19, 38, 24)    221208      fc7__2[0][0]                     \n",
      "____________________________________________________________________________________________________\n",
      "conv6_2_mbox_loc__2 (Conv2D)     (None, 10, 19, 24)    110616      conv6_2__2[0][0]                 \n",
      "____________________________________________________________________________________________________\n",
      "conv7_2_mbox_loc__2 (Conv2D)     (None, 5, 10, 24)     55320       conv7_2__2[0][0]                 \n",
      "____________________________________________________________________________________________________\n",
      "conv8_2_mbox_loc__2 (Conv2D)     (None, 3, 8, 16)      36880       conv8_2__2[0][0]                 \n",
      "____________________________________________________________________________________________________\n",
      "conv9_2_mbox_loc__2 (Conv2D)     (None, 1, 6, 16)      36880       conv9_2__2[0][0]                 \n",
      "____________________________________________________________________________________________________\n",
      "conv4_3_norm_mbox_conf__1 (Conv2 (None, 38, 75, 8)     36872       conv4_3_norm__1[0][0]            \n",
      "____________________________________________________________________________________________________\n",
      "fc7_mbox_conf__1 (Conv2D)        (None, 19, 38, 12)    110604      fc7__1[0][0]                     \n",
      "____________________________________________________________________________________________________\n",
      "conv6_2_mbox_conf__1 (Conv2D)    (None, 10, 19, 12)    55308       conv6_2__1[0][0]                 \n",
      "____________________________________________________________________________________________________\n",
      "conv7_2_mbox_conf__1 (Conv2D)    (None, 5, 10, 12)     27660       conv7_2__1[0][0]                 \n",
      "____________________________________________________________________________________________________\n",
      "conv8_2_mbox_conf__1 (Conv2D)    (None, 3, 8, 8)       18440       conv8_2__1[0][0]                 \n",
      "____________________________________________________________________________________________________\n",
      "conv9_2_mbox_conf__1 (Conv2D)    (None, 1, 6, 8)       18440       conv9_2__1[0][0]                 \n",
      "____________________________________________________________________________________________________\n",
      "conv4_3_norm_mbox_priorbox__1 (A (None, 38, 75, 4, 8)  0           conv4_3_norm_mbox_loc__1[0][0]   \n",
      "____________________________________________________________________________________________________\n",
      "fc7_mbox_priorbox__1 (AnchorBoxe (None, 19, 38, 6, 8)  0           fc7_mbox_loc__1[0][0]            \n",
      "____________________________________________________________________________________________________\n",
      "conv6_2_mbox_priorbox__1 (Anchor (None, 10, 19, 6, 8)  0           conv6_2_mbox_loc__1[0][0]        \n",
      "____________________________________________________________________________________________________\n",
      "conv7_2_mbox_priorbox__1 (Anchor (None, 5, 10, 6, 8)   0           conv7_2_mbox_loc__1[0][0]        \n",
      "____________________________________________________________________________________________________\n",
      "conv8_2_mbox_priorbox__1 (Anchor (None, 3, 8, 4, 8)    0           conv8_2_mbox_loc__1[0][0]        \n",
      "____________________________________________________________________________________________________\n",
      "conv9_2_mbox_priorbox__1 (Anchor (None, 1, 6, 4, 8)    0           conv9_2_mbox_loc__1[0][0]        \n",
      "____________________________________________________________________________________________________\n",
      "conv4_3_norm_mbox_conf__2 (Conv2 (None, 38, 75, 8)     36872       conv4_3_norm__2[0][0]            \n",
      "____________________________________________________________________________________________________\n",
      "fc7_mbox_conf__2 (Conv2D)        (None, 19, 38, 12)    110604      fc7__2[0][0]                     \n",
      "____________________________________________________________________________________________________\n",
      "conv6_2_mbox_conf__2 (Conv2D)    (None, 10, 19, 12)    55308       conv6_2__2[0][0]                 \n",
      "____________________________________________________________________________________________________\n",
      "conv7_2_mbox_conf__2 (Conv2D)    (None, 5, 10, 12)     27660       conv7_2__2[0][0]                 \n",
      "____________________________________________________________________________________________________\n",
      "conv8_2_mbox_conf__2 (Conv2D)    (None, 3, 8, 8)       18440       conv8_2__2[0][0]                 \n",
      "____________________________________________________________________________________________________\n",
      "conv9_2_mbox_conf__2 (Conv2D)    (None, 1, 6, 8)       18440       conv9_2__2[0][0]                 \n",
      "____________________________________________________________________________________________________\n",
      "conv4_3_norm_mbox_priorbox__2 (A (None, 38, 75, 4, 8)  0           conv4_3_norm_mbox_loc__2[0][0]   \n",
      "____________________________________________________________________________________________________\n",
      "fc7_mbox_priorbox__2 (AnchorBoxe (None, 19, 38, 6, 8)  0           fc7_mbox_loc__2[0][0]            \n",
      "____________________________________________________________________________________________________\n",
      "conv6_2_mbox_priorbox__2 (Anchor (None, 10, 19, 6, 8)  0           conv6_2_mbox_loc__2[0][0]        \n",
      "____________________________________________________________________________________________________\n",
      "conv7_2_mbox_priorbox__2 (Anchor (None, 5, 10, 6, 8)   0           conv7_2_mbox_loc__2[0][0]        \n",
      "____________________________________________________________________________________________________\n",
      "conv8_2_mbox_priorbox__2 (Anchor (None, 3, 8, 4, 8)    0           conv8_2_mbox_loc__2[0][0]        \n",
      "____________________________________________________________________________________________________\n",
      "conv9_2_mbox_priorbox__2 (Anchor (None, 1, 6, 4, 8)    0           conv9_2_mbox_loc__2[0][0]        \n",
      "____________________________________________________________________________________________________\n",
      "conv4_3_norm_mbox_conf_reshape__ (None, 11400, 2)      0           conv4_3_norm_mbox_conf__1[0][0]  \n",
      "____________________________________________________________________________________________________\n",
      "fc7_mbox_conf_reshape__1 (Reshap (None, 4332, 2)       0           fc7_mbox_conf__1[0][0]           \n",
      "____________________________________________________________________________________________________\n",
      "conv6_2_mbox_conf_reshape__1 (Re (None, 1140, 2)       0           conv6_2_mbox_conf__1[0][0]       \n",
      "____________________________________________________________________________________________________\n",
      "conv7_2_mbox_conf_reshape__1 (Re (None, 300, 2)        0           conv7_2_mbox_conf__1[0][0]       \n",
      "____________________________________________________________________________________________________\n",
      "conv8_2_mbox_conf_reshape__1 (Re (None, 96, 2)         0           conv8_2_mbox_conf__1[0][0]       \n",
      "____________________________________________________________________________________________________\n",
      "conv9_2_mbox_conf_reshape__1 (Re (None, 24, 2)         0           conv9_2_mbox_conf__1[0][0]       \n",
      "____________________________________________________________________________________________________\n",
      "conv4_3_norm_mbox_loc_reshape__1 (None, 11400, 4)      0           conv4_3_norm_mbox_loc__1[0][0]   \n",
      "____________________________________________________________________________________________________\n",
      "fc7_mbox_loc_reshape__1 (Reshape (None, 4332, 4)       0           fc7_mbox_loc__1[0][0]            \n",
      "____________________________________________________________________________________________________\n",
      "conv6_2_mbox_loc_reshape__1 (Res (None, 1140, 4)       0           conv6_2_mbox_loc__1[0][0]        \n",
      "____________________________________________________________________________________________________\n",
      "conv7_2_mbox_loc_reshape__1 (Res (None, 300, 4)        0           conv7_2_mbox_loc__1[0][0]        \n",
      "____________________________________________________________________________________________________\n",
      "conv8_2_mbox_loc_reshape__1 (Res (None, 96, 4)         0           conv8_2_mbox_loc__1[0][0]        \n",
      "____________________________________________________________________________________________________\n",
      "conv9_2_mbox_loc_reshape__1 (Res (None, 24, 4)         0           conv9_2_mbox_loc__1[0][0]        \n",
      "____________________________________________________________________________________________________\n",
      "conv4_3_norm_mbox_priorbox_resha (None, 11400, 8)      0           conv4_3_norm_mbox_priorbox__1[0][\n",
      "____________________________________________________________________________________________________\n",
      "fc7_mbox_priorbox_reshape__1 (Re (None, 4332, 8)       0           fc7_mbox_priorbox__1[0][0]       \n",
      "____________________________________________________________________________________________________\n",
      "conv6_2_mbox_priorbox_reshape__1 (None, 1140, 8)       0           conv6_2_mbox_priorbox__1[0][0]   \n",
      "____________________________________________________________________________________________________\n",
      "conv7_2_mbox_priorbox_reshape__1 (None, 300, 8)        0           conv7_2_mbox_priorbox__1[0][0]   \n",
      "____________________________________________________________________________________________________\n",
      "conv8_2_mbox_priorbox_reshape__1 (None, 96, 8)         0           conv8_2_mbox_priorbox__1[0][0]   \n",
      "____________________________________________________________________________________________________\n",
      "conv9_2_mbox_priorbox_reshape__1 (None, 24, 8)         0           conv9_2_mbox_priorbox__1[0][0]   \n",
      "____________________________________________________________________________________________________\n",
      "conv4_3_norm_mbox_conf_reshape__ (None, 11400, 2)      0           conv4_3_norm_mbox_conf__2[0][0]  \n",
      "____________________________________________________________________________________________________\n",
      "fc7_mbox_conf_reshape__2 (Reshap (None, 4332, 2)       0           fc7_mbox_conf__2[0][0]           \n",
      "____________________________________________________________________________________________________\n",
      "conv6_2_mbox_conf_reshape__2 (Re (None, 1140, 2)       0           conv6_2_mbox_conf__2[0][0]       \n",
      "____________________________________________________________________________________________________\n",
      "conv7_2_mbox_conf_reshape__2 (Re (None, 300, 2)        0           conv7_2_mbox_conf__2[0][0]       \n",
      "____________________________________________________________________________________________________\n",
      "conv8_2_mbox_conf_reshape__2 (Re (None, 96, 2)         0           conv8_2_mbox_conf__2[0][0]       \n",
      "____________________________________________________________________________________________________\n",
      "conv9_2_mbox_conf_reshape__2 (Re (None, 24, 2)         0           conv9_2_mbox_conf__2[0][0]       \n",
      "____________________________________________________________________________________________________\n",
      "conv4_3_norm_mbox_loc_reshape__2 (None, 11400, 4)      0           conv4_3_norm_mbox_loc__2[0][0]   \n",
      "____________________________________________________________________________________________________\n",
      "fc7_mbox_loc_reshape__2 (Reshape (None, 4332, 4)       0           fc7_mbox_loc__2[0][0]            \n",
      "____________________________________________________________________________________________________\n",
      "conv6_2_mbox_loc_reshape__2 (Res (None, 1140, 4)       0           conv6_2_mbox_loc__2[0][0]        \n",
      "____________________________________________________________________________________________________\n",
      "conv7_2_mbox_loc_reshape__2 (Res (None, 300, 4)        0           conv7_2_mbox_loc__2[0][0]        \n",
      "____________________________________________________________________________________________________\n",
      "conv8_2_mbox_loc_reshape__2 (Res (None, 96, 4)         0           conv8_2_mbox_loc__2[0][0]        \n",
      "____________________________________________________________________________________________________\n",
      "conv9_2_mbox_loc_reshape__2 (Res (None, 24, 4)         0           conv9_2_mbox_loc__2[0][0]        \n",
      "____________________________________________________________________________________________________\n",
      "conv4_3_norm_mbox_priorbox_resha (None, 11400, 8)      0           conv4_3_norm_mbox_priorbox__2[0][\n",
      "____________________________________________________________________________________________________\n",
      "fc7_mbox_priorbox_reshape__2 (Re (None, 4332, 8)       0           fc7_mbox_priorbox__2[0][0]       \n",
      "____________________________________________________________________________________________________\n",
      "conv6_2_mbox_priorbox_reshape__2 (None, 1140, 8)       0           conv6_2_mbox_priorbox__2[0][0]   \n",
      "____________________________________________________________________________________________________\n",
      "conv7_2_mbox_priorbox_reshape__2 (None, 300, 8)        0           conv7_2_mbox_priorbox__2[0][0]   \n",
      "____________________________________________________________________________________________________\n",
      "conv8_2_mbox_priorbox_reshape__2 (None, 96, 8)         0           conv8_2_mbox_priorbox__2[0][0]   \n",
      "____________________________________________________________________________________________________\n",
      "conv9_2_mbox_priorbox_reshape__2 (None, 24, 8)         0           conv9_2_mbox_priorbox__2[0][0]   \n",
      "____________________________________________________________________________________________________\n",
      "mbox_conf__1 (Concatenate)       (None, 17292, 2)      0           conv4_3_norm_mbox_conf_reshape__1\n",
      "                                                                   fc7_mbox_conf_reshape__1[0][0]   \n",
      "                                                                   conv6_2_mbox_conf_reshape__1[0][0\n",
      "                                                                   conv7_2_mbox_conf_reshape__1[0][0\n",
      "                                                                   conv8_2_mbox_conf_reshape__1[0][0\n",
      "                                                                   conv9_2_mbox_conf_reshape__1[0][0\n",
      "____________________________________________________________________________________________________\n",
      "mbox_loc__1 (Concatenate)        (None, 17292, 4)      0           conv4_3_norm_mbox_loc_reshape__1[\n",
      "                                                                   fc7_mbox_loc_reshape__1[0][0]    \n",
      "                                                                   conv6_2_mbox_loc_reshape__1[0][0]\n",
      "                                                                   conv7_2_mbox_loc_reshape__1[0][0]\n",
      "                                                                   conv8_2_mbox_loc_reshape__1[0][0]\n",
      "                                                                   conv9_2_mbox_loc_reshape__1[0][0]\n",
      "____________________________________________________________________________________________________\n",
      "mbox_priorbox__1 (Concatenate)   (None, 17292, 8)      0           conv4_3_norm_mbox_priorbox_reshap\n",
      "                                                                   fc7_mbox_priorbox_reshape__1[0][0\n",
      "                                                                   conv6_2_mbox_priorbox_reshape__1[\n",
      "                                                                   conv7_2_mbox_priorbox_reshape__1[\n",
      "                                                                   conv8_2_mbox_priorbox_reshape__1[\n",
      "                                                                   conv9_2_mbox_priorbox_reshape__1[\n",
      "____________________________________________________________________________________________________\n",
      "mbox_conf__2 (Concatenate)       (None, 17292, 2)      0           conv4_3_norm_mbox_conf_reshape__2\n",
      "                                                                   fc7_mbox_conf_reshape__2[0][0]   \n",
      "                                                                   conv6_2_mbox_conf_reshape__2[0][0\n",
      "                                                                   conv7_2_mbox_conf_reshape__2[0][0\n",
      "                                                                   conv8_2_mbox_conf_reshape__2[0][0\n",
      "                                                                   conv9_2_mbox_conf_reshape__2[0][0\n",
      "____________________________________________________________________________________________________\n",
      "mbox_loc__2 (Concatenate)        (None, 17292, 4)      0           conv4_3_norm_mbox_loc_reshape__2[\n",
      "                                                                   fc7_mbox_loc_reshape__2[0][0]    \n",
      "                                                                   conv6_2_mbox_loc_reshape__2[0][0]\n",
      "                                                                   conv7_2_mbox_loc_reshape__2[0][0]\n",
      "                                                                   conv8_2_mbox_loc_reshape__2[0][0]\n",
      "                                                                   conv9_2_mbox_loc_reshape__2[0][0]\n",
      "____________________________________________________________________________________________________\n",
      "mbox_priorbox__2 (Concatenate)   (None, 17292, 8)      0           conv4_3_norm_mbox_priorbox_reshap\n",
      "                                                                   fc7_mbox_priorbox_reshape__2[0][0\n",
      "                                                                   conv6_2_mbox_priorbox_reshape__2[\n",
      "                                                                   conv7_2_mbox_priorbox_reshape__2[\n",
      "                                                                   conv8_2_mbox_priorbox_reshape__2[\n",
      "                                                                   conv9_2_mbox_priorbox_reshape__2[\n",
      "____________________________________________________________________________________________________\n",
      "input_3 (InputLayer)             (None, 17292, 3)      0                                            \n",
      "____________________________________________________________________________________________________\n",
      "input_4 (InputLayer)             (None, 17292, 3)      0                                            \n",
      "____________________________________________________________________________________________________\n",
      "predictions_tot__1 (Concatenate) (None, 17292, 20)     0           mbox_conf__1[0][0]               \n",
      "                                                                   mbox_loc__1[0][0]                \n",
      "                                                                   mbox_priorbox__1[0][0]           \n",
      "                                                                   input_3[0][0]                    \n",
      "                                                                   input_4[0][0]                    \n",
      "____________________________________________________________________________________________________\n",
      "predictions_tot__2 (Concatenate) (None, 17292, 20)     0           mbox_conf__2[0][0]               \n",
      "                                                                   mbox_loc__2[0][0]                \n",
      "                                                                   mbox_priorbox__2[0][0]           \n",
      "                                                                   input_4[0][0]                    \n",
      "                                                                   input_3[0][0]                    \n",
      "____________________________________________________________________________________________________\n",
      "predictions__1_mbox_proj (Lambda (None, 17292, 4)      0           predictions_tot__1[0][0]         \n",
      "____________________________________________________________________________________________________\n",
      "predictions__2_mbox_proj (Lambda (None, 17292, 4)      0           predictions_tot__2[0][0]         \n",
      "____________________________________________________________________________________________________\n",
      "dense_1 (Dense)                  (None, 17292, 32)     160         predictions__1_mbox_proj[0][0]   \n",
      "____________________________________________________________________________________________________\n",
      "dense_5 (Dense)                  (None, 17292, 32)     160         predictions__2_mbox_proj[0][0]   \n",
      "____________________________________________________________________________________________________\n",
      "dense_2 (Dense)                  (None, 17292, 16)     528         dense_1[0][0]                    \n",
      "____________________________________________________________________________________________________\n",
      "dense_6 (Dense)                  (None, 17292, 16)     528         dense_5[0][0]                    \n",
      "____________________________________________________________________________________________________\n",
      "mbox_conf_softmax__1 (Activation (None, 17292, 2)      0           mbox_conf__1[0][0]               \n",
      "____________________________________________________________________________________________________\n",
      "lambda_2 (Lambda)                (None, 17292, 4)      0           mbox_loc__1[0][0]                \n",
      "____________________________________________________________________________________________________\n",
      "mbox_conf_softmax__2 (Activation (None, 17292, 2)      0           mbox_conf__2[0][0]               \n",
      "____________________________________________________________________________________________________\n",
      "dense_3 (Dense)                  (None, 17292, 8)      136         dense_2[0][0]                    \n",
      "____________________________________________________________________________________________________\n",
      "dense_7 (Dense)                  (None, 17292, 8)      136         dense_6[0][0]                    \n",
      "____________________________________________________________________________________________________\n",
      "predictions_1 (Concatenate)      (None, 17292, 18)     0           mbox_conf_softmax__1[0][0]       \n",
      "                                                                   mbox_loc__1[0][0]                \n",
      "                                                                   mbox_priorbox__1[0][0]           \n",
      "                                                                   lambda_2[0][0]                   \n",
      "____________________________________________________________________________________________________\n",
      "predictions_2 (Concatenate)      (None, 17292, 18)     0           mbox_conf_softmax__2[0][0]       \n",
      "                                                                   mbox_loc__2[0][0]                \n",
      "                                                                   mbox_priorbox__2[0][0]           \n",
      "                                                                   lambda_2[0][0]                   \n",
      "____________________________________________________________________________________________________\n",
      "dense_4 (Dense)                  (None, 17292, 4)      36          dense_3[0][0]                    \n",
      "____________________________________________________________________________________________________\n",
      "dense_8 (Dense)                  (None, 17292, 4)      36          dense_7[0][0]                    \n",
      "____________________________________________________________________________________________________\n",
      "predictions_1_to_2 (Concatenate) (None, 17292, 36)     0           predictions_1[0][0]              \n",
      "                                                                   mbox_conf_softmax__1[0][0]       \n",
      "                                                                   dense_4[0][0]                    \n",
      "                                                                   mbox_priorbox__2[0][0]           \n",
      "                                                                   lambda_2[0][0]                   \n",
      "____________________________________________________________________________________________________\n",
      "predictions_2_to_1 (Concatenate) (None, 17292, 36)     0           predictions_2[0][0]              \n",
      "                                                                   mbox_conf_softmax__2[0][0]       \n",
      "                                                                   dense_8[0][0]                    \n",
      "                                                                   mbox_priorbox__1[0][0]           \n",
      "                                                                   lambda_2[0][0]                   \n",
      "____________________________________________________________________________________________________\n",
      "predictions_inference (Concatena (None, 17292, 108)    0           predictions_1[0][0]              \n",
      "                                                                   predictions_2[0][0]              \n",
      "                                                                   predictions_1_to_2[0][0]         \n",
      "                                                                   predictions_2_to_1[0][0]         \n",
      "____________________________________________________________________________________________________\n",
      "decoded_predictions (DecodeDetec (None, <tf.Tensor 'to 0           predictions_inference[0][0]      \n",
      "====================================================================================================\n",
      "Total params: 47,493,536\n",
      "Trainable params: 47,493,536\n",
      "Non-trainable params: 0\n",
      "____________________________________________________________________________________________________\n"
     ]
    }
   ],
   "source": [
    "evaluator.model.summary()"
   ]
  },
  {
   "cell_type": "code",
   "execution_count": 7,
   "metadata": {},
   "outputs": [
    {
     "name": "stdout",
     "output_type": "stream",
     "text": [
      "Number of images in the evaluation dataset: 449\n",
      "\n",
      "Producing predictions batch-wise: 100%|██████████| 449/449 [01:20<00:00,  5.90it/s]\n",
      "Matching predictions to ground truth, class 1/1.: 100%|██████████| 89800/89800 [00:11<00:00, 8040.35it/s]\n",
      "Computing precisions and recalls, class 1/1\n",
      "Computing average precision, class 1/1\n"
     ]
    },
    {
     "name": "stderr",
     "output_type": "stream",
     "text": [
      "/home/nassar/gits/ssd_keras_double/eval_utils/average_precision_evaluator_modified.py:734: RuntimeWarning: invalid value encountered in true_divide\n",
      "  cumulative_precision = np.where(tp + fp > 0, tp / (tp + fp), 0) # 1D array with shape `(num_predictions,)`\n"
     ]
    }
   ],
   "source": [
    "results = evaluator(img_height=img_height,\n",
    "                    img_width=img_width,\n",
    "                    batch_size=1,\n",
    "                    data_generator_mode='resize',\n",
    "                    round_confidences=False,\n",
    "                    matching_iou_threshold=0.5,\n",
    "                    border_pixels='include',\n",
    "                    sorting_algorithm='quicksort',\n",
    "                    average_precision_mode='sample',\n",
    "                    num_recall_points=11,\n",
    "                    ignore_neutral_boxes=True,\n",
    "                    return_precisions=True,\n",
    "                    return_recalls=True,\n",
    "                    return_average_precisions=True,\n",
    "                    verbose=True)\n",
    "\n"
   ]
  },
  {
   "cell_type": "code",
   "execution_count": 8,
   "metadata": {},
   "outputs": [],
   "source": [
    "mean_average_precision, average_precisions, precisions, recalls = results"
   ]
  },
  {
   "cell_type": "markdown",
   "metadata": {
    "collapsed": true
   },
   "source": [
    "## 4. Visualize the results\n",
    "\n",
    "Let's take a look:"
   ]
  },
  {
   "cell_type": "code",
   "execution_count": 9,
   "metadata": {},
   "outputs": [
    {
     "name": "stdout",
     "output_type": "stream",
     "text": [
      "tree          AP    0.382\n",
      "\n",
      "              mAP   0.382\n"
     ]
    }
   ],
   "source": [
    "for i in range(1, len(average_precisions)):\n",
    "    print(\"{:<14}{:<6}{}\".format(classes[i], 'AP', round(average_precisions[i], 3)))\n",
    "print()\n",
    "print(\"{:<14}{:<6}{}\".format('','mAP', round(mean_average_precision, 3)))"
   ]
  },
  {
   "cell_type": "code",
   "execution_count": 10,
   "metadata": {
    "scrolled": false
   },
   "outputs": [
    {
     "data": {
      "image/png": "[encoded data removed]",
      "text/plain": [
       "<Figure size 1152x1152 with 4 Axes>"
      ]
     },
     "metadata": {
      "needs_background": "light"
     },
     "output_type": "display_data"
    }
   ],
   "source": [
    "m = max((n_classes + 1) // 2, 2)\n",
    "n = 2\n",
    "\n",
    "fig, cells = plt.subplots(m, n, figsize=(n*8,m*8))\n",
    "for i in range(m):\n",
    "    for j in range(n):\n",
    "        if n*i+j+1 > n_classes: break\n",
    "        cells[i, j].plot(recalls[n*i+j+1], precisions[n*i+j+1], color='blue', linewidth=1.0)\n",
    "        cells[i, j].set_xlabel('recall', fontsize=14)\n",
    "        cells[i, j].set_ylabel('precision', fontsize=14)\n",
    "        cells[i, j].grid(True)\n",
    "        cells[i, j].set_xticks(np.linspace(0,1,11))\n",
    "        cells[i, j].set_yticks(np.linspace(0,1,11))\n",
    "        cells[i, j].set_title(\"{}, AP: {:.3f}\".format(classes[n*i+j+1], average_precisions[n*i+j+1]), fontsize=16)\n"
   ]
  },
  {
   "cell_type": "markdown",
   "metadata": {},
   "source": [
    "## 5. Advanced use\n",
    "\n",
    "`Evaluator` objects maintain copies of all relevant intermediate results like predictions, precisions and recalls, etc., so in case you want to experiment with different parameters, e.g. different IoU overlaps, there is no need to compute the predictions all over again every time you make a change to a parameter. Instead, you can only update the computation from the point that is affected onwards.\n",
    "\n",
    "The evaluator's `__call__()` method is just a convenience wrapper that executes its other methods in the correct order. You could just call any of these other methods individually as shown below (but you have to make sure to call them in the correct order).\n",
    "\n",
    "Note that the example below uses the same evaluator object as above. Say you wanted to compute the Pascal VOC post-2010 'integrate' version of the average precisions instead of the pre-2010 version computed above. The evaluator object still has an internal copy of all the predictions, and since computing the predictions makes up the vast majority of the overall computation time and since the predictions aren't affected by changing the average precision computation mode, we skip computing the predictions again and instead only compute the steps that come after the prediction phase of the evaluation. We could even skip the matching part, since it isn't affected by changing the average precision mode either. In fact, we would only have to call `compute_average_precisions()` `compute_mean_average_precision()` again, but for the sake of illustration we'll re-do the other computations, too."
   ]
  },
  {
   "cell_type": "code",
   "execution_count": 11,
   "metadata": {},
   "outputs": [
    {
     "name": "stdout",
     "output_type": "stream",
     "text": [
      "Matching predictions to ground truth, class 1/1.: 100%|██████████| 89800/89800 [00:11<00:00, 8133.14it/s]\n",
      "Computing precisions and recalls, class 1/1\n",
      "Computing average precision, class 1/1\n"
     ]
    },
    {
     "name": "stderr",
     "output_type": "stream",
     "text": [
      "/home/nassar/gits/ssd_keras_double/eval_utils/average_precision_evaluator_modified.py:734: RuntimeWarning: invalid value encountered in true_divide\n",
      "  cumulative_precision = np.where(tp + fp > 0, tp / (tp + fp), 0) # 1D array with shape `(num_predictions,)`\n"
     ]
    }
   ],
   "source": [
    "evaluator.get_num_gt_per_class(ignore_neutral_boxes=True,\n",
    "                               verbose=False,\n",
    "                               ret=False)\n",
    "\n",
    "evaluator.match_predictions(ignore_neutral_boxes=True,\n",
    "                            matching_iou_threshold=0.45,\n",
    "                            border_pixels='include',\n",
    "                            sorting_algorithm='quicksort',\n",
    "                            verbose=True,\n",
    "                            ret=False)\n",
    "\n",
    "precisions, recalls = evaluator.compute_precision_recall(verbose=True, ret=True)\n",
    "\n",
    "average_precisions = evaluator.compute_average_precisions(mode='integrate',\n",
    "                                                          num_recall_points=11,\n",
    "                                                          verbose=True,\n",
    "                                                          ret=True)\n",
    "\n",
    "mean_average_precision = evaluator.compute_mean_average_precision(ret=True)"
   ]
  },
  {
   "cell_type": "code",
   "execution_count": 12,
   "metadata": {},
   "outputs": [
    {
     "name": "stdout",
     "output_type": "stream",
     "text": [
      "tree          AP    0.411\n",
      "\n",
      "              mAP   0.411\n"
     ]
    }
   ],
   "source": [
    "for i in range(1, len(average_precisions)):\n",
    "    print(\"{:<14}{:<6}{}\".format(classes[i], 'AP', round(average_precisions[i], 3)))\n",
    "print()\n",
    "print(\"{:<14}{:<6}{}\".format('','mAP', round(mean_average_precision, 3)))"
   ]
  },
  {
   "cell_type": "code",
   "execution_count": 13,
   "metadata": {},
   "outputs": [
    {
     "data": {
      "image/png": "[encoded data removed]",
      "text/plain": [
       "<Figure size 1152x1152 with 4 Axes>"
      ]
     },
     "metadata": {
      "needs_background": "light"
     },
     "output_type": "display_data"
    }
   ],
   "source": [
    "m = max((n_classes + 1) // 2, 2)\n",
    "n = 2\n",
    "\n",
    "fig, cells = plt.subplots(m, n, figsize=(n*8,m*8))\n",
    "for i in range(m):\n",
    "    for j in range(n):\n",
    "        if n*i+j+1 > n_classes: break\n",
    "        cells[i, j].plot(recalls[n*i+j+1], precisions[n*i+j+1], color='blue', linewidth=1.0)\n",
    "        cells[i, j].set_xlabel('recall', fontsize=14)\n",
    "        cells[i, j].set_ylabel('precision', fontsize=14)\n",
    "        cells[i, j].grid(True)\n",
    "        cells[i, j].set_xticks(np.linspace(0,1,11))\n",
    "        cells[i, j].set_yticks(np.linspace(0,1,11))\n",
    "        cells[i, j].set_title(\"{}, AP: {:.3f}\".format(classes[n*i+j+1], average_precisions[n*i+j+1]), fontsize=16)\n"
   ]
  },
  {
   "cell_type": "code",
   "execution_count": null,
   "metadata": {},
   "outputs": [],
   "source": []
  }
 ],
 "metadata": {
  "kernelspec": {
   "display_name": "Python 3",
   "language": "python",
   "name": "python3"
  },
  "language_info": {
   "codemirror_mode": {
    "name": "ipython",
    "version": 3
   },
   "file_extension": ".py",
   "mimetype": "text/x-python",
   "name": "python",
   "nbconvert_exporter": "python",
   "pygments_lexer": "ipython3",
   "version": "3.5.2"
  }
 },
 "nbformat": 4,
 "nbformat_minor": 2
}
